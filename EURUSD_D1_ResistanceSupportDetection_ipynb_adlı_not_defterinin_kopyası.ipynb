{
  "cells": [
    {
      "cell_type": "markdown",
      "metadata": {
        "id": "view-in-github",
        "colab_type": "text"
      },
      "source": [
        "<a href=\"https://colab.research.google.com/github/mstfkoc22/Asiri-Sapma-Stratejisi/blob/main/EURUSD_D1_ResistanceSupportDetection_ipynb_adl%C4%B1_not_defterinin_kopyas%C4%B1.ipynb\" target=\"_parent\"><img src=\"https://colab.research.google.com/assets/colab-badge.svg\" alt=\"Open In Colab\"/></a>"
      ]
    },
    {
      "cell_type": "markdown",
      "metadata": {
        "id": "MfbhUDyQq4uK"
      },
      "source": [
        "# Resistance/Support Detection"
      ]
    },
    {
      "cell_type": "code",
      "execution_count": 17,
      "metadata": {
        "scrolled": true,
        "id": "r3HH2rJiq4vQ",
        "outputId": "845ee709-e1f4-4a0c-d015-d88495097912",
        "colab": {
          "base_uri": "https://localhost:8080/",
          "height": 206
        }
      },
      "outputs": [
        {
          "output_type": "execute_result",
          "data": {
            "text/plain": [
              "           date      open      high       low     close  Adj Close  volume\n",
              "513  2023-04-24  1.099227  1.103424  1.096876  1.099227   1.099227       0\n",
              "514  2023-04-25  1.105950  1.106807  1.096924  1.105950   1.105950       0\n",
              "515  2023-04-26  1.097839  1.109410  1.096924  1.097839   1.097839       0\n",
              "516  2023-04-27  1.104728  1.106562  1.099421  1.104728   1.104728       0\n",
              "517  2023-04-28  1.103022  1.104850  1.096852  1.101807   1.101807       0"
            ],
            "text/html": [
              "\n",
              "  <div id=\"df-6f23c677-38e0-4148-935c-267b9c21f872\">\n",
              "    <div class=\"colab-df-container\">\n",
              "      <div>\n",
              "<style scoped>\n",
              "    .dataframe tbody tr th:only-of-type {\n",
              "        vertical-align: middle;\n",
              "    }\n",
              "\n",
              "    .dataframe tbody tr th {\n",
              "        vertical-align: top;\n",
              "    }\n",
              "\n",
              "    .dataframe thead th {\n",
              "        text-align: right;\n",
              "    }\n",
              "</style>\n",
              "<table border=\"1\" class=\"dataframe\">\n",
              "  <thead>\n",
              "    <tr style=\"text-align: right;\">\n",
              "      <th></th>\n",
              "      <th>date</th>\n",
              "      <th>open</th>\n",
              "      <th>high</th>\n",
              "      <th>low</th>\n",
              "      <th>close</th>\n",
              "      <th>Adj Close</th>\n",
              "      <th>volume</th>\n",
              "    </tr>\n",
              "  </thead>\n",
              "  <tbody>\n",
              "    <tr>\n",
              "      <th>513</th>\n",
              "      <td>2023-04-24</td>\n",
              "      <td>1.099227</td>\n",
              "      <td>1.103424</td>\n",
              "      <td>1.096876</td>\n",
              "      <td>1.099227</td>\n",
              "      <td>1.099227</td>\n",
              "      <td>0</td>\n",
              "    </tr>\n",
              "    <tr>\n",
              "      <th>514</th>\n",
              "      <td>2023-04-25</td>\n",
              "      <td>1.105950</td>\n",
              "      <td>1.106807</td>\n",
              "      <td>1.096924</td>\n",
              "      <td>1.105950</td>\n",
              "      <td>1.105950</td>\n",
              "      <td>0</td>\n",
              "    </tr>\n",
              "    <tr>\n",
              "      <th>515</th>\n",
              "      <td>2023-04-26</td>\n",
              "      <td>1.097839</td>\n",
              "      <td>1.109410</td>\n",
              "      <td>1.096924</td>\n",
              "      <td>1.097839</td>\n",
              "      <td>1.097839</td>\n",
              "      <td>0</td>\n",
              "    </tr>\n",
              "    <tr>\n",
              "      <th>516</th>\n",
              "      <td>2023-04-27</td>\n",
              "      <td>1.104728</td>\n",
              "      <td>1.106562</td>\n",
              "      <td>1.099421</td>\n",
              "      <td>1.104728</td>\n",
              "      <td>1.104728</td>\n",
              "      <td>0</td>\n",
              "    </tr>\n",
              "    <tr>\n",
              "      <th>517</th>\n",
              "      <td>2023-04-28</td>\n",
              "      <td>1.103022</td>\n",
              "      <td>1.104850</td>\n",
              "      <td>1.096852</td>\n",
              "      <td>1.101807</td>\n",
              "      <td>1.101807</td>\n",
              "      <td>0</td>\n",
              "    </tr>\n",
              "  </tbody>\n",
              "</table>\n",
              "</div>\n",
              "      <button class=\"colab-df-convert\" onclick=\"convertToInteractive('df-6f23c677-38e0-4148-935c-267b9c21f872')\"\n",
              "              title=\"Convert this dataframe to an interactive table.\"\n",
              "              style=\"display:none;\">\n",
              "        \n",
              "  <svg xmlns=\"http://www.w3.org/2000/svg\" height=\"24px\"viewBox=\"0 0 24 24\"\n",
              "       width=\"24px\">\n",
              "    <path d=\"M0 0h24v24H0V0z\" fill=\"none\"/>\n",
              "    <path d=\"M18.56 5.44l.94 2.06.94-2.06 2.06-.94-2.06-.94-.94-2.06-.94 2.06-2.06.94zm-11 1L8.5 8.5l.94-2.06 2.06-.94-2.06-.94L8.5 2.5l-.94 2.06-2.06.94zm10 10l.94 2.06.94-2.06 2.06-.94-2.06-.94-.94-2.06-.94 2.06-2.06.94z\"/><path d=\"M17.41 7.96l-1.37-1.37c-.4-.4-.92-.59-1.43-.59-.52 0-1.04.2-1.43.59L10.3 9.45l-7.72 7.72c-.78.78-.78 2.05 0 2.83L4 21.41c.39.39.9.59 1.41.59.51 0 1.02-.2 1.41-.59l7.78-7.78 2.81-2.81c.8-.78.8-2.07 0-2.86zM5.41 20L4 18.59l7.72-7.72 1.47 1.35L5.41 20z\"/>\n",
              "  </svg>\n",
              "      </button>\n",
              "      \n",
              "  <style>\n",
              "    .colab-df-container {\n",
              "      display:flex;\n",
              "      flex-wrap:wrap;\n",
              "      gap: 12px;\n",
              "    }\n",
              "\n",
              "    .colab-df-convert {\n",
              "      background-color: #E8F0FE;\n",
              "      border: none;\n",
              "      border-radius: 50%;\n",
              "      cursor: pointer;\n",
              "      display: none;\n",
              "      fill: #1967D2;\n",
              "      height: 32px;\n",
              "      padding: 0 0 0 0;\n",
              "      width: 32px;\n",
              "    }\n",
              "\n",
              "    .colab-df-convert:hover {\n",
              "      background-color: #E2EBFA;\n",
              "      box-shadow: 0px 1px 2px rgba(60, 64, 67, 0.3), 0px 1px 3px 1px rgba(60, 64, 67, 0.15);\n",
              "      fill: #174EA6;\n",
              "    }\n",
              "\n",
              "    [theme=dark] .colab-df-convert {\n",
              "      background-color: #3B4455;\n",
              "      fill: #D2E3FC;\n",
              "    }\n",
              "\n",
              "    [theme=dark] .colab-df-convert:hover {\n",
              "      background-color: #434B5C;\n",
              "      box-shadow: 0px 1px 3px 1px rgba(0, 0, 0, 0.15);\n",
              "      filter: drop-shadow(0px 1px 2px rgba(0, 0, 0, 0.3));\n",
              "      fill: #FFFFFF;\n",
              "    }\n",
              "  </style>\n",
              "\n",
              "      <script>\n",
              "        const buttonEl =\n",
              "          document.querySelector('#df-6f23c677-38e0-4148-935c-267b9c21f872 button.colab-df-convert');\n",
              "        buttonEl.style.display =\n",
              "          google.colab.kernel.accessAllowed ? 'block' : 'none';\n",
              "\n",
              "        async function convertToInteractive(key) {\n",
              "          const element = document.querySelector('#df-6f23c677-38e0-4148-935c-267b9c21f872');\n",
              "          const dataTable =\n",
              "            await google.colab.kernel.invokeFunction('convertToInteractive',\n",
              "                                                     [key], {});\n",
              "          if (!dataTable) return;\n",
              "\n",
              "          const docLinkHtml = 'Like what you see? Visit the ' +\n",
              "            '<a target=\"_blank\" href=https://colab.research.google.com/notebooks/data_table.ipynb>data table notebook</a>'\n",
              "            + ' to learn more about interactive tables.';\n",
              "          element.innerHTML = '';\n",
              "          dataTable['output_type'] = 'display_data';\n",
              "          await google.colab.output.renderOutput(dataTable, element);\n",
              "          const docLink = document.createElement('div');\n",
              "          docLink.innerHTML = docLinkHtml;\n",
              "          element.appendChild(docLink);\n",
              "        }\n",
              "      </script>\n",
              "    </div>\n",
              "  </div>\n",
              "  "
            ]
          },
          "metadata": {},
          "execution_count": 17
        }
      ],
      "source": [
        "import pandas as pd\n",
        "df = pd.read_csv(\"EURUSD_Candlestick_1_D_BID_04.05.2003-21.01.2023.csv\")\n",
        "df.tail()"
      ]
    },
    {
      "cell_type": "code",
      "execution_count": 18,
      "metadata": {
        "id": "QXwWMXOLq4vh",
        "outputId": "a4fd9147-02be-4550-92f7-4cc8dac2b814",
        "colab": {
          "base_uri": "https://localhost:8080/",
          "height": 106
        }
      },
      "outputs": [
        {
          "output_type": "execute_result",
          "data": {
            "text/plain": [
              "Empty DataFrame\n",
              "Columns: [date, open, high, low, close, Adj Close, volume]\n",
              "Index: []"
            ],
            "text/html": [
              "\n",
              "  <div id=\"df-f246048c-dbb5-4468-a15b-11765f1fc431\">\n",
              "    <div class=\"colab-df-container\">\n",
              "      <div>\n",
              "<style scoped>\n",
              "    .dataframe tbody tr th:only-of-type {\n",
              "        vertical-align: middle;\n",
              "    }\n",
              "\n",
              "    .dataframe tbody tr th {\n",
              "        vertical-align: top;\n",
              "    }\n",
              "\n",
              "    .dataframe thead th {\n",
              "        text-align: right;\n",
              "    }\n",
              "</style>\n",
              "<table border=\"1\" class=\"dataframe\">\n",
              "  <thead>\n",
              "    <tr style=\"text-align: right;\">\n",
              "      <th></th>\n",
              "      <th>date</th>\n",
              "      <th>open</th>\n",
              "      <th>high</th>\n",
              "      <th>low</th>\n",
              "      <th>close</th>\n",
              "      <th>Adj Close</th>\n",
              "      <th>volume</th>\n",
              "    </tr>\n",
              "  </thead>\n",
              "  <tbody>\n",
              "  </tbody>\n",
              "</table>\n",
              "</div>\n",
              "      <button class=\"colab-df-convert\" onclick=\"convertToInteractive('df-f246048c-dbb5-4468-a15b-11765f1fc431')\"\n",
              "              title=\"Convert this dataframe to an interactive table.\"\n",
              "              style=\"display:none;\">\n",
              "        \n",
              "  <svg xmlns=\"http://www.w3.org/2000/svg\" height=\"24px\"viewBox=\"0 0 24 24\"\n",
              "       width=\"24px\">\n",
              "    <path d=\"M0 0h24v24H0V0z\" fill=\"none\"/>\n",
              "    <path d=\"M18.56 5.44l.94 2.06.94-2.06 2.06-.94-2.06-.94-.94-2.06-.94 2.06-2.06.94zm-11 1L8.5 8.5l.94-2.06 2.06-.94-2.06-.94L8.5 2.5l-.94 2.06-2.06.94zm10 10l.94 2.06.94-2.06 2.06-.94-2.06-.94-.94-2.06-.94 2.06-2.06.94z\"/><path d=\"M17.41 7.96l-1.37-1.37c-.4-.4-.92-.59-1.43-.59-.52 0-1.04.2-1.43.59L10.3 9.45l-7.72 7.72c-.78.78-.78 2.05 0 2.83L4 21.41c.39.39.9.59 1.41.59.51 0 1.02-.2 1.41-.59l7.78-7.78 2.81-2.81c.8-.78.8-2.07 0-2.86zM5.41 20L4 18.59l7.72-7.72 1.47 1.35L5.41 20z\"/>\n",
              "  </svg>\n",
              "      </button>\n",
              "      \n",
              "  <style>\n",
              "    .colab-df-container {\n",
              "      display:flex;\n",
              "      flex-wrap:wrap;\n",
              "      gap: 12px;\n",
              "    }\n",
              "\n",
              "    .colab-df-convert {\n",
              "      background-color: #E8F0FE;\n",
              "      border: none;\n",
              "      border-radius: 50%;\n",
              "      cursor: pointer;\n",
              "      display: none;\n",
              "      fill: #1967D2;\n",
              "      height: 32px;\n",
              "      padding: 0 0 0 0;\n",
              "      width: 32px;\n",
              "    }\n",
              "\n",
              "    .colab-df-convert:hover {\n",
              "      background-color: #E2EBFA;\n",
              "      box-shadow: 0px 1px 2px rgba(60, 64, 67, 0.3), 0px 1px 3px 1px rgba(60, 64, 67, 0.15);\n",
              "      fill: #174EA6;\n",
              "    }\n",
              "\n",
              "    [theme=dark] .colab-df-convert {\n",
              "      background-color: #3B4455;\n",
              "      fill: #D2E3FC;\n",
              "    }\n",
              "\n",
              "    [theme=dark] .colab-df-convert:hover {\n",
              "      background-color: #434B5C;\n",
              "      box-shadow: 0px 1px 3px 1px rgba(0, 0, 0, 0.15);\n",
              "      filter: drop-shadow(0px 1px 2px rgba(0, 0, 0, 0.3));\n",
              "      fill: #FFFFFF;\n",
              "    }\n",
              "  </style>\n",
              "\n",
              "      <script>\n",
              "        const buttonEl =\n",
              "          document.querySelector('#df-f246048c-dbb5-4468-a15b-11765f1fc431 button.colab-df-convert');\n",
              "        buttonEl.style.display =\n",
              "          google.colab.kernel.accessAllowed ? 'block' : 'none';\n",
              "\n",
              "        async function convertToInteractive(key) {\n",
              "          const element = document.querySelector('#df-f246048c-dbb5-4468-a15b-11765f1fc431');\n",
              "          const dataTable =\n",
              "            await google.colab.kernel.invokeFunction('convertToInteractive',\n",
              "                                                     [key], {});\n",
              "          if (!dataTable) return;\n",
              "\n",
              "          const docLinkHtml = 'Like what you see? Visit the ' +\n",
              "            '<a target=\"_blank\" href=https://colab.research.google.com/notebooks/data_table.ipynb>data table notebook</a>'\n",
              "            + ' to learn more about interactive tables.';\n",
              "          element.innerHTML = '';\n",
              "          dataTable['output_type'] = 'display_data';\n",
              "          await google.colab.output.renderOutput(dataTable, element);\n",
              "          const docLink = document.createElement('div');\n",
              "          docLink.innerHTML = docLinkHtml;\n",
              "          element.appendChild(docLink);\n",
              "        }\n",
              "      </script>\n",
              "    </div>\n",
              "  </div>\n",
              "  "
            ]
          },
          "metadata": {},
          "execution_count": 18
        }
      ],
      "source": [
        "#Check if NA values are in data\n",
        "df=df[df['volume']!=0]\n",
        "df.reset_index(drop=True, inplace=True)\n",
        "df.isna().sum()\n",
        "df.tail()"
      ]
    },
    {
      "cell_type": "markdown",
      "metadata": {
        "id": "oiA_lJT0q4vj"
      },
      "source": [
        "# Support and Resitance FUNCTIONS"
      ]
    },
    {
      "cell_type": "code",
      "execution_count": 12,
      "metadata": {
        "id": "IoTywcehq4vm"
      },
      "outputs": [],
      "source": [
        "def support(df1, l, n1, n2): #n1 n2 before and after candle l\n",
        "    for i in range(l-n1+1, l+1):\n",
        "        if(df1.low[i]>df1.low[i-1]):\n",
        "            return 0\n",
        "    for i in range(l+1,l+n2+1):\n",
        "        if(df1.low[i]<df1.low[i-1]):\n",
        "            return 0\n",
        "    return 1\n",
        "\n",
        "#support(df,46,3,2)\n",
        "\n",
        "def resistance(df1, l, n1, n2): #n1 n2 before and after candle l\n",
        "    for i in range(l-n1+1, l+1):\n",
        "        if(df1.high[i]<df1.high[i-1]):\n",
        "            return 0\n",
        "    for i in range(l+1,l+n2+1):\n",
        "        if(df1.high[i]>df1.high[i-1]):\n",
        "            return 0\n",
        "    return 1\n",
        "#resistance(df, 30, 3, 5)\n"
      ]
    },
    {
      "cell_type": "code",
      "execution_count": 15,
      "metadata": {
        "id": "tmYgR2G_q4vx",
        "outputId": "f1ab704f-b0a1-4ca2-b879-62548ceb0f3d",
        "colab": {
          "base_uri": "https://localhost:8080/",
          "height": 542
        }
      },
      "outputs": [
        {
          "output_type": "display_data",
          "data": {
            "text/html": [
              "<html>\n",
              "<head><meta charset=\"utf-8\" /></head>\n",
              "<body>\n",
              "    <div>            <script src=\"https://cdnjs.cloudflare.com/ajax/libs/mathjax/2.7.5/MathJax.js?config=TeX-AMS-MML_SVG\"></script><script type=\"text/javascript\">if (window.MathJax && window.MathJax.Hub && window.MathJax.Hub.Config) {window.MathJax.Hub.Config({SVG: {font: \"STIX-Web\"}});}</script>                <script type=\"text/javascript\">window.PlotlyConfig = {MathJaxConfig: 'local'};</script>\n",
              "        <script src=\"https://cdn.plot.ly/plotly-2.18.2.min.js\"></script>                <div id=\"5ffa2e8f-3e93-4cd2-8dcd-db6a3a6fa6eb\" class=\"plotly-graph-div\" style=\"height:525px; width:100%;\"></div>            <script type=\"text/javascript\">                                    window.PLOTLYENV=window.PLOTLYENV || {};                                    if (document.getElementById(\"5ffa2e8f-3e93-4cd2-8dcd-db6a3a6fa6eb\")) {                    Plotly.newPlot(                        \"5ffa2e8f-3e93-4cd2-8dcd-db6a3a6fa6eb\",                        [{\"close\":[],\"high\":[],\"low\":[],\"open\":[],\"x\":[],\"type\":\"candlestick\"}],                        {\"template\":{\"data\":{\"histogram2dcontour\":[{\"type\":\"histogram2dcontour\",\"colorbar\":{\"outlinewidth\":0,\"ticks\":\"\"},\"colorscale\":[[0.0,\"#0d0887\"],[0.1111111111111111,\"#46039f\"],[0.2222222222222222,\"#7201a8\"],[0.3333333333333333,\"#9c179e\"],[0.4444444444444444,\"#bd3786\"],[0.5555555555555556,\"#d8576b\"],[0.6666666666666666,\"#ed7953\"],[0.7777777777777778,\"#fb9f3a\"],[0.8888888888888888,\"#fdca26\"],[1.0,\"#f0f921\"]]}],\"choropleth\":[{\"type\":\"choropleth\",\"colorbar\":{\"outlinewidth\":0,\"ticks\":\"\"}}],\"histogram2d\":[{\"type\":\"histogram2d\",\"colorbar\":{\"outlinewidth\":0,\"ticks\":\"\"},\"colorscale\":[[0.0,\"#0d0887\"],[0.1111111111111111,\"#46039f\"],[0.2222222222222222,\"#7201a8\"],[0.3333333333333333,\"#9c179e\"],[0.4444444444444444,\"#bd3786\"],[0.5555555555555556,\"#d8576b\"],[0.6666666666666666,\"#ed7953\"],[0.7777777777777778,\"#fb9f3a\"],[0.8888888888888888,\"#fdca26\"],[1.0,\"#f0f921\"]]}],\"heatmap\":[{\"type\":\"heatmap\",\"colorbar\":{\"outlinewidth\":0,\"ticks\":\"\"},\"colorscale\":[[0.0,\"#0d0887\"],[0.1111111111111111,\"#46039f\"],[0.2222222222222222,\"#7201a8\"],[0.3333333333333333,\"#9c179e\"],[0.4444444444444444,\"#bd3786\"],[0.5555555555555556,\"#d8576b\"],[0.6666666666666666,\"#ed7953\"],[0.7777777777777778,\"#fb9f3a\"],[0.8888888888888888,\"#fdca26\"],[1.0,\"#f0f921\"]]}],\"heatmapgl\":[{\"type\":\"heatmapgl\",\"colorbar\":{\"outlinewidth\":0,\"ticks\":\"\"},\"colorscale\":[[0.0,\"#0d0887\"],[0.1111111111111111,\"#46039f\"],[0.2222222222222222,\"#7201a8\"],[0.3333333333333333,\"#9c179e\"],[0.4444444444444444,\"#bd3786\"],[0.5555555555555556,\"#d8576b\"],[0.6666666666666666,\"#ed7953\"],[0.7777777777777778,\"#fb9f3a\"],[0.8888888888888888,\"#fdca26\"],[1.0,\"#f0f921\"]]}],\"contourcarpet\":[{\"type\":\"contourcarpet\",\"colorbar\":{\"outlinewidth\":0,\"ticks\":\"\"}}],\"contour\":[{\"type\":\"contour\",\"colorbar\":{\"outlinewidth\":0,\"ticks\":\"\"},\"colorscale\":[[0.0,\"#0d0887\"],[0.1111111111111111,\"#46039f\"],[0.2222222222222222,\"#7201a8\"],[0.3333333333333333,\"#9c179e\"],[0.4444444444444444,\"#bd3786\"],[0.5555555555555556,\"#d8576b\"],[0.6666666666666666,\"#ed7953\"],[0.7777777777777778,\"#fb9f3a\"],[0.8888888888888888,\"#fdca26\"],[1.0,\"#f0f921\"]]}],\"surface\":[{\"type\":\"surface\",\"colorbar\":{\"outlinewidth\":0,\"ticks\":\"\"},\"colorscale\":[[0.0,\"#0d0887\"],[0.1111111111111111,\"#46039f\"],[0.2222222222222222,\"#7201a8\"],[0.3333333333333333,\"#9c179e\"],[0.4444444444444444,\"#bd3786\"],[0.5555555555555556,\"#d8576b\"],[0.6666666666666666,\"#ed7953\"],[0.7777777777777778,\"#fb9f3a\"],[0.8888888888888888,\"#fdca26\"],[1.0,\"#f0f921\"]]}],\"mesh3d\":[{\"type\":\"mesh3d\",\"colorbar\":{\"outlinewidth\":0,\"ticks\":\"\"}}],\"scatter\":[{\"fillpattern\":{\"fillmode\":\"overlay\",\"size\":10,\"solidity\":0.2},\"type\":\"scatter\"}],\"parcoords\":[{\"type\":\"parcoords\",\"line\":{\"colorbar\":{\"outlinewidth\":0,\"ticks\":\"\"}}}],\"scatterpolargl\":[{\"type\":\"scatterpolargl\",\"marker\":{\"colorbar\":{\"outlinewidth\":0,\"ticks\":\"\"}}}],\"bar\":[{\"error_x\":{\"color\":\"#2a3f5f\"},\"error_y\":{\"color\":\"#2a3f5f\"},\"marker\":{\"line\":{\"color\":\"#E5ECF6\",\"width\":0.5},\"pattern\":{\"fillmode\":\"overlay\",\"size\":10,\"solidity\":0.2}},\"type\":\"bar\"}],\"scattergeo\":[{\"type\":\"scattergeo\",\"marker\":{\"colorbar\":{\"outlinewidth\":0,\"ticks\":\"\"}}}],\"scatterpolar\":[{\"type\":\"scatterpolar\",\"marker\":{\"colorbar\":{\"outlinewidth\":0,\"ticks\":\"\"}}}],\"histogram\":[{\"marker\":{\"pattern\":{\"fillmode\":\"overlay\",\"size\":10,\"solidity\":0.2}},\"type\":\"histogram\"}],\"scattergl\":[{\"type\":\"scattergl\",\"marker\":{\"colorbar\":{\"outlinewidth\":0,\"ticks\":\"\"}}}],\"scatter3d\":[{\"type\":\"scatter3d\",\"line\":{\"colorbar\":{\"outlinewidth\":0,\"ticks\":\"\"}},\"marker\":{\"colorbar\":{\"outlinewidth\":0,\"ticks\":\"\"}}}],\"scattermapbox\":[{\"type\":\"scattermapbox\",\"marker\":{\"colorbar\":{\"outlinewidth\":0,\"ticks\":\"\"}}}],\"scatterternary\":[{\"type\":\"scatterternary\",\"marker\":{\"colorbar\":{\"outlinewidth\":0,\"ticks\":\"\"}}}],\"scattercarpet\":[{\"type\":\"scattercarpet\",\"marker\":{\"colorbar\":{\"outlinewidth\":0,\"ticks\":\"\"}}}],\"carpet\":[{\"aaxis\":{\"endlinecolor\":\"#2a3f5f\",\"gridcolor\":\"white\",\"linecolor\":\"white\",\"minorgridcolor\":\"white\",\"startlinecolor\":\"#2a3f5f\"},\"baxis\":{\"endlinecolor\":\"#2a3f5f\",\"gridcolor\":\"white\",\"linecolor\":\"white\",\"minorgridcolor\":\"white\",\"startlinecolor\":\"#2a3f5f\"},\"type\":\"carpet\"}],\"table\":[{\"cells\":{\"fill\":{\"color\":\"#EBF0F8\"},\"line\":{\"color\":\"white\"}},\"header\":{\"fill\":{\"color\":\"#C8D4E3\"},\"line\":{\"color\":\"white\"}},\"type\":\"table\"}],\"barpolar\":[{\"marker\":{\"line\":{\"color\":\"#E5ECF6\",\"width\":0.5},\"pattern\":{\"fillmode\":\"overlay\",\"size\":10,\"solidity\":0.2}},\"type\":\"barpolar\"}],\"pie\":[{\"automargin\":true,\"type\":\"pie\"}]},\"layout\":{\"autotypenumbers\":\"strict\",\"colorway\":[\"#636efa\",\"#EF553B\",\"#00cc96\",\"#ab63fa\",\"#FFA15A\",\"#19d3f3\",\"#FF6692\",\"#B6E880\",\"#FF97FF\",\"#FECB52\"],\"font\":{\"color\":\"#2a3f5f\"},\"hovermode\":\"closest\",\"hoverlabel\":{\"align\":\"left\"},\"paper_bgcolor\":\"white\",\"plot_bgcolor\":\"#E5ECF6\",\"polar\":{\"bgcolor\":\"#E5ECF6\",\"angularaxis\":{\"gridcolor\":\"white\",\"linecolor\":\"white\",\"ticks\":\"\"},\"radialaxis\":{\"gridcolor\":\"white\",\"linecolor\":\"white\",\"ticks\":\"\"}},\"ternary\":{\"bgcolor\":\"#E5ECF6\",\"aaxis\":{\"gridcolor\":\"white\",\"linecolor\":\"white\",\"ticks\":\"\"},\"baxis\":{\"gridcolor\":\"white\",\"linecolor\":\"white\",\"ticks\":\"\"},\"caxis\":{\"gridcolor\":\"white\",\"linecolor\":\"white\",\"ticks\":\"\"}},\"coloraxis\":{\"colorbar\":{\"outlinewidth\":0,\"ticks\":\"\"}},\"colorscale\":{\"sequential\":[[0.0,\"#0d0887\"],[0.1111111111111111,\"#46039f\"],[0.2222222222222222,\"#7201a8\"],[0.3333333333333333,\"#9c179e\"],[0.4444444444444444,\"#bd3786\"],[0.5555555555555556,\"#d8576b\"],[0.6666666666666666,\"#ed7953\"],[0.7777777777777778,\"#fb9f3a\"],[0.8888888888888888,\"#fdca26\"],[1.0,\"#f0f921\"]],\"sequentialminus\":[[0.0,\"#0d0887\"],[0.1111111111111111,\"#46039f\"],[0.2222222222222222,\"#7201a8\"],[0.3333333333333333,\"#9c179e\"],[0.4444444444444444,\"#bd3786\"],[0.5555555555555556,\"#d8576b\"],[0.6666666666666666,\"#ed7953\"],[0.7777777777777778,\"#fb9f3a\"],[0.8888888888888888,\"#fdca26\"],[1.0,\"#f0f921\"]],\"diverging\":[[0,\"#8e0152\"],[0.1,\"#c51b7d\"],[0.2,\"#de77ae\"],[0.3,\"#f1b6da\"],[0.4,\"#fde0ef\"],[0.5,\"#f7f7f7\"],[0.6,\"#e6f5d0\"],[0.7,\"#b8e186\"],[0.8,\"#7fbc41\"],[0.9,\"#4d9221\"],[1,\"#276419\"]]},\"xaxis\":{\"gridcolor\":\"white\",\"linecolor\":\"white\",\"ticks\":\"\",\"title\":{\"standoff\":15},\"zerolinecolor\":\"white\",\"automargin\":true,\"zerolinewidth\":2},\"yaxis\":{\"gridcolor\":\"white\",\"linecolor\":\"white\",\"ticks\":\"\",\"title\":{\"standoff\":15},\"zerolinecolor\":\"white\",\"automargin\":true,\"zerolinewidth\":2},\"scene\":{\"xaxis\":{\"backgroundcolor\":\"#E5ECF6\",\"gridcolor\":\"white\",\"linecolor\":\"white\",\"showbackground\":true,\"ticks\":\"\",\"zerolinecolor\":\"white\",\"gridwidth\":2},\"yaxis\":{\"backgroundcolor\":\"#E5ECF6\",\"gridcolor\":\"white\",\"linecolor\":\"white\",\"showbackground\":true,\"ticks\":\"\",\"zerolinecolor\":\"white\",\"gridwidth\":2},\"zaxis\":{\"backgroundcolor\":\"#E5ECF6\",\"gridcolor\":\"white\",\"linecolor\":\"white\",\"showbackground\":true,\"ticks\":\"\",\"zerolinecolor\":\"white\",\"gridwidth\":2}},\"shapedefaults\":{\"line\":{\"color\":\"#2a3f5f\"}},\"annotationdefaults\":{\"arrowcolor\":\"#2a3f5f\",\"arrowhead\":0,\"arrowwidth\":1},\"geo\":{\"bgcolor\":\"white\",\"landcolor\":\"#E5ECF6\",\"subunitcolor\":\"white\",\"showland\":true,\"showlakes\":true,\"lakecolor\":\"white\"},\"title\":{\"x\":0.05},\"mapbox\":{\"style\":\"light\"}}}},                        {\"responsive\": true}                    ).then(function(){\n",
              "                            \n",
              "var gd = document.getElementById('5ffa2e8f-3e93-4cd2-8dcd-db6a3a6fa6eb');\n",
              "var x = new MutationObserver(function (mutations, observer) {{\n",
              "        var display = window.getComputedStyle(gd).display;\n",
              "        if (!display || display === 'none') {{\n",
              "            console.log([gd, 'removed!']);\n",
              "            Plotly.purge(gd);\n",
              "            observer.disconnect();\n",
              "        }}\n",
              "}});\n",
              "\n",
              "// Listen for the removal of the full notebook cells\n",
              "var notebookContainer = gd.closest('#notebook-container');\n",
              "if (notebookContainer) {{\n",
              "    x.observe(notebookContainer, {childList: true});\n",
              "}}\n",
              "\n",
              "// Listen for the clearing of the current output cell\n",
              "var outputEl = gd.closest('.output');\n",
              "if (outputEl) {{\n",
              "    x.observe(outputEl, {childList: true});\n",
              "}}\n",
              "\n",
              "                        })                };                            </script>        </div>\n",
              "</body>\n",
              "</html>"
            ]
          },
          "metadata": {}
        }
      ],
      "source": [
        "dfpl = df[0:50]\n",
        "import plotly.graph_objects as go\n",
        "from datetime import datetime\n",
        "\n",
        "fig = go.Figure(data=[go.Candlestick(x=dfpl.index,\n",
        "                open=dfpl['open'],\n",
        "                high=dfpl['high'],\n",
        "                low=dfpl['low'],\n",
        "                close=dfpl['close'])])\n",
        "\n",
        "fig.show()"
      ]
    },
    {
      "cell_type": "code",
      "execution_count": 14,
      "metadata": {
        "id": "AKcq_FAyq4v0",
        "outputId": "d53836be-9d3b-43e9-8d48-823f862e05a2",
        "colab": {
          "base_uri": "https://localhost:8080/",
          "height": 432
        }
      },
      "outputs": [
        {
          "output_type": "error",
          "ename": "KeyError",
          "evalue": "ignored",
          "traceback": [
            "\u001b[0;31m---------------------------------------------------------------------------\u001b[0m",
            "\u001b[0;31mValueError\u001b[0m                                Traceback (most recent call last)",
            "\u001b[0;32m/usr/local/lib/python3.10/dist-packages/pandas/core/indexes/range.py\u001b[0m in \u001b[0;36mget_loc\u001b[0;34m(self, key, method, tolerance)\u001b[0m\n\u001b[1;32m    390\u001b[0m                 \u001b[0;32mtry\u001b[0m\u001b[0;34m:\u001b[0m\u001b[0;34m\u001b[0m\u001b[0;34m\u001b[0m\u001b[0m\n\u001b[0;32m--> 391\u001b[0;31m                     \u001b[0;32mreturn\u001b[0m \u001b[0mself\u001b[0m\u001b[0;34m.\u001b[0m\u001b[0m_range\u001b[0m\u001b[0;34m.\u001b[0m\u001b[0mindex\u001b[0m\u001b[0;34m(\u001b[0m\u001b[0mnew_key\u001b[0m\u001b[0;34m)\u001b[0m\u001b[0;34m\u001b[0m\u001b[0;34m\u001b[0m\u001b[0m\n\u001b[0m\u001b[1;32m    392\u001b[0m                 \u001b[0;32mexcept\u001b[0m \u001b[0mValueError\u001b[0m \u001b[0;32mas\u001b[0m \u001b[0merr\u001b[0m\u001b[0;34m:\u001b[0m\u001b[0;34m\u001b[0m\u001b[0;34m\u001b[0m\u001b[0m\n",
            "\u001b[0;31mValueError\u001b[0m: 1 is not in range",
            "\nThe above exception was the direct cause of the following exception:\n",
            "\u001b[0;31mKeyError\u001b[0m                                  Traceback (most recent call last)",
            "\u001b[0;32m<ipython-input-14-634b509312e9>\u001b[0m in \u001b[0;36m<cell line: 4>\u001b[0;34m()\u001b[0m\n\u001b[1;32m      3\u001b[0m \u001b[0mn2\u001b[0m\u001b[0;34m=\u001b[0m\u001b[0;36m2\u001b[0m\u001b[0;34m\u001b[0m\u001b[0;34m\u001b[0m\u001b[0m\n\u001b[1;32m      4\u001b[0m \u001b[0;32mfor\u001b[0m \u001b[0mrow\u001b[0m \u001b[0;32min\u001b[0m \u001b[0mrange\u001b[0m\u001b[0;34m(\u001b[0m\u001b[0;36m3\u001b[0m\u001b[0;34m,\u001b[0m \u001b[0;36m205\u001b[0m\u001b[0;34m)\u001b[0m\u001b[0;34m:\u001b[0m \u001b[0;31m#len(df)-n2\u001b[0m\u001b[0;34m\u001b[0m\u001b[0;34m\u001b[0m\u001b[0m\n\u001b[0;32m----> 5\u001b[0;31m     \u001b[0;32mif\u001b[0m \u001b[0msupport\u001b[0m\u001b[0;34m(\u001b[0m\u001b[0mdf\u001b[0m\u001b[0;34m,\u001b[0m \u001b[0mrow\u001b[0m\u001b[0;34m,\u001b[0m \u001b[0mn1\u001b[0m\u001b[0;34m,\u001b[0m \u001b[0mn2\u001b[0m\u001b[0;34m)\u001b[0m\u001b[0;34m:\u001b[0m\u001b[0;34m\u001b[0m\u001b[0;34m\u001b[0m\u001b[0m\n\u001b[0m\u001b[1;32m      6\u001b[0m         \u001b[0msr\u001b[0m\u001b[0;34m.\u001b[0m\u001b[0mappend\u001b[0m\u001b[0;34m(\u001b[0m\u001b[0;34m(\u001b[0m\u001b[0mrow\u001b[0m\u001b[0;34m,\u001b[0m\u001b[0mdf\u001b[0m\u001b[0;34m.\u001b[0m\u001b[0mlow\u001b[0m\u001b[0;34m[\u001b[0m\u001b[0mrow\u001b[0m\u001b[0;34m]\u001b[0m\u001b[0;34m,\u001b[0m\u001b[0;36m1\u001b[0m\u001b[0;34m)\u001b[0m\u001b[0;34m)\u001b[0m\u001b[0;34m\u001b[0m\u001b[0;34m\u001b[0m\u001b[0m\n\u001b[1;32m      7\u001b[0m     \u001b[0;32mif\u001b[0m \u001b[0mresistance\u001b[0m\u001b[0;34m(\u001b[0m\u001b[0mdf\u001b[0m\u001b[0;34m,\u001b[0m \u001b[0mrow\u001b[0m\u001b[0;34m,\u001b[0m \u001b[0mn1\u001b[0m\u001b[0;34m,\u001b[0m \u001b[0mn2\u001b[0m\u001b[0;34m)\u001b[0m\u001b[0;34m:\u001b[0m\u001b[0;34m\u001b[0m\u001b[0;34m\u001b[0m\u001b[0m\n",
            "\u001b[0;32m<ipython-input-12-8bd9168efc48>\u001b[0m in \u001b[0;36msupport\u001b[0;34m(df1, l, n1, n2)\u001b[0m\n\u001b[1;32m      1\u001b[0m \u001b[0;32mdef\u001b[0m \u001b[0msupport\u001b[0m\u001b[0;34m(\u001b[0m\u001b[0mdf1\u001b[0m\u001b[0;34m,\u001b[0m \u001b[0ml\u001b[0m\u001b[0;34m,\u001b[0m \u001b[0mn1\u001b[0m\u001b[0;34m,\u001b[0m \u001b[0mn2\u001b[0m\u001b[0;34m)\u001b[0m\u001b[0;34m:\u001b[0m \u001b[0;31m#n1 n2 before and after candle l\u001b[0m\u001b[0;34m\u001b[0m\u001b[0;34m\u001b[0m\u001b[0m\n\u001b[1;32m      2\u001b[0m     \u001b[0;32mfor\u001b[0m \u001b[0mi\u001b[0m \u001b[0;32min\u001b[0m \u001b[0mrange\u001b[0m\u001b[0;34m(\u001b[0m\u001b[0ml\u001b[0m\u001b[0;34m-\u001b[0m\u001b[0mn1\u001b[0m\u001b[0;34m+\u001b[0m\u001b[0;36m1\u001b[0m\u001b[0;34m,\u001b[0m \u001b[0ml\u001b[0m\u001b[0;34m+\u001b[0m\u001b[0;36m1\u001b[0m\u001b[0;34m)\u001b[0m\u001b[0;34m:\u001b[0m\u001b[0;34m\u001b[0m\u001b[0;34m\u001b[0m\u001b[0m\n\u001b[0;32m----> 3\u001b[0;31m         \u001b[0;32mif\u001b[0m\u001b[0;34m(\u001b[0m\u001b[0mdf1\u001b[0m\u001b[0;34m.\u001b[0m\u001b[0mlow\u001b[0m\u001b[0;34m[\u001b[0m\u001b[0mi\u001b[0m\u001b[0;34m]\u001b[0m\u001b[0;34m>\u001b[0m\u001b[0mdf1\u001b[0m\u001b[0;34m.\u001b[0m\u001b[0mlow\u001b[0m\u001b[0;34m[\u001b[0m\u001b[0mi\u001b[0m\u001b[0;34m-\u001b[0m\u001b[0;36m1\u001b[0m\u001b[0;34m]\u001b[0m\u001b[0;34m)\u001b[0m\u001b[0;34m:\u001b[0m\u001b[0;34m\u001b[0m\u001b[0;34m\u001b[0m\u001b[0m\n\u001b[0m\u001b[1;32m      4\u001b[0m             \u001b[0;32mreturn\u001b[0m \u001b[0;36m0\u001b[0m\u001b[0;34m\u001b[0m\u001b[0;34m\u001b[0m\u001b[0m\n\u001b[1;32m      5\u001b[0m     \u001b[0;32mfor\u001b[0m \u001b[0mi\u001b[0m \u001b[0;32min\u001b[0m \u001b[0mrange\u001b[0m\u001b[0;34m(\u001b[0m\u001b[0ml\u001b[0m\u001b[0;34m+\u001b[0m\u001b[0;36m1\u001b[0m\u001b[0;34m,\u001b[0m\u001b[0ml\u001b[0m\u001b[0;34m+\u001b[0m\u001b[0mn2\u001b[0m\u001b[0;34m+\u001b[0m\u001b[0;36m1\u001b[0m\u001b[0;34m)\u001b[0m\u001b[0;34m:\u001b[0m\u001b[0;34m\u001b[0m\u001b[0;34m\u001b[0m\u001b[0m\n",
            "\u001b[0;32m/usr/local/lib/python3.10/dist-packages/pandas/core/series.py\u001b[0m in \u001b[0;36m__getitem__\u001b[0;34m(self, key)\u001b[0m\n\u001b[1;32m    979\u001b[0m \u001b[0;34m\u001b[0m\u001b[0m\n\u001b[1;32m    980\u001b[0m         \u001b[0;32melif\u001b[0m \u001b[0mkey_is_scalar\u001b[0m\u001b[0;34m:\u001b[0m\u001b[0;34m\u001b[0m\u001b[0;34m\u001b[0m\u001b[0m\n\u001b[0;32m--> 981\u001b[0;31m             \u001b[0;32mreturn\u001b[0m \u001b[0mself\u001b[0m\u001b[0;34m.\u001b[0m\u001b[0m_get_value\u001b[0m\u001b[0;34m(\u001b[0m\u001b[0mkey\u001b[0m\u001b[0;34m)\u001b[0m\u001b[0;34m\u001b[0m\u001b[0;34m\u001b[0m\u001b[0m\n\u001b[0m\u001b[1;32m    982\u001b[0m \u001b[0;34m\u001b[0m\u001b[0m\n\u001b[1;32m    983\u001b[0m         \u001b[0;32mif\u001b[0m \u001b[0mis_hashable\u001b[0m\u001b[0;34m(\u001b[0m\u001b[0mkey\u001b[0m\u001b[0;34m)\u001b[0m\u001b[0;34m:\u001b[0m\u001b[0;34m\u001b[0m\u001b[0;34m\u001b[0m\u001b[0m\n",
            "\u001b[0;32m/usr/local/lib/python3.10/dist-packages/pandas/core/series.py\u001b[0m in \u001b[0;36m_get_value\u001b[0;34m(self, label, takeable)\u001b[0m\n\u001b[1;32m   1087\u001b[0m \u001b[0;34m\u001b[0m\u001b[0m\n\u001b[1;32m   1088\u001b[0m         \u001b[0;31m# Similar to Index.get_value, but we do not fall back to positional\u001b[0m\u001b[0;34m\u001b[0m\u001b[0;34m\u001b[0m\u001b[0m\n\u001b[0;32m-> 1089\u001b[0;31m         \u001b[0mloc\u001b[0m \u001b[0;34m=\u001b[0m \u001b[0mself\u001b[0m\u001b[0;34m.\u001b[0m\u001b[0mindex\u001b[0m\u001b[0;34m.\u001b[0m\u001b[0mget_loc\u001b[0m\u001b[0;34m(\u001b[0m\u001b[0mlabel\u001b[0m\u001b[0;34m)\u001b[0m\u001b[0;34m\u001b[0m\u001b[0;34m\u001b[0m\u001b[0m\n\u001b[0m\u001b[1;32m   1090\u001b[0m         \u001b[0;32mreturn\u001b[0m \u001b[0mself\u001b[0m\u001b[0;34m.\u001b[0m\u001b[0mindex\u001b[0m\u001b[0;34m.\u001b[0m\u001b[0m_get_values_for_loc\u001b[0m\u001b[0;34m(\u001b[0m\u001b[0mself\u001b[0m\u001b[0;34m,\u001b[0m \u001b[0mloc\u001b[0m\u001b[0;34m,\u001b[0m \u001b[0mlabel\u001b[0m\u001b[0;34m)\u001b[0m\u001b[0;34m\u001b[0m\u001b[0;34m\u001b[0m\u001b[0m\n\u001b[1;32m   1091\u001b[0m \u001b[0;34m\u001b[0m\u001b[0m\n",
            "\u001b[0;32m/usr/local/lib/python3.10/dist-packages/pandas/core/indexes/range.py\u001b[0m in \u001b[0;36mget_loc\u001b[0;34m(self, key, method, tolerance)\u001b[0m\n\u001b[1;32m    391\u001b[0m                     \u001b[0;32mreturn\u001b[0m \u001b[0mself\u001b[0m\u001b[0;34m.\u001b[0m\u001b[0m_range\u001b[0m\u001b[0;34m.\u001b[0m\u001b[0mindex\u001b[0m\u001b[0;34m(\u001b[0m\u001b[0mnew_key\u001b[0m\u001b[0;34m)\u001b[0m\u001b[0;34m\u001b[0m\u001b[0;34m\u001b[0m\u001b[0m\n\u001b[1;32m    392\u001b[0m                 \u001b[0;32mexcept\u001b[0m \u001b[0mValueError\u001b[0m \u001b[0;32mas\u001b[0m \u001b[0merr\u001b[0m\u001b[0;34m:\u001b[0m\u001b[0;34m\u001b[0m\u001b[0;34m\u001b[0m\u001b[0m\n\u001b[0;32m--> 393\u001b[0;31m                     \u001b[0;32mraise\u001b[0m \u001b[0mKeyError\u001b[0m\u001b[0;34m(\u001b[0m\u001b[0mkey\u001b[0m\u001b[0;34m)\u001b[0m \u001b[0;32mfrom\u001b[0m \u001b[0merr\u001b[0m\u001b[0;34m\u001b[0m\u001b[0;34m\u001b[0m\u001b[0m\n\u001b[0m\u001b[1;32m    394\u001b[0m             \u001b[0mself\u001b[0m\u001b[0;34m.\u001b[0m\u001b[0m_check_indexing_error\u001b[0m\u001b[0;34m(\u001b[0m\u001b[0mkey\u001b[0m\u001b[0;34m)\u001b[0m\u001b[0;34m\u001b[0m\u001b[0;34m\u001b[0m\u001b[0m\n\u001b[1;32m    395\u001b[0m             \u001b[0;32mraise\u001b[0m \u001b[0mKeyError\u001b[0m\u001b[0;34m(\u001b[0m\u001b[0mkey\u001b[0m\u001b[0;34m)\u001b[0m\u001b[0;34m\u001b[0m\u001b[0;34m\u001b[0m\u001b[0m\n",
            "\u001b[0;31mKeyError\u001b[0m: 1"
          ]
        }
      ],
      "source": [
        "sr = []\n",
        "n1=3\n",
        "n2=2\n",
        "for row in range(3, 205): #len(df)-n2\n",
        "    if support(df, row, n1, n2):\n",
        "        sr.append((row,df.low[row],1))\n",
        "    if resistance(df, row, n1, n2):\n",
        "        sr.append((row,df.high[row],2))\n",
        "print(sr)"
      ]
    },
    {
      "cell_type": "code",
      "execution_count": null,
      "metadata": {
        "id": "04cBR00Tq4v4",
        "outputId": "23f15db4-90eb-46e0-b739-e1200bb00393"
      },
      "outputs": [
        {
          "data": {
            "application/vnd.plotly.v1+json": {
              "config": {
                "plotlyServerURL": "https://plot.ly"
              },
              "data": [
                {
                  "close": [
                    1.12804,
                    1.14368,
                    1.13677,
                    1.15026,
                    1.14907,
                    1.15457,
                    1.1515,
                    1.1497,
                    1.13877,
                    1.15735,
                    1.16596,
                    1.17069,
                    1.16746,
                    1.1693799999999999,
                    1.18266,
                    1.1869,
                    1.18288,
                    1.17649,
                    1.1883299999999999,
                    1.1769100000000001,
                    1.1747299999999998,
                    1.17391,
                    1.16645,
                    1.18405,
                    1.17001,
                    1.17161,
                    1.16759,
                    1.17421,
                    1.17638,
                    1.1863,
                    1.18356,
                    1.17937,
                    1.16883,
                    1.17203,
                    1.1604,
                    1.15429,
                    1.15171,
                    1.15398,
                    1.14181,
                    1.14254,
                    1.15116,
                    1.15608,
                    1.15396,
                    1.14945,
                    1.1489200000000002,
                    1.13252,
                    1.13151,
                    1.13481,
                    1.13891,
                    1.1299,
                    1.12779,
                    1.11858,
                    1.12068,
                    1.12079,
                    1.1274600000000001,
                    1.13495,
                    1.13315,
                    1.14754,
                    1.14695,
                    1.15079,
                    1.14909,
                    1.1458899999999999,
                    1.13426,
                    1.12428,
                    1.12541,
                    1.1357,
                    1.13893,
                    1.13321,
                    1.13732,
                    1.13083,
                    1.13582,
                    1.1283,
                    1.1322,
                    1.1257700000000002,
                    1.12663,
                    1.11428,
                    1.11392,
                    1.11185,
                    1.09226,
                    1.08761,
                    1.08735,
                    1.08542,
                    1.0886,
                    1.0881100000000001,
                    1.09847,
                    1.09675,
                    1.08079,
                    1.08474,
                    1.0943,
                    1.11049,
                    1.10649,
                    1.12238,
                    1.12076,
                    1.12089,
                    1.12913,
                    1.1281700000000001,
                    1.1174600000000001,
                    1.12834,
                    1.1255600000000001,
                    1.13792,
                    1.14602,
                    1.14404,
                    1.14949,
                    1.1490200000000002,
                    1.1460700000000001,
                    1.15971,
                    1.16547,
                    1.17146,
                    1.16926,
                    1.1581,
                    1.17079,
                    1.1759,
                    1.18092,
                    1.1745700000000001,
                    1.1795799999999999,
                    1.1703,
                    1.17234,
                    1.16339,
                    1.15873,
                    1.16812,
                    1.16336,
                    1.1667100000000001,
                    1.18011,
                    1.17915,
                    1.1779700000000002,
                    1.1744,
                    1.1670399999999999,
                    1.16618,
                    1.16225,
                    1.15877,
                    1.14554,
                    1.14933,
                    1.14378,
                    1.14153,
                    1.15295,
                    1.1479700000000002,
                    1.1520000000000001,
                    1.1628399999999999,
                    1.1732200000000002,
                    1.1775799999999998,
                    1.1747100000000001,
                    1.1971,
                    1.1875799999999999,
                    1.1911100000000001,
                    1.1915200000000001,
                    1.177,
                    1.17899,
                    1.194,
                    1.19071,
                    1.19928,
                    1.19805,
                    1.20811,
                    1.2107700000000001,
                    1.20855,
                    1.2166,
                    1.2218,
                    1.22543,
                    1.22145,
                    1.22187,
                    1.22756,
                    1.23173,
                    1.23302,
                    1.2410700000000001,
                    1.24231,
                    1.23739,
                    1.23956,
                    1.23927,
                    1.2446,
                    1.2452,
                    1.24272,
                    1.24892,
                    1.25492,
                    1.25925,
                    1.25454,
                    1.25832,
                    1.2675299999999998,
                    1.2725600000000001,
                    1.26322,
                    1.27661,
                    1.28149,
                    1.27493,
                    1.27714,
                    1.26473,
                    1.25766,
                    1.2396200000000002,
                    1.23478,
                    1.25787,
                    1.26425,
                    1.27183,
                    1.25797,
                    1.24575,
                    1.2643,
                    1.24681,
                    1.24072,
                    1.24747,
                    1.24237,
                    1.25407,
                    1.25327,
                    1.2546,
                    1.27026
                  ],
                  "high": [
                    1.13019,
                    1.1451,
                    1.14448,
                    1.1509200000000002,
                    1.1537600000000001,
                    1.16244,
                    1.15751,
                    1.15388,
                    1.14988,
                    1.1578600000000001,
                    1.17363,
                    1.17156,
                    1.1745299999999999,
                    1.17276,
                    1.18373,
                    1.18754,
                    1.193,
                    1.1845299999999999,
                    1.19008,
                    1.1915799999999999,
                    1.17672,
                    1.17783,
                    1.1747299999999998,
                    1.1886,
                    1.18785,
                    1.17859,
                    1.17415,
                    1.1782,
                    1.18058,
                    1.18774,
                    1.19278,
                    1.18662,
                    1.18039,
                    1.17387,
                    1.17347,
                    1.1603299999999999,
                    1.15811,
                    1.16215,
                    1.15523,
                    1.14675,
                    1.15141,
                    1.16079,
                    1.1568399999999999,
                    1.1544299999999998,
                    1.15019,
                    1.149,
                    1.1350799999999999,
                    1.13667,
                    1.13924,
                    1.1390799999999999,
                    1.1308,
                    1.1336899999999999,
                    1.12315,
                    1.1248799999999999,
                    1.13032,
                    1.1354600000000001,
                    1.13734,
                    1.14898,
                    1.15101,
                    1.15487,
                    1.15182,
                    1.1538,
                    1.1461,
                    1.13713,
                    1.12716,
                    1.13749,
                    1.13976,
                    1.14265,
                    1.1415,
                    1.13838,
                    1.13798,
                    1.13715,
                    1.1332200000000001,
                    1.13375,
                    1.12963,
                    1.1269,
                    1.11522,
                    1.11475,
                    1.11226,
                    1.09456,
                    1.09184,
                    1.09096,
                    1.0929799999999998,
                    1.09125,
                    1.09974,
                    1.10138,
                    1.09713,
                    1.08725,
                    1.09505,
                    1.1112600000000001,
                    1.11297,
                    1.12402,
                    1.12362,
                    1.12705,
                    1.13228,
                    1.1309799999999999,
                    1.1318,
                    1.1299700000000001,
                    1.13424,
                    1.13837,
                    1.15046,
                    1.1524299999999998,
                    1.15049,
                    1.15331,
                    1.14975,
                    1.16015,
                    1.17339,
                    1.17288,
                    1.17677,
                    1.17205,
                    1.1723700000000001,
                    1.18115,
                    1.1839600000000001,
                    1.18604,
                    1.1846700000000001,
                    1.1815,
                    1.1765,
                    1.1745,
                    1.1694799999999999,
                    1.1684299999999999,
                    1.17285,
                    1.17006,
                    1.18265,
                    1.18444,
                    1.18566,
                    1.1784299999999999,
                    1.17507,
                    1.1718,
                    1.1754200000000001,
                    1.16557,
                    1.16192,
                    1.1512200000000001,
                    1.1498,
                    1.14629,
                    1.15428,
                    1.15352,
                    1.15304,
                    1.1659899999999999,
                    1.1738,
                    1.1802,
                    1.18485,
                    1.1973799999999999,
                    1.1977200000000001,
                    1.19556,
                    1.19379,
                    1.19177,
                    1.18185,
                    1.19475,
                    1.19411,
                    1.20145,
                    1.20403,
                    1.20913,
                    1.21268,
                    1.21553,
                    1.21781,
                    1.22389,
                    1.22745,
                    1.2264899999999999,
                    1.2233100000000001,
                    1.23063,
                    1.2322600000000001,
                    1.23594,
                    1.2420799999999999,
                    1.2438200000000001,
                    1.24346,
                    1.2445899999999999,
                    1.2425,
                    1.24702,
                    1.2462,
                    1.2469299999999999,
                    1.25078,
                    1.25613,
                    1.2646,
                    1.26052,
                    1.26282,
                    1.26935,
                    1.28093,
                    1.27417,
                    1.27796,
                    1.2867600000000001,
                    1.2897100000000001,
                    1.27957,
                    1.27878,
                    1.2670700000000001,
                    1.26091,
                    1.2423,
                    1.25952,
                    1.2671,
                    1.27485,
                    1.27742,
                    1.2610700000000001,
                    1.2651700000000001,
                    1.2661799999999999,
                    1.25265,
                    1.24911,
                    1.24858,
                    1.25973,
                    1.25609,
                    1.2636399999999999,
                    1.27243
                  ],
                  "low": [
                    1.1203,
                    1.1273799999999998,
                    1.13275,
                    1.13026,
                    1.14362,
                    1.14946,
                    1.1463,
                    1.14681,
                    1.13757,
                    1.13691,
                    1.16215,
                    1.1601299999999999,
                    1.1661700000000002,
                    1.16192,
                    1.16648,
                    1.17972,
                    1.1817600000000001,
                    1.1704700000000001,
                    1.16917,
                    1.17439,
                    1.16524,
                    1.16875,
                    1.16619,
                    1.16287,
                    1.1684299999999999,
                    1.16564,
                    1.1670399999999999,
                    1.16581,
                    1.17036,
                    1.17354,
                    1.18208,
                    1.1768399999999999,
                    1.16611,
                    1.15836,
                    1.15511,
                    1.15081,
                    1.1476600000000001,
                    1.14913,
                    1.1414,
                    1.13994,
                    1.13974,
                    1.15025,
                    1.15049,
                    1.14326,
                    1.1447200000000002,
                    1.13132,
                    1.1258700000000001,
                    1.13047,
                    1.1309799999999999,
                    1.1275899999999999,
                    1.12426,
                    1.1156,
                    1.11123,
                    1.11562,
                    1.11717,
                    1.12411,
                    1.13058,
                    1.13139,
                    1.1423299999999998,
                    1.14439,
                    1.14515,
                    1.1451,
                    1.13352,
                    1.12237,
                    1.11348,
                    1.12581,
                    1.1306399999999999,
                    1.1325399999999999,
                    1.13183,
                    1.12866,
                    1.12628,
                    1.12758,
                    1.12189,
                    1.1224399999999999,
                    1.1240299999999999,
                    1.1123299999999998,
                    1.10545,
                    1.1079299999999999,
                    1.08846,
                    1.0836299999999999,
                    1.08453,
                    1.0793,
                    1.08313,
                    1.08097,
                    1.0868799999999998,
                    1.09517,
                    1.08029,
                    1.07616,
                    1.08064,
                    1.09159,
                    1.10461,
                    1.10524,
                    1.1162,
                    1.1154700000000002,
                    1.1134600000000001,
                    1.12411,
                    1.11538,
                    1.11382,
                    1.1226399999999999,
                    1.12382,
                    1.14134,
                    1.1435799999999998,
                    1.14273,
                    1.14578,
                    1.14404,
                    1.13941,
                    1.15705,
                    1.16424,
                    1.16612,
                    1.155,
                    1.1532200000000001,
                    1.16975,
                    1.17587,
                    1.1684,
                    1.17022,
                    1.16523,
                    1.15818,
                    1.15906,
                    1.15734,
                    1.15526,
                    1.16016,
                    1.1616799999999998,
                    1.16477,
                    1.17561,
                    1.17601,
                    1.1717600000000001,
                    1.1654799999999998,
                    1.16584,
                    1.1616,
                    1.15628,
                    1.14275,
                    1.14262,
                    1.1413,
                    1.13886,
                    1.13783,
                    1.1462700000000001,
                    1.14431,
                    1.1503,
                    1.16251,
                    1.1727100000000001,
                    1.17245,
                    1.17327,
                    1.18733,
                    1.18711,
                    1.18567,
                    1.17565,
                    1.17519,
                    1.17686,
                    1.18831,
                    1.18972,
                    1.19364,
                    1.19407,
                    1.2069299999999998,
                    1.2029,
                    1.2061600000000001,
                    1.21476,
                    1.21869,
                    1.21523,
                    1.21123,
                    1.22071,
                    1.21288,
                    1.23,
                    1.22948,
                    1.23587,
                    1.2343,
                    1.23479,
                    1.23823,
                    1.23924,
                    1.24342,
                    1.2420799999999999,
                    1.24221,
                    1.24758,
                    1.25132,
                    1.24698,
                    1.25214,
                    1.25795,
                    1.2666600000000001,
                    1.2623,
                    1.2559,
                    1.27034,
                    1.27342,
                    1.27119,
                    1.26296,
                    1.25614,
                    1.23504,
                    1.23337,
                    1.2342600000000001,
                    1.25504,
                    1.26346,
                    1.25631,
                    1.24567,
                    1.24403,
                    1.2462799999999998,
                    1.23617,
                    1.23506,
                    1.2389700000000001,
                    1.24139,
                    1.24929,
                    1.25177,
                    1.25118
                  ],
                  "open": [
                    1.12354,
                    1.12798,
                    1.14367,
                    1.13675,
                    1.15002,
                    1.1495799999999998,
                    1.1542700000000001,
                    1.1519,
                    1.14983,
                    1.13845,
                    1.16634,
                    1.1659,
                    1.17059,
                    1.16724,
                    1.16947,
                    1.1827,
                    1.1867,
                    1.18261,
                    1.1765700000000001,
                    1.1882700000000002,
                    1.17149,
                    1.17496,
                    1.17365,
                    1.16635,
                    1.1838899999999999,
                    1.1694,
                    1.17146,
                    1.16746,
                    1.17429,
                    1.17652,
                    1.1869399999999999,
                    1.1838600000000001,
                    1.1791399999999999,
                    1.1684,
                    1.172,
                    1.16025,
                    1.15444,
                    1.15188,
                    1.15449,
                    1.14215,
                    1.1430799999999999,
                    1.15154,
                    1.15619,
                    1.15415,
                    1.14935,
                    1.1487,
                    1.13247,
                    1.1317700000000002,
                    1.13479,
                    1.13877,
                    1.12934,
                    1.1277700000000002,
                    1.11845,
                    1.12119,
                    1.12045,
                    1.12685,
                    1.1346100000000001,
                    1.13267,
                    1.14835,
                    1.14749,
                    1.1508399999999999,
                    1.14947,
                    1.14572,
                    1.13437,
                    1.1242,
                    1.1284299999999998,
                    1.1361299999999999,
                    1.13867,
                    1.13315,
                    1.13716,
                    1.1289799999999999,
                    1.13588,
                    1.12837,
                    1.1323299999999998,
                    1.12635,
                    1.1249,
                    1.11485,
                    1.1138,
                    1.1119299999999999,
                    1.0920299999999998,
                    1.08566,
                    1.0874,
                    1.08544,
                    1.08856,
                    1.08843,
                    1.09943,
                    1.0966799999999999,
                    1.08117,
                    1.08495,
                    1.0944399999999999,
                    1.11043,
                    1.10695,
                    1.12239,
                    1.1210200000000001,
                    1.12094,
                    1.12745,
                    1.1284100000000001,
                    1.11782,
                    1.1284299999999998,
                    1.1257,
                    1.14343,
                    1.14588,
                    1.14445,
                    1.14951,
                    1.14896,
                    1.1455799999999998,
                    1.1601,
                    1.16585,
                    1.17193,
                    1.16943,
                    1.15655,
                    1.1711200000000002,
                    1.1764700000000001,
                    1.18097,
                    1.17467,
                    1.18109,
                    1.1706,
                    1.17264,
                    1.16378,
                    1.1586,
                    1.17098,
                    1.16362,
                    1.16654,
                    1.18021,
                    1.17903,
                    1.1774200000000001,
                    1.17441,
                    1.16701,
                    1.16602,
                    1.16228,
                    1.15778,
                    1.14573,
                    1.14921,
                    1.14391,
                    1.14165,
                    1.15034,
                    1.14798,
                    1.1521,
                    1.1632799999999999,
                    1.17325,
                    1.17764,
                    1.17479,
                    1.19696,
                    1.1875,
                    1.19127,
                    1.19084,
                    1.17718,
                    1.1790200000000002,
                    1.19392,
                    1.19068,
                    1.19717,
                    1.1982,
                    1.20793,
                    1.2109,
                    1.20821,
                    1.21725,
                    1.22173,
                    1.22576,
                    1.22151,
                    1.22213,
                    1.2141899999999999,
                    1.2316799999999999,
                    1.23291,
                    1.24091,
                    1.2422,
                    1.24025,
                    1.23948,
                    1.23943,
                    1.24448,
                    1.24499,
                    1.24258,
                    1.249,
                    1.25495,
                    1.25931,
                    1.2543600000000001,
                    1.25832,
                    1.26736,
                    1.27244,
                    1.26306,
                    1.27653,
                    1.28538,
                    1.27473,
                    1.27736,
                    1.2645600000000001,
                    1.25753,
                    1.23676,
                    1.23496,
                    1.25786,
                    1.26405,
                    1.2716399999999999,
                    1.25742,
                    1.24604,
                    1.26445,
                    1.24681,
                    1.24062,
                    1.24696,
                    1.24248,
                    1.25423,
                    1.25345,
                    1.25471
                  ],
                  "type": "candlestick",
                  "x": [
                    0,
                    1,
                    2,
                    3,
                    4,
                    5,
                    6,
                    7,
                    8,
                    9,
                    10,
                    11,
                    12,
                    13,
                    14,
                    15,
                    16,
                    17,
                    18,
                    19,
                    20,
                    21,
                    22,
                    23,
                    24,
                    25,
                    26,
                    27,
                    28,
                    29,
                    30,
                    31,
                    32,
                    33,
                    34,
                    35,
                    36,
                    37,
                    38,
                    39,
                    40,
                    41,
                    42,
                    43,
                    44,
                    45,
                    46,
                    47,
                    48,
                    49,
                    50,
                    51,
                    52,
                    53,
                    54,
                    55,
                    56,
                    57,
                    58,
                    59,
                    60,
                    61,
                    62,
                    63,
                    64,
                    65,
                    66,
                    67,
                    68,
                    69,
                    70,
                    71,
                    72,
                    73,
                    74,
                    75,
                    76,
                    77,
                    78,
                    79,
                    80,
                    81,
                    82,
                    83,
                    84,
                    85,
                    86,
                    87,
                    88,
                    89,
                    90,
                    91,
                    92,
                    93,
                    94,
                    95,
                    96,
                    97,
                    98,
                    99,
                    100,
                    101,
                    102,
                    103,
                    104,
                    105,
                    106,
                    107,
                    108,
                    109,
                    110,
                    111,
                    112,
                    113,
                    114,
                    115,
                    116,
                    117,
                    118,
                    119,
                    120,
                    121,
                    122,
                    123,
                    124,
                    125,
                    126,
                    127,
                    128,
                    129,
                    130,
                    131,
                    132,
                    133,
                    134,
                    135,
                    136,
                    137,
                    138,
                    139,
                    140,
                    141,
                    142,
                    143,
                    144,
                    145,
                    146,
                    147,
                    148,
                    149,
                    150,
                    151,
                    152,
                    153,
                    154,
                    155,
                    156,
                    157,
                    158,
                    159,
                    160,
                    161,
                    162,
                    163,
                    164,
                    165,
                    166,
                    167,
                    168,
                    169,
                    170,
                    171,
                    172,
                    173,
                    174,
                    175,
                    176,
                    177,
                    178,
                    179,
                    180,
                    181,
                    182,
                    183,
                    184,
                    185,
                    186,
                    187,
                    188,
                    189,
                    190,
                    191,
                    192,
                    193,
                    194,
                    195,
                    196,
                    197,
                    198,
                    199
                  ]
                }
              ],
              "layout": {
                "shapes": [
                  {
                    "type": "line",
                    "x0": 0,
                    "x1": 200,
                    "y0": 1.16244,
                    "y1": 1.16244
                  },
                  {
                    "type": "line",
                    "x0": 0,
                    "x1": 200,
                    "y0": 1.19278,
                    "y1": 1.19278
                  },
                  {
                    "type": "line",
                    "x0": 0,
                    "x1": 200,
                    "y0": 1.13974,
                    "y1": 1.13974
                  },
                  {
                    "type": "line",
                    "x0": 0,
                    "x1": 200,
                    "y0": 1.11123,
                    "y1": 1.11123
                  },
                  {
                    "type": "line",
                    "x0": 0,
                    "x1": 200,
                    "y0": 1.11348,
                    "y1": 1.11348
                  },
                  {
                    "type": "line",
                    "x0": 0,
                    "x1": 200,
                    "y0": 1.14265,
                    "y1": 1.14265
                  },
                  {
                    "type": "line",
                    "x0": 0,
                    "x1": 200,
                    "y0": 1.18604,
                    "y1": 1.18604
                  },
                  {
                    "type": "line",
                    "x0": 0,
                    "x1": 200,
                    "y0": 1.18566,
                    "y1": 1.18566
                  },
                  {
                    "type": "line",
                    "x0": 0,
                    "x1": 200,
                    "y0": 1.1977200000000001,
                    "y1": 1.1977200000000001
                  },
                  {
                    "type": "line",
                    "x0": 0,
                    "x1": 200,
                    "y0": 1.17519,
                    "y1": 1.17519
                  },
                  {
                    "type": "line",
                    "x0": 0,
                    "x1": 200,
                    "y0": 1.22745,
                    "y1": 1.22745
                  },
                  {
                    "type": "line",
                    "x0": 0,
                    "x1": 200,
                    "y0": 1.2897100000000001,
                    "y1": 1.2897100000000001
                  },
                  {
                    "type": "line",
                    "x0": 0,
                    "x1": 200,
                    "y0": 1.23337,
                    "y1": 1.23337
                  }
                ],
                "template": {
                  "data": {
                    "bar": [
                      {
                        "error_x": {
                          "color": "#2a3f5f"
                        },
                        "error_y": {
                          "color": "#2a3f5f"
                        },
                        "marker": {
                          "line": {
                            "color": "#E5ECF6",
                            "width": 0.5
                          }
                        },
                        "type": "bar"
                      }
                    ],
                    "barpolar": [
                      {
                        "marker": {
                          "line": {
                            "color": "#E5ECF6",
                            "width": 0.5
                          }
                        },
                        "type": "barpolar"
                      }
                    ],
                    "carpet": [
                      {
                        "aaxis": {
                          "endlinecolor": "#2a3f5f",
                          "gridcolor": "white",
                          "linecolor": "white",
                          "minorgridcolor": "white",
                          "startlinecolor": "#2a3f5f"
                        },
                        "baxis": {
                          "endlinecolor": "#2a3f5f",
                          "gridcolor": "white",
                          "linecolor": "white",
                          "minorgridcolor": "white",
                          "startlinecolor": "#2a3f5f"
                        },
                        "type": "carpet"
                      }
                    ],
                    "choropleth": [
                      {
                        "colorbar": {
                          "outlinewidth": 0,
                          "ticks": ""
                        },
                        "type": "choropleth"
                      }
                    ],
                    "contour": [
                      {
                        "colorbar": {
                          "outlinewidth": 0,
                          "ticks": ""
                        },
                        "colorscale": [
                          [
                            0,
                            "#0d0887"
                          ],
                          [
                            0.1111111111111111,
                            "#46039f"
                          ],
                          [
                            0.2222222222222222,
                            "#7201a8"
                          ],
                          [
                            0.3333333333333333,
                            "#9c179e"
                          ],
                          [
                            0.4444444444444444,
                            "#bd3786"
                          ],
                          [
                            0.5555555555555556,
                            "#d8576b"
                          ],
                          [
                            0.6666666666666666,
                            "#ed7953"
                          ],
                          [
                            0.7777777777777778,
                            "#fb9f3a"
                          ],
                          [
                            0.8888888888888888,
                            "#fdca26"
                          ],
                          [
                            1,
                            "#f0f921"
                          ]
                        ],
                        "type": "contour"
                      }
                    ],
                    "contourcarpet": [
                      {
                        "colorbar": {
                          "outlinewidth": 0,
                          "ticks": ""
                        },
                        "type": "contourcarpet"
                      }
                    ],
                    "heatmap": [
                      {
                        "colorbar": {
                          "outlinewidth": 0,
                          "ticks": ""
                        },
                        "colorscale": [
                          [
                            0,
                            "#0d0887"
                          ],
                          [
                            0.1111111111111111,
                            "#46039f"
                          ],
                          [
                            0.2222222222222222,
                            "#7201a8"
                          ],
                          [
                            0.3333333333333333,
                            "#9c179e"
                          ],
                          [
                            0.4444444444444444,
                            "#bd3786"
                          ],
                          [
                            0.5555555555555556,
                            "#d8576b"
                          ],
                          [
                            0.6666666666666666,
                            "#ed7953"
                          ],
                          [
                            0.7777777777777778,
                            "#fb9f3a"
                          ],
                          [
                            0.8888888888888888,
                            "#fdca26"
                          ],
                          [
                            1,
                            "#f0f921"
                          ]
                        ],
                        "type": "heatmap"
                      }
                    ],
                    "heatmapgl": [
                      {
                        "colorbar": {
                          "outlinewidth": 0,
                          "ticks": ""
                        },
                        "colorscale": [
                          [
                            0,
                            "#0d0887"
                          ],
                          [
                            0.1111111111111111,
                            "#46039f"
                          ],
                          [
                            0.2222222222222222,
                            "#7201a8"
                          ],
                          [
                            0.3333333333333333,
                            "#9c179e"
                          ],
                          [
                            0.4444444444444444,
                            "#bd3786"
                          ],
                          [
                            0.5555555555555556,
                            "#d8576b"
                          ],
                          [
                            0.6666666666666666,
                            "#ed7953"
                          ],
                          [
                            0.7777777777777778,
                            "#fb9f3a"
                          ],
                          [
                            0.8888888888888888,
                            "#fdca26"
                          ],
                          [
                            1,
                            "#f0f921"
                          ]
                        ],
                        "type": "heatmapgl"
                      }
                    ],
                    "histogram": [
                      {
                        "marker": {
                          "colorbar": {
                            "outlinewidth": 0,
                            "ticks": ""
                          }
                        },
                        "type": "histogram"
                      }
                    ],
                    "histogram2d": [
                      {
                        "colorbar": {
                          "outlinewidth": 0,
                          "ticks": ""
                        },
                        "colorscale": [
                          [
                            0,
                            "#0d0887"
                          ],
                          [
                            0.1111111111111111,
                            "#46039f"
                          ],
                          [
                            0.2222222222222222,
                            "#7201a8"
                          ],
                          [
                            0.3333333333333333,
                            "#9c179e"
                          ],
                          [
                            0.4444444444444444,
                            "#bd3786"
                          ],
                          [
                            0.5555555555555556,
                            "#d8576b"
                          ],
                          [
                            0.6666666666666666,
                            "#ed7953"
                          ],
                          [
                            0.7777777777777778,
                            "#fb9f3a"
                          ],
                          [
                            0.8888888888888888,
                            "#fdca26"
                          ],
                          [
                            1,
                            "#f0f921"
                          ]
                        ],
                        "type": "histogram2d"
                      }
                    ],
                    "histogram2dcontour": [
                      {
                        "colorbar": {
                          "outlinewidth": 0,
                          "ticks": ""
                        },
                        "colorscale": [
                          [
                            0,
                            "#0d0887"
                          ],
                          [
                            0.1111111111111111,
                            "#46039f"
                          ],
                          [
                            0.2222222222222222,
                            "#7201a8"
                          ],
                          [
                            0.3333333333333333,
                            "#9c179e"
                          ],
                          [
                            0.4444444444444444,
                            "#bd3786"
                          ],
                          [
                            0.5555555555555556,
                            "#d8576b"
                          ],
                          [
                            0.6666666666666666,
                            "#ed7953"
                          ],
                          [
                            0.7777777777777778,
                            "#fb9f3a"
                          ],
                          [
                            0.8888888888888888,
                            "#fdca26"
                          ],
                          [
                            1,
                            "#f0f921"
                          ]
                        ],
                        "type": "histogram2dcontour"
                      }
                    ],
                    "mesh3d": [
                      {
                        "colorbar": {
                          "outlinewidth": 0,
                          "ticks": ""
                        },
                        "type": "mesh3d"
                      }
                    ],
                    "parcoords": [
                      {
                        "line": {
                          "colorbar": {
                            "outlinewidth": 0,
                            "ticks": ""
                          }
                        },
                        "type": "parcoords"
                      }
                    ],
                    "pie": [
                      {
                        "automargin": true,
                        "type": "pie"
                      }
                    ],
                    "scatter": [
                      {
                        "marker": {
                          "colorbar": {
                            "outlinewidth": 0,
                            "ticks": ""
                          }
                        },
                        "type": "scatter"
                      }
                    ],
                    "scatter3d": [
                      {
                        "line": {
                          "colorbar": {
                            "outlinewidth": 0,
                            "ticks": ""
                          }
                        },
                        "marker": {
                          "colorbar": {
                            "outlinewidth": 0,
                            "ticks": ""
                          }
                        },
                        "type": "scatter3d"
                      }
                    ],
                    "scattercarpet": [
                      {
                        "marker": {
                          "colorbar": {
                            "outlinewidth": 0,
                            "ticks": ""
                          }
                        },
                        "type": "scattercarpet"
                      }
                    ],
                    "scattergeo": [
                      {
                        "marker": {
                          "colorbar": {
                            "outlinewidth": 0,
                            "ticks": ""
                          }
                        },
                        "type": "scattergeo"
                      }
                    ],
                    "scattergl": [
                      {
                        "marker": {
                          "colorbar": {
                            "outlinewidth": 0,
                            "ticks": ""
                          }
                        },
                        "type": "scattergl"
                      }
                    ],
                    "scattermapbox": [
                      {
                        "marker": {
                          "colorbar": {
                            "outlinewidth": 0,
                            "ticks": ""
                          }
                        },
                        "type": "scattermapbox"
                      }
                    ],
                    "scatterpolar": [
                      {
                        "marker": {
                          "colorbar": {
                            "outlinewidth": 0,
                            "ticks": ""
                          }
                        },
                        "type": "scatterpolar"
                      }
                    ],
                    "scatterpolargl": [
                      {
                        "marker": {
                          "colorbar": {
                            "outlinewidth": 0,
                            "ticks": ""
                          }
                        },
                        "type": "scatterpolargl"
                      }
                    ],
                    "scatterternary": [
                      {
                        "marker": {
                          "colorbar": {
                            "outlinewidth": 0,
                            "ticks": ""
                          }
                        },
                        "type": "scatterternary"
                      }
                    ],
                    "surface": [
                      {
                        "colorbar": {
                          "outlinewidth": 0,
                          "ticks": ""
                        },
                        "colorscale": [
                          [
                            0,
                            "#0d0887"
                          ],
                          [
                            0.1111111111111111,
                            "#46039f"
                          ],
                          [
                            0.2222222222222222,
                            "#7201a8"
                          ],
                          [
                            0.3333333333333333,
                            "#9c179e"
                          ],
                          [
                            0.4444444444444444,
                            "#bd3786"
                          ],
                          [
                            0.5555555555555556,
                            "#d8576b"
                          ],
                          [
                            0.6666666666666666,
                            "#ed7953"
                          ],
                          [
                            0.7777777777777778,
                            "#fb9f3a"
                          ],
                          [
                            0.8888888888888888,
                            "#fdca26"
                          ],
                          [
                            1,
                            "#f0f921"
                          ]
                        ],
                        "type": "surface"
                      }
                    ],
                    "table": [
                      {
                        "cells": {
                          "fill": {
                            "color": "#EBF0F8"
                          },
                          "line": {
                            "color": "white"
                          }
                        },
                        "header": {
                          "fill": {
                            "color": "#C8D4E3"
                          },
                          "line": {
                            "color": "white"
                          }
                        },
                        "type": "table"
                      }
                    ]
                  },
                  "layout": {
                    "annotationdefaults": {
                      "arrowcolor": "#2a3f5f",
                      "arrowhead": 0,
                      "arrowwidth": 1
                    },
                    "coloraxis": {
                      "colorbar": {
                        "outlinewidth": 0,
                        "ticks": ""
                      }
                    },
                    "colorscale": {
                      "diverging": [
                        [
                          0,
                          "#8e0152"
                        ],
                        [
                          0.1,
                          "#c51b7d"
                        ],
                        [
                          0.2,
                          "#de77ae"
                        ],
                        [
                          0.3,
                          "#f1b6da"
                        ],
                        [
                          0.4,
                          "#fde0ef"
                        ],
                        [
                          0.5,
                          "#f7f7f7"
                        ],
                        [
                          0.6,
                          "#e6f5d0"
                        ],
                        [
                          0.7,
                          "#b8e186"
                        ],
                        [
                          0.8,
                          "#7fbc41"
                        ],
                        [
                          0.9,
                          "#4d9221"
                        ],
                        [
                          1,
                          "#276419"
                        ]
                      ],
                      "sequential": [
                        [
                          0,
                          "#0d0887"
                        ],
                        [
                          0.1111111111111111,
                          "#46039f"
                        ],
                        [
                          0.2222222222222222,
                          "#7201a8"
                        ],
                        [
                          0.3333333333333333,
                          "#9c179e"
                        ],
                        [
                          0.4444444444444444,
                          "#bd3786"
                        ],
                        [
                          0.5555555555555556,
                          "#d8576b"
                        ],
                        [
                          0.6666666666666666,
                          "#ed7953"
                        ],
                        [
                          0.7777777777777778,
                          "#fb9f3a"
                        ],
                        [
                          0.8888888888888888,
                          "#fdca26"
                        ],
                        [
                          1,
                          "#f0f921"
                        ]
                      ],
                      "sequentialminus": [
                        [
                          0,
                          "#0d0887"
                        ],
                        [
                          0.1111111111111111,
                          "#46039f"
                        ],
                        [
                          0.2222222222222222,
                          "#7201a8"
                        ],
                        [
                          0.3333333333333333,
                          "#9c179e"
                        ],
                        [
                          0.4444444444444444,
                          "#bd3786"
                        ],
                        [
                          0.5555555555555556,
                          "#d8576b"
                        ],
                        [
                          0.6666666666666666,
                          "#ed7953"
                        ],
                        [
                          0.7777777777777778,
                          "#fb9f3a"
                        ],
                        [
                          0.8888888888888888,
                          "#fdca26"
                        ],
                        [
                          1,
                          "#f0f921"
                        ]
                      ]
                    },
                    "colorway": [
                      "#636efa",
                      "#EF553B",
                      "#00cc96",
                      "#ab63fa",
                      "#FFA15A",
                      "#19d3f3",
                      "#FF6692",
                      "#B6E880",
                      "#FF97FF",
                      "#FECB52"
                    ],
                    "font": {
                      "color": "#2a3f5f"
                    },
                    "geo": {
                      "bgcolor": "white",
                      "lakecolor": "white",
                      "landcolor": "#E5ECF6",
                      "showlakes": true,
                      "showland": true,
                      "subunitcolor": "white"
                    },
                    "hoverlabel": {
                      "align": "left"
                    },
                    "hovermode": "closest",
                    "mapbox": {
                      "style": "light"
                    },
                    "paper_bgcolor": "white",
                    "plot_bgcolor": "#E5ECF6",
                    "polar": {
                      "angularaxis": {
                        "gridcolor": "white",
                        "linecolor": "white",
                        "ticks": ""
                      },
                      "bgcolor": "#E5ECF6",
                      "radialaxis": {
                        "gridcolor": "white",
                        "linecolor": "white",
                        "ticks": ""
                      }
                    },
                    "scene": {
                      "xaxis": {
                        "backgroundcolor": "#E5ECF6",
                        "gridcolor": "white",
                        "gridwidth": 2,
                        "linecolor": "white",
                        "showbackground": true,
                        "ticks": "",
                        "zerolinecolor": "white"
                      },
                      "yaxis": {
                        "backgroundcolor": "#E5ECF6",
                        "gridcolor": "white",
                        "gridwidth": 2,
                        "linecolor": "white",
                        "showbackground": true,
                        "ticks": "",
                        "zerolinecolor": "white"
                      },
                      "zaxis": {
                        "backgroundcolor": "#E5ECF6",
                        "gridcolor": "white",
                        "gridwidth": 2,
                        "linecolor": "white",
                        "showbackground": true,
                        "ticks": "",
                        "zerolinecolor": "white"
                      }
                    },
                    "shapedefaults": {
                      "line": {
                        "color": "#2a3f5f"
                      }
                    },
                    "ternary": {
                      "aaxis": {
                        "gridcolor": "white",
                        "linecolor": "white",
                        "ticks": ""
                      },
                      "baxis": {
                        "gridcolor": "white",
                        "linecolor": "white",
                        "ticks": ""
                      },
                      "bgcolor": "#E5ECF6",
                      "caxis": {
                        "gridcolor": "white",
                        "linecolor": "white",
                        "ticks": ""
                      }
                    },
                    "title": {
                      "x": 0.05
                    },
                    "xaxis": {
                      "automargin": true,
                      "gridcolor": "white",
                      "linecolor": "white",
                      "ticks": "",
                      "title": {
                        "standoff": 15
                      },
                      "zerolinecolor": "white",
                      "zerolinewidth": 2
                    },
                    "yaxis": {
                      "automargin": true,
                      "gridcolor": "white",
                      "linecolor": "white",
                      "ticks": "",
                      "title": {
                        "standoff": 15
                      },
                      "zerolinecolor": "white",
                      "zerolinewidth": 2
                    }
                  }
                }
              }
            },
            "text/html": [
              "<div>\n",
              "        \n",
              "        \n",
              "            <div id=\"f7b1d9bf-a2c9-4e62-86c6-2d6f788a15a2\" class=\"plotly-graph-div\" style=\"height:525px; width:100%;\"></div>\n",
              "            <script type=\"text/javascript\">\n",
              "                require([\"plotly\"], function(Plotly) {\n",
              "                    window.PLOTLYENV=window.PLOTLYENV || {};\n",
              "                    \n",
              "                if (document.getElementById(\"f7b1d9bf-a2c9-4e62-86c6-2d6f788a15a2\")) {\n",
              "                    Plotly.newPlot(\n",
              "                        'f7b1d9bf-a2c9-4e62-86c6-2d6f788a15a2',\n",
              "                        [{\"close\": [1.12804, 1.14368, 1.13677, 1.15026, 1.14907, 1.15457, 1.1515, 1.1497, 1.13877, 1.15735, 1.16596, 1.17069, 1.16746, 1.1693799999999999, 1.18266, 1.1869, 1.18288, 1.17649, 1.1883299999999999, 1.1769100000000001, 1.1747299999999998, 1.17391, 1.16645, 1.18405, 1.17001, 1.17161, 1.16759, 1.17421, 1.17638, 1.1863, 1.18356, 1.17937, 1.16883, 1.17203, 1.1604, 1.15429, 1.15171, 1.15398, 1.14181, 1.14254, 1.15116, 1.15608, 1.15396, 1.14945, 1.1489200000000002, 1.13252, 1.13151, 1.13481, 1.13891, 1.1299, 1.12779, 1.11858, 1.12068, 1.12079, 1.1274600000000001, 1.13495, 1.13315, 1.14754, 1.14695, 1.15079, 1.14909, 1.1458899999999999, 1.13426, 1.12428, 1.12541, 1.1357, 1.13893, 1.13321, 1.13732, 1.13083, 1.13582, 1.1283, 1.1322, 1.1257700000000002, 1.12663, 1.11428, 1.11392, 1.11185, 1.09226, 1.08761, 1.08735, 1.08542, 1.0886, 1.0881100000000001, 1.09847, 1.09675, 1.08079, 1.08474, 1.0943, 1.11049, 1.10649, 1.12238, 1.12076, 1.12089, 1.12913, 1.1281700000000001, 1.1174600000000001, 1.12834, 1.1255600000000001, 1.13792, 1.14602, 1.14404, 1.14949, 1.1490200000000002, 1.1460700000000001, 1.15971, 1.16547, 1.17146, 1.16926, 1.1581, 1.17079, 1.1759, 1.18092, 1.1745700000000001, 1.1795799999999999, 1.1703, 1.17234, 1.16339, 1.15873, 1.16812, 1.16336, 1.1667100000000001, 1.18011, 1.17915, 1.1779700000000002, 1.1744, 1.1670399999999999, 1.16618, 1.16225, 1.15877, 1.14554, 1.14933, 1.14378, 1.14153, 1.15295, 1.1479700000000002, 1.1520000000000001, 1.1628399999999999, 1.1732200000000002, 1.1775799999999998, 1.1747100000000001, 1.1971, 1.1875799999999999, 1.1911100000000001, 1.1915200000000001, 1.177, 1.17899, 1.194, 1.19071, 1.19928, 1.19805, 1.20811, 1.2107700000000001, 1.20855, 1.2166, 1.2218, 1.22543, 1.22145, 1.22187, 1.22756, 1.23173, 1.23302, 1.2410700000000001, 1.24231, 1.23739, 1.23956, 1.23927, 1.2446, 1.2452, 1.24272, 1.24892, 1.25492, 1.25925, 1.25454, 1.25832, 1.2675299999999998, 1.2725600000000001, 1.26322, 1.27661, 1.28149, 1.27493, 1.27714, 1.26473, 1.25766, 1.2396200000000002, 1.23478, 1.25787, 1.26425, 1.27183, 1.25797, 1.24575, 1.2643, 1.24681, 1.24072, 1.24747, 1.24237, 1.25407, 1.25327, 1.2546, 1.27026], \"high\": [1.13019, 1.1451, 1.14448, 1.1509200000000002, 1.1537600000000001, 1.16244, 1.15751, 1.15388, 1.14988, 1.1578600000000001, 1.17363, 1.17156, 1.1745299999999999, 1.17276, 1.18373, 1.18754, 1.193, 1.1845299999999999, 1.19008, 1.1915799999999999, 1.17672, 1.17783, 1.1747299999999998, 1.1886, 1.18785, 1.17859, 1.17415, 1.1782, 1.18058, 1.18774, 1.19278, 1.18662, 1.18039, 1.17387, 1.17347, 1.1603299999999999, 1.15811, 1.16215, 1.15523, 1.14675, 1.15141, 1.16079, 1.1568399999999999, 1.1544299999999998, 1.15019, 1.149, 1.1350799999999999, 1.13667, 1.13924, 1.1390799999999999, 1.1308, 1.1336899999999999, 1.12315, 1.1248799999999999, 1.13032, 1.1354600000000001, 1.13734, 1.14898, 1.15101, 1.15487, 1.15182, 1.1538, 1.1461, 1.13713, 1.12716, 1.13749, 1.13976, 1.14265, 1.1415, 1.13838, 1.13798, 1.13715, 1.1332200000000001, 1.13375, 1.12963, 1.1269, 1.11522, 1.11475, 1.11226, 1.09456, 1.09184, 1.09096, 1.0929799999999998, 1.09125, 1.09974, 1.10138, 1.09713, 1.08725, 1.09505, 1.1112600000000001, 1.11297, 1.12402, 1.12362, 1.12705, 1.13228, 1.1309799999999999, 1.1318, 1.1299700000000001, 1.13424, 1.13837, 1.15046, 1.1524299999999998, 1.15049, 1.15331, 1.14975, 1.16015, 1.17339, 1.17288, 1.17677, 1.17205, 1.1723700000000001, 1.18115, 1.1839600000000001, 1.18604, 1.1846700000000001, 1.1815, 1.1765, 1.1745, 1.1694799999999999, 1.1684299999999999, 1.17285, 1.17006, 1.18265, 1.18444, 1.18566, 1.1784299999999999, 1.17507, 1.1718, 1.1754200000000001, 1.16557, 1.16192, 1.1512200000000001, 1.1498, 1.14629, 1.15428, 1.15352, 1.15304, 1.1659899999999999, 1.1738, 1.1802, 1.18485, 1.1973799999999999, 1.1977200000000001, 1.19556, 1.19379, 1.19177, 1.18185, 1.19475, 1.19411, 1.20145, 1.20403, 1.20913, 1.21268, 1.21553, 1.21781, 1.22389, 1.22745, 1.2264899999999999, 1.2233100000000001, 1.23063, 1.2322600000000001, 1.23594, 1.2420799999999999, 1.2438200000000001, 1.24346, 1.2445899999999999, 1.2425, 1.24702, 1.2462, 1.2469299999999999, 1.25078, 1.25613, 1.2646, 1.26052, 1.26282, 1.26935, 1.28093, 1.27417, 1.27796, 1.2867600000000001, 1.2897100000000001, 1.27957, 1.27878, 1.2670700000000001, 1.26091, 1.2423, 1.25952, 1.2671, 1.27485, 1.27742, 1.2610700000000001, 1.2651700000000001, 1.2661799999999999, 1.25265, 1.24911, 1.24858, 1.25973, 1.25609, 1.2636399999999999, 1.27243], \"low\": [1.1203, 1.1273799999999998, 1.13275, 1.13026, 1.14362, 1.14946, 1.1463, 1.14681, 1.13757, 1.13691, 1.16215, 1.1601299999999999, 1.1661700000000002, 1.16192, 1.16648, 1.17972, 1.1817600000000001, 1.1704700000000001, 1.16917, 1.17439, 1.16524, 1.16875, 1.16619, 1.16287, 1.1684299999999999, 1.16564, 1.1670399999999999, 1.16581, 1.17036, 1.17354, 1.18208, 1.1768399999999999, 1.16611, 1.15836, 1.15511, 1.15081, 1.1476600000000001, 1.14913, 1.1414, 1.13994, 1.13974, 1.15025, 1.15049, 1.14326, 1.1447200000000002, 1.13132, 1.1258700000000001, 1.13047, 1.1309799999999999, 1.1275899999999999, 1.12426, 1.1156, 1.11123, 1.11562, 1.11717, 1.12411, 1.13058, 1.13139, 1.1423299999999998, 1.14439, 1.14515, 1.1451, 1.13352, 1.12237, 1.11348, 1.12581, 1.1306399999999999, 1.1325399999999999, 1.13183, 1.12866, 1.12628, 1.12758, 1.12189, 1.1224399999999999, 1.1240299999999999, 1.1123299999999998, 1.10545, 1.1079299999999999, 1.08846, 1.0836299999999999, 1.08453, 1.0793, 1.08313, 1.08097, 1.0868799999999998, 1.09517, 1.08029, 1.07616, 1.08064, 1.09159, 1.10461, 1.10524, 1.1162, 1.1154700000000002, 1.1134600000000001, 1.12411, 1.11538, 1.11382, 1.1226399999999999, 1.12382, 1.14134, 1.1435799999999998, 1.14273, 1.14578, 1.14404, 1.13941, 1.15705, 1.16424, 1.16612, 1.155, 1.1532200000000001, 1.16975, 1.17587, 1.1684, 1.17022, 1.16523, 1.15818, 1.15906, 1.15734, 1.15526, 1.16016, 1.1616799999999998, 1.16477, 1.17561, 1.17601, 1.1717600000000001, 1.1654799999999998, 1.16584, 1.1616, 1.15628, 1.14275, 1.14262, 1.1413, 1.13886, 1.13783, 1.1462700000000001, 1.14431, 1.1503, 1.16251, 1.1727100000000001, 1.17245, 1.17327, 1.18733, 1.18711, 1.18567, 1.17565, 1.17519, 1.17686, 1.18831, 1.18972, 1.19364, 1.19407, 1.2069299999999998, 1.2029, 1.2061600000000001, 1.21476, 1.21869, 1.21523, 1.21123, 1.22071, 1.21288, 1.23, 1.22948, 1.23587, 1.2343, 1.23479, 1.23823, 1.23924, 1.24342, 1.2420799999999999, 1.24221, 1.24758, 1.25132, 1.24698, 1.25214, 1.25795, 1.2666600000000001, 1.2623, 1.2559, 1.27034, 1.27342, 1.27119, 1.26296, 1.25614, 1.23504, 1.23337, 1.2342600000000001, 1.25504, 1.26346, 1.25631, 1.24567, 1.24403, 1.2462799999999998, 1.23617, 1.23506, 1.2389700000000001, 1.24139, 1.24929, 1.25177, 1.25118], \"open\": [1.12354, 1.12798, 1.14367, 1.13675, 1.15002, 1.1495799999999998, 1.1542700000000001, 1.1519, 1.14983, 1.13845, 1.16634, 1.1659, 1.17059, 1.16724, 1.16947, 1.1827, 1.1867, 1.18261, 1.1765700000000001, 1.1882700000000002, 1.17149, 1.17496, 1.17365, 1.16635, 1.1838899999999999, 1.1694, 1.17146, 1.16746, 1.17429, 1.17652, 1.1869399999999999, 1.1838600000000001, 1.1791399999999999, 1.1684, 1.172, 1.16025, 1.15444, 1.15188, 1.15449, 1.14215, 1.1430799999999999, 1.15154, 1.15619, 1.15415, 1.14935, 1.1487, 1.13247, 1.1317700000000002, 1.13479, 1.13877, 1.12934, 1.1277700000000002, 1.11845, 1.12119, 1.12045, 1.12685, 1.1346100000000001, 1.13267, 1.14835, 1.14749, 1.1508399999999999, 1.14947, 1.14572, 1.13437, 1.1242, 1.1284299999999998, 1.1361299999999999, 1.13867, 1.13315, 1.13716, 1.1289799999999999, 1.13588, 1.12837, 1.1323299999999998, 1.12635, 1.1249, 1.11485, 1.1138, 1.1119299999999999, 1.0920299999999998, 1.08566, 1.0874, 1.08544, 1.08856, 1.08843, 1.09943, 1.0966799999999999, 1.08117, 1.08495, 1.0944399999999999, 1.11043, 1.10695, 1.12239, 1.1210200000000001, 1.12094, 1.12745, 1.1284100000000001, 1.11782, 1.1284299999999998, 1.1257, 1.14343, 1.14588, 1.14445, 1.14951, 1.14896, 1.1455799999999998, 1.1601, 1.16585, 1.17193, 1.16943, 1.15655, 1.1711200000000002, 1.1764700000000001, 1.18097, 1.17467, 1.18109, 1.1706, 1.17264, 1.16378, 1.1586, 1.17098, 1.16362, 1.16654, 1.18021, 1.17903, 1.1774200000000001, 1.17441, 1.16701, 1.16602, 1.16228, 1.15778, 1.14573, 1.14921, 1.14391, 1.14165, 1.15034, 1.14798, 1.1521, 1.1632799999999999, 1.17325, 1.17764, 1.17479, 1.19696, 1.1875, 1.19127, 1.19084, 1.17718, 1.1790200000000002, 1.19392, 1.19068, 1.19717, 1.1982, 1.20793, 1.2109, 1.20821, 1.21725, 1.22173, 1.22576, 1.22151, 1.22213, 1.2141899999999999, 1.2316799999999999, 1.23291, 1.24091, 1.2422, 1.24025, 1.23948, 1.23943, 1.24448, 1.24499, 1.24258, 1.249, 1.25495, 1.25931, 1.2543600000000001, 1.25832, 1.26736, 1.27244, 1.26306, 1.27653, 1.28538, 1.27473, 1.27736, 1.2645600000000001, 1.25753, 1.23676, 1.23496, 1.25786, 1.26405, 1.2716399999999999, 1.25742, 1.24604, 1.26445, 1.24681, 1.24062, 1.24696, 1.24248, 1.25423, 1.25345, 1.25471], \"type\": \"candlestick\", \"x\": [0, 1, 2, 3, 4, 5, 6, 7, 8, 9, 10, 11, 12, 13, 14, 15, 16, 17, 18, 19, 20, 21, 22, 23, 24, 25, 26, 27, 28, 29, 30, 31, 32, 33, 34, 35, 36, 37, 38, 39, 40, 41, 42, 43, 44, 45, 46, 47, 48, 49, 50, 51, 52, 53, 54, 55, 56, 57, 58, 59, 60, 61, 62, 63, 64, 65, 66, 67, 68, 69, 70, 71, 72, 73, 74, 75, 76, 77, 78, 79, 80, 81, 82, 83, 84, 85, 86, 87, 88, 89, 90, 91, 92, 93, 94, 95, 96, 97, 98, 99, 100, 101, 102, 103, 104, 105, 106, 107, 108, 109, 110, 111, 112, 113, 114, 115, 116, 117, 118, 119, 120, 121, 122, 123, 124, 125, 126, 127, 128, 129, 130, 131, 132, 133, 134, 135, 136, 137, 138, 139, 140, 141, 142, 143, 144, 145, 146, 147, 148, 149, 150, 151, 152, 153, 154, 155, 156, 157, 158, 159, 160, 161, 162, 163, 164, 165, 166, 167, 168, 169, 170, 171, 172, 173, 174, 175, 176, 177, 178, 179, 180, 181, 182, 183, 184, 185, 186, 187, 188, 189, 190, 191, 192, 193, 194, 195, 196, 197, 198, 199]}],\n",
              "                        {\"shapes\": [{\"type\": \"line\", \"x0\": 0, \"x1\": 200, \"y0\": 1.16244, \"y1\": 1.16244}, {\"type\": \"line\", \"x0\": 0, \"x1\": 200, \"y0\": 1.19278, \"y1\": 1.19278}, {\"type\": \"line\", \"x0\": 0, \"x1\": 200, \"y0\": 1.13974, \"y1\": 1.13974}, {\"type\": \"line\", \"x0\": 0, \"x1\": 200, \"y0\": 1.11123, \"y1\": 1.11123}, {\"type\": \"line\", \"x0\": 0, \"x1\": 200, \"y0\": 1.11348, \"y1\": 1.11348}, {\"type\": \"line\", \"x0\": 0, \"x1\": 200, \"y0\": 1.14265, \"y1\": 1.14265}, {\"type\": \"line\", \"x0\": 0, \"x1\": 200, \"y0\": 1.18604, \"y1\": 1.18604}, {\"type\": \"line\", \"x0\": 0, \"x1\": 200, \"y0\": 1.18566, \"y1\": 1.18566}, {\"type\": \"line\", \"x0\": 0, \"x1\": 200, \"y0\": 1.1977200000000001, \"y1\": 1.1977200000000001}, {\"type\": \"line\", \"x0\": 0, \"x1\": 200, \"y0\": 1.17519, \"y1\": 1.17519}, {\"type\": \"line\", \"x0\": 0, \"x1\": 200, \"y0\": 1.22745, \"y1\": 1.22745}, {\"type\": \"line\", \"x0\": 0, \"x1\": 200, \"y0\": 1.2897100000000001, \"y1\": 1.2897100000000001}, {\"type\": \"line\", \"x0\": 0, \"x1\": 200, \"y0\": 1.23337, \"y1\": 1.23337}], \"template\": {\"data\": {\"bar\": [{\"error_x\": {\"color\": \"#2a3f5f\"}, \"error_y\": {\"color\": \"#2a3f5f\"}, \"marker\": {\"line\": {\"color\": \"#E5ECF6\", \"width\": 0.5}}, \"type\": \"bar\"}], \"barpolar\": [{\"marker\": {\"line\": {\"color\": \"#E5ECF6\", \"width\": 0.5}}, \"type\": \"barpolar\"}], \"carpet\": [{\"aaxis\": {\"endlinecolor\": \"#2a3f5f\", \"gridcolor\": \"white\", \"linecolor\": \"white\", \"minorgridcolor\": \"white\", \"startlinecolor\": \"#2a3f5f\"}, \"baxis\": {\"endlinecolor\": \"#2a3f5f\", \"gridcolor\": \"white\", \"linecolor\": \"white\", \"minorgridcolor\": \"white\", \"startlinecolor\": \"#2a3f5f\"}, \"type\": \"carpet\"}], \"choropleth\": [{\"colorbar\": {\"outlinewidth\": 0, \"ticks\": \"\"}, \"type\": \"choropleth\"}], \"contour\": [{\"colorbar\": {\"outlinewidth\": 0, \"ticks\": \"\"}, \"colorscale\": [[0.0, \"#0d0887\"], [0.1111111111111111, \"#46039f\"], [0.2222222222222222, \"#7201a8\"], [0.3333333333333333, \"#9c179e\"], [0.4444444444444444, \"#bd3786\"], [0.5555555555555556, \"#d8576b\"], [0.6666666666666666, \"#ed7953\"], [0.7777777777777778, \"#fb9f3a\"], [0.8888888888888888, \"#fdca26\"], [1.0, \"#f0f921\"]], \"type\": \"contour\"}], \"contourcarpet\": [{\"colorbar\": {\"outlinewidth\": 0, \"ticks\": \"\"}, \"type\": \"contourcarpet\"}], \"heatmap\": [{\"colorbar\": {\"outlinewidth\": 0, \"ticks\": \"\"}, \"colorscale\": [[0.0, \"#0d0887\"], [0.1111111111111111, \"#46039f\"], [0.2222222222222222, \"#7201a8\"], [0.3333333333333333, \"#9c179e\"], [0.4444444444444444, \"#bd3786\"], [0.5555555555555556, \"#d8576b\"], [0.6666666666666666, \"#ed7953\"], [0.7777777777777778, \"#fb9f3a\"], [0.8888888888888888, \"#fdca26\"], [1.0, \"#f0f921\"]], \"type\": \"heatmap\"}], \"heatmapgl\": [{\"colorbar\": {\"outlinewidth\": 0, \"ticks\": \"\"}, \"colorscale\": [[0.0, \"#0d0887\"], [0.1111111111111111, \"#46039f\"], [0.2222222222222222, \"#7201a8\"], [0.3333333333333333, \"#9c179e\"], [0.4444444444444444, \"#bd3786\"], [0.5555555555555556, \"#d8576b\"], [0.6666666666666666, \"#ed7953\"], [0.7777777777777778, \"#fb9f3a\"], [0.8888888888888888, \"#fdca26\"], [1.0, \"#f0f921\"]], \"type\": \"heatmapgl\"}], \"histogram\": [{\"marker\": {\"colorbar\": {\"outlinewidth\": 0, \"ticks\": \"\"}}, \"type\": \"histogram\"}], \"histogram2d\": [{\"colorbar\": {\"outlinewidth\": 0, \"ticks\": \"\"}, \"colorscale\": [[0.0, \"#0d0887\"], [0.1111111111111111, \"#46039f\"], [0.2222222222222222, \"#7201a8\"], [0.3333333333333333, \"#9c179e\"], [0.4444444444444444, \"#bd3786\"], [0.5555555555555556, \"#d8576b\"], [0.6666666666666666, \"#ed7953\"], [0.7777777777777778, \"#fb9f3a\"], [0.8888888888888888, \"#fdca26\"], [1.0, \"#f0f921\"]], \"type\": \"histogram2d\"}], \"histogram2dcontour\": [{\"colorbar\": {\"outlinewidth\": 0, \"ticks\": \"\"}, \"colorscale\": [[0.0, \"#0d0887\"], [0.1111111111111111, \"#46039f\"], [0.2222222222222222, \"#7201a8\"], [0.3333333333333333, \"#9c179e\"], [0.4444444444444444, \"#bd3786\"], [0.5555555555555556, \"#d8576b\"], [0.6666666666666666, \"#ed7953\"], [0.7777777777777778, \"#fb9f3a\"], [0.8888888888888888, \"#fdca26\"], [1.0, \"#f0f921\"]], \"type\": \"histogram2dcontour\"}], \"mesh3d\": [{\"colorbar\": {\"outlinewidth\": 0, \"ticks\": \"\"}, \"type\": \"mesh3d\"}], \"parcoords\": [{\"line\": {\"colorbar\": {\"outlinewidth\": 0, \"ticks\": \"\"}}, \"type\": \"parcoords\"}], \"pie\": [{\"automargin\": true, \"type\": \"pie\"}], \"scatter\": [{\"marker\": {\"colorbar\": {\"outlinewidth\": 0, \"ticks\": \"\"}}, \"type\": \"scatter\"}], \"scatter3d\": [{\"line\": {\"colorbar\": {\"outlinewidth\": 0, \"ticks\": \"\"}}, \"marker\": {\"colorbar\": {\"outlinewidth\": 0, \"ticks\": \"\"}}, \"type\": \"scatter3d\"}], \"scattercarpet\": [{\"marker\": {\"colorbar\": {\"outlinewidth\": 0, \"ticks\": \"\"}}, \"type\": \"scattercarpet\"}], \"scattergeo\": [{\"marker\": {\"colorbar\": {\"outlinewidth\": 0, \"ticks\": \"\"}}, \"type\": \"scattergeo\"}], \"scattergl\": [{\"marker\": {\"colorbar\": {\"outlinewidth\": 0, \"ticks\": \"\"}}, \"type\": \"scattergl\"}], \"scattermapbox\": [{\"marker\": {\"colorbar\": {\"outlinewidth\": 0, \"ticks\": \"\"}}, \"type\": \"scattermapbox\"}], \"scatterpolar\": [{\"marker\": {\"colorbar\": {\"outlinewidth\": 0, \"ticks\": \"\"}}, \"type\": \"scatterpolar\"}], \"scatterpolargl\": [{\"marker\": {\"colorbar\": {\"outlinewidth\": 0, \"ticks\": \"\"}}, \"type\": \"scatterpolargl\"}], \"scatterternary\": [{\"marker\": {\"colorbar\": {\"outlinewidth\": 0, \"ticks\": \"\"}}, \"type\": \"scatterternary\"}], \"surface\": [{\"colorbar\": {\"outlinewidth\": 0, \"ticks\": \"\"}, \"colorscale\": [[0.0, \"#0d0887\"], [0.1111111111111111, \"#46039f\"], [0.2222222222222222, \"#7201a8\"], [0.3333333333333333, \"#9c179e\"], [0.4444444444444444, \"#bd3786\"], [0.5555555555555556, \"#d8576b\"], [0.6666666666666666, \"#ed7953\"], [0.7777777777777778, \"#fb9f3a\"], [0.8888888888888888, \"#fdca26\"], [1.0, \"#f0f921\"]], \"type\": \"surface\"}], \"table\": [{\"cells\": {\"fill\": {\"color\": \"#EBF0F8\"}, \"line\": {\"color\": \"white\"}}, \"header\": {\"fill\": {\"color\": \"#C8D4E3\"}, \"line\": {\"color\": \"white\"}}, \"type\": \"table\"}]}, \"layout\": {\"annotationdefaults\": {\"arrowcolor\": \"#2a3f5f\", \"arrowhead\": 0, \"arrowwidth\": 1}, \"coloraxis\": {\"colorbar\": {\"outlinewidth\": 0, \"ticks\": \"\"}}, \"colorscale\": {\"diverging\": [[0, \"#8e0152\"], [0.1, \"#c51b7d\"], [0.2, \"#de77ae\"], [0.3, \"#f1b6da\"], [0.4, \"#fde0ef\"], [0.5, \"#f7f7f7\"], [0.6, \"#e6f5d0\"], [0.7, \"#b8e186\"], [0.8, \"#7fbc41\"], [0.9, \"#4d9221\"], [1, \"#276419\"]], \"sequential\": [[0.0, \"#0d0887\"], [0.1111111111111111, \"#46039f\"], [0.2222222222222222, \"#7201a8\"], [0.3333333333333333, \"#9c179e\"], [0.4444444444444444, \"#bd3786\"], [0.5555555555555556, \"#d8576b\"], [0.6666666666666666, \"#ed7953\"], [0.7777777777777778, \"#fb9f3a\"], [0.8888888888888888, \"#fdca26\"], [1.0, \"#f0f921\"]], \"sequentialminus\": [[0.0, \"#0d0887\"], [0.1111111111111111, \"#46039f\"], [0.2222222222222222, \"#7201a8\"], [0.3333333333333333, \"#9c179e\"], [0.4444444444444444, \"#bd3786\"], [0.5555555555555556, \"#d8576b\"], [0.6666666666666666, \"#ed7953\"], [0.7777777777777778, \"#fb9f3a\"], [0.8888888888888888, \"#fdca26\"], [1.0, \"#f0f921\"]]}, \"colorway\": [\"#636efa\", \"#EF553B\", \"#00cc96\", \"#ab63fa\", \"#FFA15A\", \"#19d3f3\", \"#FF6692\", \"#B6E880\", \"#FF97FF\", \"#FECB52\"], \"font\": {\"color\": \"#2a3f5f\"}, \"geo\": {\"bgcolor\": \"white\", \"lakecolor\": \"white\", \"landcolor\": \"#E5ECF6\", \"showlakes\": true, \"showland\": true, \"subunitcolor\": \"white\"}, \"hoverlabel\": {\"align\": \"left\"}, \"hovermode\": \"closest\", \"mapbox\": {\"style\": \"light\"}, \"paper_bgcolor\": \"white\", \"plot_bgcolor\": \"#E5ECF6\", \"polar\": {\"angularaxis\": {\"gridcolor\": \"white\", \"linecolor\": \"white\", \"ticks\": \"\"}, \"bgcolor\": \"#E5ECF6\", \"radialaxis\": {\"gridcolor\": \"white\", \"linecolor\": \"white\", \"ticks\": \"\"}}, \"scene\": {\"xaxis\": {\"backgroundcolor\": \"#E5ECF6\", \"gridcolor\": \"white\", \"gridwidth\": 2, \"linecolor\": \"white\", \"showbackground\": true, \"ticks\": \"\", \"zerolinecolor\": \"white\"}, \"yaxis\": {\"backgroundcolor\": \"#E5ECF6\", \"gridcolor\": \"white\", \"gridwidth\": 2, \"linecolor\": \"white\", \"showbackground\": true, \"ticks\": \"\", \"zerolinecolor\": \"white\"}, \"zaxis\": {\"backgroundcolor\": \"#E5ECF6\", \"gridcolor\": \"white\", \"gridwidth\": 2, \"linecolor\": \"white\", \"showbackground\": true, \"ticks\": \"\", \"zerolinecolor\": \"white\"}}, \"shapedefaults\": {\"line\": {\"color\": \"#2a3f5f\"}}, \"ternary\": {\"aaxis\": {\"gridcolor\": \"white\", \"linecolor\": \"white\", \"ticks\": \"\"}, \"baxis\": {\"gridcolor\": \"white\", \"linecolor\": \"white\", \"ticks\": \"\"}, \"bgcolor\": \"#E5ECF6\", \"caxis\": {\"gridcolor\": \"white\", \"linecolor\": \"white\", \"ticks\": \"\"}}, \"title\": {\"x\": 0.05}, \"xaxis\": {\"automargin\": true, \"gridcolor\": \"white\", \"linecolor\": \"white\", \"ticks\": \"\", \"title\": {\"standoff\": 15}, \"zerolinecolor\": \"white\", \"zerolinewidth\": 2}, \"yaxis\": {\"automargin\": true, \"gridcolor\": \"white\", \"linecolor\": \"white\", \"ticks\": \"\", \"title\": {\"standoff\": 15}, \"zerolinecolor\": \"white\", \"zerolinewidth\": 2}}}},\n",
              "                        {\"responsive\": true}\n",
              "                    ).then(function(){\n",
              "                            \n",
              "var gd = document.getElementById('f7b1d9bf-a2c9-4e62-86c6-2d6f788a15a2');\n",
              "var x = new MutationObserver(function (mutations, observer) {{\n",
              "        var display = window.getComputedStyle(gd).display;\n",
              "        if (!display || display === 'none') {{\n",
              "            console.log([gd, 'removed!']);\n",
              "            Plotly.purge(gd);\n",
              "            observer.disconnect();\n",
              "        }}\n",
              "}});\n",
              "\n",
              "// Listen for the removal of the full notebook cells\n",
              "var notebookContainer = gd.closest('#notebook-container');\n",
              "if (notebookContainer) {{\n",
              "    x.observe(notebookContainer, {childList: true});\n",
              "}}\n",
              "\n",
              "// Listen for the clearing of the current output cell\n",
              "var outputEl = gd.closest('.output');\n",
              "if (outputEl) {{\n",
              "    x.observe(outputEl, {childList: true});\n",
              "}}\n",
              "\n",
              "                        })\n",
              "                };\n",
              "                });\n",
              "            </script>\n",
              "        </div>"
            ]
          },
          "metadata": {},
          "output_type": "display_data"
        }
      ],
      "source": [
        "s = 0\n",
        "e = 200\n",
        "dfpl = df[s:e]\n",
        "import plotly.graph_objects as go\n",
        "from datetime import datetime\n",
        "import matplotlib.pyplot as plt\n",
        "\n",
        "fig = go.Figure(data=[go.Candlestick(x=dfpl.index,\n",
        "                open=dfpl['open'],\n",
        "                high=dfpl['high'],\n",
        "                low=dfpl['low'],\n",
        "                close=dfpl['close'])])\n",
        "\n",
        "c=0\n",
        "while (1):\n",
        "    if(c>len(sr)-1 ):#or sr[c][0]>e\n",
        "        break\n",
        "    fig.add_shape(type='line', x0=s, y0=sr[c][1],\n",
        "                  x1=e,\n",
        "                  y1=sr[c][1]\n",
        "                  )#x0=sr[c][0]-5 x1=sr[c][0]+5\n",
        "    c+=1\n",
        "fig.show()"
      ]
    },
    {
      "cell_type": "code",
      "execution_count": null,
      "metadata": {
        "id": "GfAdnMApq4wG",
        "outputId": "b312eabc-3b7b-498f-c597-2e81e1b4d08a"
      },
      "outputs": [
        {
          "data": {
            "text/plain": [
              "[1.14265, 1.16244, 1.18566, 1.19278, 1.22745, 1.2897100000000001]"
            ]
          },
          "execution_count": 9,
          "metadata": {},
          "output_type": "execute_result"
        }
      ],
      "source": [
        "plotlist1 = [x[1] for x in sr if x[2]==1]\n",
        "plotlist2 = [x[1] for x in sr if x[2]==2]\n",
        "plotlist1.sort()\n",
        "plotlist2.sort()\n",
        "\n",
        "for i in range(1,len(plotlist1)):\n",
        "    if(i>=len(plotlist1)):\n",
        "        break\n",
        "    if abs(plotlist1[i]-plotlist1[i-1])<=0.005:\n",
        "        plotlist1.pop(i)\n",
        "\n",
        "for i in range(1,len(plotlist2)):\n",
        "    if(i>=len(plotlist2)):\n",
        "        break\n",
        "    if abs(plotlist2[i]-plotlist2[i-1])<=0.005:\n",
        "        plotlist2.pop(i)\n",
        "plotlist2\n",
        "#plt.hist(plotlist, bins=10, alpha=0.5)"
      ]
    },
    {
      "cell_type": "code",
      "execution_count": null,
      "metadata": {
        "id": "u2Ys8W8Lq4wJ",
        "outputId": "aea6efab-a5bb-4e69-dc4a-ee4cd6f29f58"
      },
      "outputs": [
        {
          "data": {
            "application/vnd.plotly.v1+json": {
              "config": {
                "plotlyServerURL": "https://plot.ly"
              },
              "data": [
                {
                  "close": [
                    1.12804,
                    1.14368,
                    1.13677,
                    1.15026,
                    1.14907,
                    1.15457,
                    1.1515,
                    1.1497,
                    1.13877,
                    1.15735,
                    1.16596,
                    1.17069,
                    1.16746,
                    1.1693799999999999,
                    1.18266,
                    1.1869,
                    1.18288,
                    1.17649,
                    1.1883299999999999,
                    1.1769100000000001,
                    1.1747299999999998,
                    1.17391,
                    1.16645,
                    1.18405,
                    1.17001,
                    1.17161,
                    1.16759,
                    1.17421,
                    1.17638,
                    1.1863,
                    1.18356,
                    1.17937,
                    1.16883,
                    1.17203,
                    1.1604,
                    1.15429,
                    1.15171,
                    1.15398,
                    1.14181,
                    1.14254,
                    1.15116,
                    1.15608,
                    1.15396,
                    1.14945,
                    1.1489200000000002,
                    1.13252,
                    1.13151,
                    1.13481,
                    1.13891,
                    1.1299,
                    1.12779,
                    1.11858,
                    1.12068,
                    1.12079,
                    1.1274600000000001,
                    1.13495,
                    1.13315,
                    1.14754,
                    1.14695,
                    1.15079,
                    1.14909,
                    1.1458899999999999,
                    1.13426,
                    1.12428,
                    1.12541,
                    1.1357,
                    1.13893,
                    1.13321,
                    1.13732,
                    1.13083,
                    1.13582,
                    1.1283,
                    1.1322,
                    1.1257700000000002,
                    1.12663,
                    1.11428,
                    1.11392,
                    1.11185,
                    1.09226,
                    1.08761,
                    1.08735,
                    1.08542,
                    1.0886,
                    1.0881100000000001,
                    1.09847,
                    1.09675,
                    1.08079,
                    1.08474,
                    1.0943,
                    1.11049,
                    1.10649,
                    1.12238,
                    1.12076,
                    1.12089,
                    1.12913,
                    1.1281700000000001,
                    1.1174600000000001,
                    1.12834,
                    1.1255600000000001,
                    1.13792,
                    1.14602,
                    1.14404,
                    1.14949,
                    1.1490200000000002,
                    1.1460700000000001,
                    1.15971,
                    1.16547,
                    1.17146,
                    1.16926,
                    1.1581,
                    1.17079,
                    1.1759,
                    1.18092,
                    1.1745700000000001,
                    1.1795799999999999,
                    1.1703,
                    1.17234,
                    1.16339,
                    1.15873,
                    1.16812,
                    1.16336,
                    1.1667100000000001,
                    1.18011,
                    1.17915,
                    1.1779700000000002,
                    1.1744,
                    1.1670399999999999,
                    1.16618,
                    1.16225,
                    1.15877,
                    1.14554,
                    1.14933,
                    1.14378,
                    1.14153,
                    1.15295,
                    1.1479700000000002,
                    1.1520000000000001,
                    1.1628399999999999,
                    1.1732200000000002,
                    1.1775799999999998,
                    1.1747100000000001,
                    1.1971,
                    1.1875799999999999,
                    1.1911100000000001,
                    1.1915200000000001,
                    1.177,
                    1.17899,
                    1.194,
                    1.19071,
                    1.19928,
                    1.19805,
                    1.20811,
                    1.2107700000000001,
                    1.20855,
                    1.2166,
                    1.2218,
                    1.22543,
                    1.22145,
                    1.22187,
                    1.22756,
                    1.23173,
                    1.23302,
                    1.2410700000000001,
                    1.24231,
                    1.23739,
                    1.23956,
                    1.23927,
                    1.2446,
                    1.2452,
                    1.24272,
                    1.24892,
                    1.25492,
                    1.25925,
                    1.25454,
                    1.25832,
                    1.2675299999999998,
                    1.2725600000000001,
                    1.26322,
                    1.27661,
                    1.28149,
                    1.27493,
                    1.27714,
                    1.26473,
                    1.25766,
                    1.2396200000000002,
                    1.23478,
                    1.25787,
                    1.26425,
                    1.27183,
                    1.25797,
                    1.24575,
                    1.2643,
                    1.24681,
                    1.24072,
                    1.24747,
                    1.24237,
                    1.25407,
                    1.25327,
                    1.2546,
                    1.27026
                  ],
                  "high": [
                    1.13019,
                    1.1451,
                    1.14448,
                    1.1509200000000002,
                    1.1537600000000001,
                    1.16244,
                    1.15751,
                    1.15388,
                    1.14988,
                    1.1578600000000001,
                    1.17363,
                    1.17156,
                    1.1745299999999999,
                    1.17276,
                    1.18373,
                    1.18754,
                    1.193,
                    1.1845299999999999,
                    1.19008,
                    1.1915799999999999,
                    1.17672,
                    1.17783,
                    1.1747299999999998,
                    1.1886,
                    1.18785,
                    1.17859,
                    1.17415,
                    1.1782,
                    1.18058,
                    1.18774,
                    1.19278,
                    1.18662,
                    1.18039,
                    1.17387,
                    1.17347,
                    1.1603299999999999,
                    1.15811,
                    1.16215,
                    1.15523,
                    1.14675,
                    1.15141,
                    1.16079,
                    1.1568399999999999,
                    1.1544299999999998,
                    1.15019,
                    1.149,
                    1.1350799999999999,
                    1.13667,
                    1.13924,
                    1.1390799999999999,
                    1.1308,
                    1.1336899999999999,
                    1.12315,
                    1.1248799999999999,
                    1.13032,
                    1.1354600000000001,
                    1.13734,
                    1.14898,
                    1.15101,
                    1.15487,
                    1.15182,
                    1.1538,
                    1.1461,
                    1.13713,
                    1.12716,
                    1.13749,
                    1.13976,
                    1.14265,
                    1.1415,
                    1.13838,
                    1.13798,
                    1.13715,
                    1.1332200000000001,
                    1.13375,
                    1.12963,
                    1.1269,
                    1.11522,
                    1.11475,
                    1.11226,
                    1.09456,
                    1.09184,
                    1.09096,
                    1.0929799999999998,
                    1.09125,
                    1.09974,
                    1.10138,
                    1.09713,
                    1.08725,
                    1.09505,
                    1.1112600000000001,
                    1.11297,
                    1.12402,
                    1.12362,
                    1.12705,
                    1.13228,
                    1.1309799999999999,
                    1.1318,
                    1.1299700000000001,
                    1.13424,
                    1.13837,
                    1.15046,
                    1.1524299999999998,
                    1.15049,
                    1.15331,
                    1.14975,
                    1.16015,
                    1.17339,
                    1.17288,
                    1.17677,
                    1.17205,
                    1.1723700000000001,
                    1.18115,
                    1.1839600000000001,
                    1.18604,
                    1.1846700000000001,
                    1.1815,
                    1.1765,
                    1.1745,
                    1.1694799999999999,
                    1.1684299999999999,
                    1.17285,
                    1.17006,
                    1.18265,
                    1.18444,
                    1.18566,
                    1.1784299999999999,
                    1.17507,
                    1.1718,
                    1.1754200000000001,
                    1.16557,
                    1.16192,
                    1.1512200000000001,
                    1.1498,
                    1.14629,
                    1.15428,
                    1.15352,
                    1.15304,
                    1.1659899999999999,
                    1.1738,
                    1.1802,
                    1.18485,
                    1.1973799999999999,
                    1.1977200000000001,
                    1.19556,
                    1.19379,
                    1.19177,
                    1.18185,
                    1.19475,
                    1.19411,
                    1.20145,
                    1.20403,
                    1.20913,
                    1.21268,
                    1.21553,
                    1.21781,
                    1.22389,
                    1.22745,
                    1.2264899999999999,
                    1.2233100000000001,
                    1.23063,
                    1.2322600000000001,
                    1.23594,
                    1.2420799999999999,
                    1.2438200000000001,
                    1.24346,
                    1.2445899999999999,
                    1.2425,
                    1.24702,
                    1.2462,
                    1.2469299999999999,
                    1.25078,
                    1.25613,
                    1.2646,
                    1.26052,
                    1.26282,
                    1.26935,
                    1.28093,
                    1.27417,
                    1.27796,
                    1.2867600000000001,
                    1.2897100000000001,
                    1.27957,
                    1.27878,
                    1.2670700000000001,
                    1.26091,
                    1.2423,
                    1.25952,
                    1.2671,
                    1.27485,
                    1.27742,
                    1.2610700000000001,
                    1.2651700000000001,
                    1.2661799999999999,
                    1.25265,
                    1.24911,
                    1.24858,
                    1.25973,
                    1.25609,
                    1.2636399999999999,
                    1.27243
                  ],
                  "low": [
                    1.1203,
                    1.1273799999999998,
                    1.13275,
                    1.13026,
                    1.14362,
                    1.14946,
                    1.1463,
                    1.14681,
                    1.13757,
                    1.13691,
                    1.16215,
                    1.1601299999999999,
                    1.1661700000000002,
                    1.16192,
                    1.16648,
                    1.17972,
                    1.1817600000000001,
                    1.1704700000000001,
                    1.16917,
                    1.17439,
                    1.16524,
                    1.16875,
                    1.16619,
                    1.16287,
                    1.1684299999999999,
                    1.16564,
                    1.1670399999999999,
                    1.16581,
                    1.17036,
                    1.17354,
                    1.18208,
                    1.1768399999999999,
                    1.16611,
                    1.15836,
                    1.15511,
                    1.15081,
                    1.1476600000000001,
                    1.14913,
                    1.1414,
                    1.13994,
                    1.13974,
                    1.15025,
                    1.15049,
                    1.14326,
                    1.1447200000000002,
                    1.13132,
                    1.1258700000000001,
                    1.13047,
                    1.1309799999999999,
                    1.1275899999999999,
                    1.12426,
                    1.1156,
                    1.11123,
                    1.11562,
                    1.11717,
                    1.12411,
                    1.13058,
                    1.13139,
                    1.1423299999999998,
                    1.14439,
                    1.14515,
                    1.1451,
                    1.13352,
                    1.12237,
                    1.11348,
                    1.12581,
                    1.1306399999999999,
                    1.1325399999999999,
                    1.13183,
                    1.12866,
                    1.12628,
                    1.12758,
                    1.12189,
                    1.1224399999999999,
                    1.1240299999999999,
                    1.1123299999999998,
                    1.10545,
                    1.1079299999999999,
                    1.08846,
                    1.0836299999999999,
                    1.08453,
                    1.0793,
                    1.08313,
                    1.08097,
                    1.0868799999999998,
                    1.09517,
                    1.08029,
                    1.07616,
                    1.08064,
                    1.09159,
                    1.10461,
                    1.10524,
                    1.1162,
                    1.1154700000000002,
                    1.1134600000000001,
                    1.12411,
                    1.11538,
                    1.11382,
                    1.1226399999999999,
                    1.12382,
                    1.14134,
                    1.1435799999999998,
                    1.14273,
                    1.14578,
                    1.14404,
                    1.13941,
                    1.15705,
                    1.16424,
                    1.16612,
                    1.155,
                    1.1532200000000001,
                    1.16975,
                    1.17587,
                    1.1684,
                    1.17022,
                    1.16523,
                    1.15818,
                    1.15906,
                    1.15734,
                    1.15526,
                    1.16016,
                    1.1616799999999998,
                    1.16477,
                    1.17561,
                    1.17601,
                    1.1717600000000001,
                    1.1654799999999998,
                    1.16584,
                    1.1616,
                    1.15628,
                    1.14275,
                    1.14262,
                    1.1413,
                    1.13886,
                    1.13783,
                    1.1462700000000001,
                    1.14431,
                    1.1503,
                    1.16251,
                    1.1727100000000001,
                    1.17245,
                    1.17327,
                    1.18733,
                    1.18711,
                    1.18567,
                    1.17565,
                    1.17519,
                    1.17686,
                    1.18831,
                    1.18972,
                    1.19364,
                    1.19407,
                    1.2069299999999998,
                    1.2029,
                    1.2061600000000001,
                    1.21476,
                    1.21869,
                    1.21523,
                    1.21123,
                    1.22071,
                    1.21288,
                    1.23,
                    1.22948,
                    1.23587,
                    1.2343,
                    1.23479,
                    1.23823,
                    1.23924,
                    1.24342,
                    1.2420799999999999,
                    1.24221,
                    1.24758,
                    1.25132,
                    1.24698,
                    1.25214,
                    1.25795,
                    1.2666600000000001,
                    1.2623,
                    1.2559,
                    1.27034,
                    1.27342,
                    1.27119,
                    1.26296,
                    1.25614,
                    1.23504,
                    1.23337,
                    1.2342600000000001,
                    1.25504,
                    1.26346,
                    1.25631,
                    1.24567,
                    1.24403,
                    1.2462799999999998,
                    1.23617,
                    1.23506,
                    1.2389700000000001,
                    1.24139,
                    1.24929,
                    1.25177,
                    1.25118
                  ],
                  "open": [
                    1.12354,
                    1.12798,
                    1.14367,
                    1.13675,
                    1.15002,
                    1.1495799999999998,
                    1.1542700000000001,
                    1.1519,
                    1.14983,
                    1.13845,
                    1.16634,
                    1.1659,
                    1.17059,
                    1.16724,
                    1.16947,
                    1.1827,
                    1.1867,
                    1.18261,
                    1.1765700000000001,
                    1.1882700000000002,
                    1.17149,
                    1.17496,
                    1.17365,
                    1.16635,
                    1.1838899999999999,
                    1.1694,
                    1.17146,
                    1.16746,
                    1.17429,
                    1.17652,
                    1.1869399999999999,
                    1.1838600000000001,
                    1.1791399999999999,
                    1.1684,
                    1.172,
                    1.16025,
                    1.15444,
                    1.15188,
                    1.15449,
                    1.14215,
                    1.1430799999999999,
                    1.15154,
                    1.15619,
                    1.15415,
                    1.14935,
                    1.1487,
                    1.13247,
                    1.1317700000000002,
                    1.13479,
                    1.13877,
                    1.12934,
                    1.1277700000000002,
                    1.11845,
                    1.12119,
                    1.12045,
                    1.12685,
                    1.1346100000000001,
                    1.13267,
                    1.14835,
                    1.14749,
                    1.1508399999999999,
                    1.14947,
                    1.14572,
                    1.13437,
                    1.1242,
                    1.1284299999999998,
                    1.1361299999999999,
                    1.13867,
                    1.13315,
                    1.13716,
                    1.1289799999999999,
                    1.13588,
                    1.12837,
                    1.1323299999999998,
                    1.12635,
                    1.1249,
                    1.11485,
                    1.1138,
                    1.1119299999999999,
                    1.0920299999999998,
                    1.08566,
                    1.0874,
                    1.08544,
                    1.08856,
                    1.08843,
                    1.09943,
                    1.0966799999999999,
                    1.08117,
                    1.08495,
                    1.0944399999999999,
                    1.11043,
                    1.10695,
                    1.12239,
                    1.1210200000000001,
                    1.12094,
                    1.12745,
                    1.1284100000000001,
                    1.11782,
                    1.1284299999999998,
                    1.1257,
                    1.14343,
                    1.14588,
                    1.14445,
                    1.14951,
                    1.14896,
                    1.1455799999999998,
                    1.1601,
                    1.16585,
                    1.17193,
                    1.16943,
                    1.15655,
                    1.1711200000000002,
                    1.1764700000000001,
                    1.18097,
                    1.17467,
                    1.18109,
                    1.1706,
                    1.17264,
                    1.16378,
                    1.1586,
                    1.17098,
                    1.16362,
                    1.16654,
                    1.18021,
                    1.17903,
                    1.1774200000000001,
                    1.17441,
                    1.16701,
                    1.16602,
                    1.16228,
                    1.15778,
                    1.14573,
                    1.14921,
                    1.14391,
                    1.14165,
                    1.15034,
                    1.14798,
                    1.1521,
                    1.1632799999999999,
                    1.17325,
                    1.17764,
                    1.17479,
                    1.19696,
                    1.1875,
                    1.19127,
                    1.19084,
                    1.17718,
                    1.1790200000000002,
                    1.19392,
                    1.19068,
                    1.19717,
                    1.1982,
                    1.20793,
                    1.2109,
                    1.20821,
                    1.21725,
                    1.22173,
                    1.22576,
                    1.22151,
                    1.22213,
                    1.2141899999999999,
                    1.2316799999999999,
                    1.23291,
                    1.24091,
                    1.2422,
                    1.24025,
                    1.23948,
                    1.23943,
                    1.24448,
                    1.24499,
                    1.24258,
                    1.249,
                    1.25495,
                    1.25931,
                    1.2543600000000001,
                    1.25832,
                    1.26736,
                    1.27244,
                    1.26306,
                    1.27653,
                    1.28538,
                    1.27473,
                    1.27736,
                    1.2645600000000001,
                    1.25753,
                    1.23676,
                    1.23496,
                    1.25786,
                    1.26405,
                    1.2716399999999999,
                    1.25742,
                    1.24604,
                    1.26445,
                    1.24681,
                    1.24062,
                    1.24696,
                    1.24248,
                    1.25423,
                    1.25345,
                    1.25471
                  ],
                  "type": "candlestick",
                  "x": [
                    0,
                    1,
                    2,
                    3,
                    4,
                    5,
                    6,
                    7,
                    8,
                    9,
                    10,
                    11,
                    12,
                    13,
                    14,
                    15,
                    16,
                    17,
                    18,
                    19,
                    20,
                    21,
                    22,
                    23,
                    24,
                    25,
                    26,
                    27,
                    28,
                    29,
                    30,
                    31,
                    32,
                    33,
                    34,
                    35,
                    36,
                    37,
                    38,
                    39,
                    40,
                    41,
                    42,
                    43,
                    44,
                    45,
                    46,
                    47,
                    48,
                    49,
                    50,
                    51,
                    52,
                    53,
                    54,
                    55,
                    56,
                    57,
                    58,
                    59,
                    60,
                    61,
                    62,
                    63,
                    64,
                    65,
                    66,
                    67,
                    68,
                    69,
                    70,
                    71,
                    72,
                    73,
                    74,
                    75,
                    76,
                    77,
                    78,
                    79,
                    80,
                    81,
                    82,
                    83,
                    84,
                    85,
                    86,
                    87,
                    88,
                    89,
                    90,
                    91,
                    92,
                    93,
                    94,
                    95,
                    96,
                    97,
                    98,
                    99,
                    100,
                    101,
                    102,
                    103,
                    104,
                    105,
                    106,
                    107,
                    108,
                    109,
                    110,
                    111,
                    112,
                    113,
                    114,
                    115,
                    116,
                    117,
                    118,
                    119,
                    120,
                    121,
                    122,
                    123,
                    124,
                    125,
                    126,
                    127,
                    128,
                    129,
                    130,
                    131,
                    132,
                    133,
                    134,
                    135,
                    136,
                    137,
                    138,
                    139,
                    140,
                    141,
                    142,
                    143,
                    144,
                    145,
                    146,
                    147,
                    148,
                    149,
                    150,
                    151,
                    152,
                    153,
                    154,
                    155,
                    156,
                    157,
                    158,
                    159,
                    160,
                    161,
                    162,
                    163,
                    164,
                    165,
                    166,
                    167,
                    168,
                    169,
                    170,
                    171,
                    172,
                    173,
                    174,
                    175,
                    176,
                    177,
                    178,
                    179,
                    180,
                    181,
                    182,
                    183,
                    184,
                    185,
                    186,
                    187,
                    188,
                    189,
                    190,
                    191,
                    192,
                    193,
                    194,
                    195,
                    196,
                    197,
                    198,
                    199
                  ]
                }
              ],
              "layout": {
                "shapes": [
                  {
                    "line": {
                      "color": "MediumPurple",
                      "width": 3
                    },
                    "type": "line",
                    "x0": 0,
                    "x1": 200,
                    "y0": 1.11123,
                    "y1": 1.11123
                  },
                  {
                    "line": {
                      "color": "MediumPurple",
                      "width": 3
                    },
                    "type": "line",
                    "x0": 0,
                    "x1": 200,
                    "y0": 1.13974,
                    "y1": 1.13974
                  },
                  {
                    "line": {
                      "color": "MediumPurple",
                      "width": 3
                    },
                    "type": "line",
                    "x0": 0,
                    "x1": 200,
                    "y0": 1.17519,
                    "y1": 1.17519
                  },
                  {
                    "line": {
                      "color": "MediumPurple",
                      "width": 3
                    },
                    "type": "line",
                    "x0": 0,
                    "x1": 200,
                    "y0": 1.23337,
                    "y1": 1.23337
                  },
                  {
                    "line": {
                      "color": "RoyalBlue",
                      "width": 1
                    },
                    "type": "line",
                    "x0": 0,
                    "x1": 200,
                    "y0": 1.14265,
                    "y1": 1.14265
                  },
                  {
                    "line": {
                      "color": "RoyalBlue",
                      "width": 1
                    },
                    "type": "line",
                    "x0": 0,
                    "x1": 200,
                    "y0": 1.16244,
                    "y1": 1.16244
                  },
                  {
                    "line": {
                      "color": "RoyalBlue",
                      "width": 1
                    },
                    "type": "line",
                    "x0": 0,
                    "x1": 200,
                    "y0": 1.18566,
                    "y1": 1.18566
                  },
                  {
                    "line": {
                      "color": "RoyalBlue",
                      "width": 1
                    },
                    "type": "line",
                    "x0": 0,
                    "x1": 200,
                    "y0": 1.19278,
                    "y1": 1.19278
                  },
                  {
                    "line": {
                      "color": "RoyalBlue",
                      "width": 1
                    },
                    "type": "line",
                    "x0": 0,
                    "x1": 200,
                    "y0": 1.22745,
                    "y1": 1.22745
                  },
                  {
                    "line": {
                      "color": "RoyalBlue",
                      "width": 1
                    },
                    "type": "line",
                    "x0": 0,
                    "x1": 200,
                    "y0": 1.2897100000000001,
                    "y1": 1.2897100000000001
                  }
                ],
                "template": {
                  "data": {
                    "bar": [
                      {
                        "error_x": {
                          "color": "#2a3f5f"
                        },
                        "error_y": {
                          "color": "#2a3f5f"
                        },
                        "marker": {
                          "line": {
                            "color": "#E5ECF6",
                            "width": 0.5
                          }
                        },
                        "type": "bar"
                      }
                    ],
                    "barpolar": [
                      {
                        "marker": {
                          "line": {
                            "color": "#E5ECF6",
                            "width": 0.5
                          }
                        },
                        "type": "barpolar"
                      }
                    ],
                    "carpet": [
                      {
                        "aaxis": {
                          "endlinecolor": "#2a3f5f",
                          "gridcolor": "white",
                          "linecolor": "white",
                          "minorgridcolor": "white",
                          "startlinecolor": "#2a3f5f"
                        },
                        "baxis": {
                          "endlinecolor": "#2a3f5f",
                          "gridcolor": "white",
                          "linecolor": "white",
                          "minorgridcolor": "white",
                          "startlinecolor": "#2a3f5f"
                        },
                        "type": "carpet"
                      }
                    ],
                    "choropleth": [
                      {
                        "colorbar": {
                          "outlinewidth": 0,
                          "ticks": ""
                        },
                        "type": "choropleth"
                      }
                    ],
                    "contour": [
                      {
                        "colorbar": {
                          "outlinewidth": 0,
                          "ticks": ""
                        },
                        "colorscale": [
                          [
                            0,
                            "#0d0887"
                          ],
                          [
                            0.1111111111111111,
                            "#46039f"
                          ],
                          [
                            0.2222222222222222,
                            "#7201a8"
                          ],
                          [
                            0.3333333333333333,
                            "#9c179e"
                          ],
                          [
                            0.4444444444444444,
                            "#bd3786"
                          ],
                          [
                            0.5555555555555556,
                            "#d8576b"
                          ],
                          [
                            0.6666666666666666,
                            "#ed7953"
                          ],
                          [
                            0.7777777777777778,
                            "#fb9f3a"
                          ],
                          [
                            0.8888888888888888,
                            "#fdca26"
                          ],
                          [
                            1,
                            "#f0f921"
                          ]
                        ],
                        "type": "contour"
                      }
                    ],
                    "contourcarpet": [
                      {
                        "colorbar": {
                          "outlinewidth": 0,
                          "ticks": ""
                        },
                        "type": "contourcarpet"
                      }
                    ],
                    "heatmap": [
                      {
                        "colorbar": {
                          "outlinewidth": 0,
                          "ticks": ""
                        },
                        "colorscale": [
                          [
                            0,
                            "#0d0887"
                          ],
                          [
                            0.1111111111111111,
                            "#46039f"
                          ],
                          [
                            0.2222222222222222,
                            "#7201a8"
                          ],
                          [
                            0.3333333333333333,
                            "#9c179e"
                          ],
                          [
                            0.4444444444444444,
                            "#bd3786"
                          ],
                          [
                            0.5555555555555556,
                            "#d8576b"
                          ],
                          [
                            0.6666666666666666,
                            "#ed7953"
                          ],
                          [
                            0.7777777777777778,
                            "#fb9f3a"
                          ],
                          [
                            0.8888888888888888,
                            "#fdca26"
                          ],
                          [
                            1,
                            "#f0f921"
                          ]
                        ],
                        "type": "heatmap"
                      }
                    ],
                    "heatmapgl": [
                      {
                        "colorbar": {
                          "outlinewidth": 0,
                          "ticks": ""
                        },
                        "colorscale": [
                          [
                            0,
                            "#0d0887"
                          ],
                          [
                            0.1111111111111111,
                            "#46039f"
                          ],
                          [
                            0.2222222222222222,
                            "#7201a8"
                          ],
                          [
                            0.3333333333333333,
                            "#9c179e"
                          ],
                          [
                            0.4444444444444444,
                            "#bd3786"
                          ],
                          [
                            0.5555555555555556,
                            "#d8576b"
                          ],
                          [
                            0.6666666666666666,
                            "#ed7953"
                          ],
                          [
                            0.7777777777777778,
                            "#fb9f3a"
                          ],
                          [
                            0.8888888888888888,
                            "#fdca26"
                          ],
                          [
                            1,
                            "#f0f921"
                          ]
                        ],
                        "type": "heatmapgl"
                      }
                    ],
                    "histogram": [
                      {
                        "marker": {
                          "colorbar": {
                            "outlinewidth": 0,
                            "ticks": ""
                          }
                        },
                        "type": "histogram"
                      }
                    ],
                    "histogram2d": [
                      {
                        "colorbar": {
                          "outlinewidth": 0,
                          "ticks": ""
                        },
                        "colorscale": [
                          [
                            0,
                            "#0d0887"
                          ],
                          [
                            0.1111111111111111,
                            "#46039f"
                          ],
                          [
                            0.2222222222222222,
                            "#7201a8"
                          ],
                          [
                            0.3333333333333333,
                            "#9c179e"
                          ],
                          [
                            0.4444444444444444,
                            "#bd3786"
                          ],
                          [
                            0.5555555555555556,
                            "#d8576b"
                          ],
                          [
                            0.6666666666666666,
                            "#ed7953"
                          ],
                          [
                            0.7777777777777778,
                            "#fb9f3a"
                          ],
                          [
                            0.8888888888888888,
                            "#fdca26"
                          ],
                          [
                            1,
                            "#f0f921"
                          ]
                        ],
                        "type": "histogram2d"
                      }
                    ],
                    "histogram2dcontour": [
                      {
                        "colorbar": {
                          "outlinewidth": 0,
                          "ticks": ""
                        },
                        "colorscale": [
                          [
                            0,
                            "#0d0887"
                          ],
                          [
                            0.1111111111111111,
                            "#46039f"
                          ],
                          [
                            0.2222222222222222,
                            "#7201a8"
                          ],
                          [
                            0.3333333333333333,
                            "#9c179e"
                          ],
                          [
                            0.4444444444444444,
                            "#bd3786"
                          ],
                          [
                            0.5555555555555556,
                            "#d8576b"
                          ],
                          [
                            0.6666666666666666,
                            "#ed7953"
                          ],
                          [
                            0.7777777777777778,
                            "#fb9f3a"
                          ],
                          [
                            0.8888888888888888,
                            "#fdca26"
                          ],
                          [
                            1,
                            "#f0f921"
                          ]
                        ],
                        "type": "histogram2dcontour"
                      }
                    ],
                    "mesh3d": [
                      {
                        "colorbar": {
                          "outlinewidth": 0,
                          "ticks": ""
                        },
                        "type": "mesh3d"
                      }
                    ],
                    "parcoords": [
                      {
                        "line": {
                          "colorbar": {
                            "outlinewidth": 0,
                            "ticks": ""
                          }
                        },
                        "type": "parcoords"
                      }
                    ],
                    "pie": [
                      {
                        "automargin": true,
                        "type": "pie"
                      }
                    ],
                    "scatter": [
                      {
                        "marker": {
                          "colorbar": {
                            "outlinewidth": 0,
                            "ticks": ""
                          }
                        },
                        "type": "scatter"
                      }
                    ],
                    "scatter3d": [
                      {
                        "line": {
                          "colorbar": {
                            "outlinewidth": 0,
                            "ticks": ""
                          }
                        },
                        "marker": {
                          "colorbar": {
                            "outlinewidth": 0,
                            "ticks": ""
                          }
                        },
                        "type": "scatter3d"
                      }
                    ],
                    "scattercarpet": [
                      {
                        "marker": {
                          "colorbar": {
                            "outlinewidth": 0,
                            "ticks": ""
                          }
                        },
                        "type": "scattercarpet"
                      }
                    ],
                    "scattergeo": [
                      {
                        "marker": {
                          "colorbar": {
                            "outlinewidth": 0,
                            "ticks": ""
                          }
                        },
                        "type": "scattergeo"
                      }
                    ],
                    "scattergl": [
                      {
                        "marker": {
                          "colorbar": {
                            "outlinewidth": 0,
                            "ticks": ""
                          }
                        },
                        "type": "scattergl"
                      }
                    ],
                    "scattermapbox": [
                      {
                        "marker": {
                          "colorbar": {
                            "outlinewidth": 0,
                            "ticks": ""
                          }
                        },
                        "type": "scattermapbox"
                      }
                    ],
                    "scatterpolar": [
                      {
                        "marker": {
                          "colorbar": {
                            "outlinewidth": 0,
                            "ticks": ""
                          }
                        },
                        "type": "scatterpolar"
                      }
                    ],
                    "scatterpolargl": [
                      {
                        "marker": {
                          "colorbar": {
                            "outlinewidth": 0,
                            "ticks": ""
                          }
                        },
                        "type": "scatterpolargl"
                      }
                    ],
                    "scatterternary": [
                      {
                        "marker": {
                          "colorbar": {
                            "outlinewidth": 0,
                            "ticks": ""
                          }
                        },
                        "type": "scatterternary"
                      }
                    ],
                    "surface": [
                      {
                        "colorbar": {
                          "outlinewidth": 0,
                          "ticks": ""
                        },
                        "colorscale": [
                          [
                            0,
                            "#0d0887"
                          ],
                          [
                            0.1111111111111111,
                            "#46039f"
                          ],
                          [
                            0.2222222222222222,
                            "#7201a8"
                          ],
                          [
                            0.3333333333333333,
                            "#9c179e"
                          ],
                          [
                            0.4444444444444444,
                            "#bd3786"
                          ],
                          [
                            0.5555555555555556,
                            "#d8576b"
                          ],
                          [
                            0.6666666666666666,
                            "#ed7953"
                          ],
                          [
                            0.7777777777777778,
                            "#fb9f3a"
                          ],
                          [
                            0.8888888888888888,
                            "#fdca26"
                          ],
                          [
                            1,
                            "#f0f921"
                          ]
                        ],
                        "type": "surface"
                      }
                    ],
                    "table": [
                      {
                        "cells": {
                          "fill": {
                            "color": "#EBF0F8"
                          },
                          "line": {
                            "color": "white"
                          }
                        },
                        "header": {
                          "fill": {
                            "color": "#C8D4E3"
                          },
                          "line": {
                            "color": "white"
                          }
                        },
                        "type": "table"
                      }
                    ]
                  },
                  "layout": {
                    "annotationdefaults": {
                      "arrowcolor": "#2a3f5f",
                      "arrowhead": 0,
                      "arrowwidth": 1
                    },
                    "coloraxis": {
                      "colorbar": {
                        "outlinewidth": 0,
                        "ticks": ""
                      }
                    },
                    "colorscale": {
                      "diverging": [
                        [
                          0,
                          "#8e0152"
                        ],
                        [
                          0.1,
                          "#c51b7d"
                        ],
                        [
                          0.2,
                          "#de77ae"
                        ],
                        [
                          0.3,
                          "#f1b6da"
                        ],
                        [
                          0.4,
                          "#fde0ef"
                        ],
                        [
                          0.5,
                          "#f7f7f7"
                        ],
                        [
                          0.6,
                          "#e6f5d0"
                        ],
                        [
                          0.7,
                          "#b8e186"
                        ],
                        [
                          0.8,
                          "#7fbc41"
                        ],
                        [
                          0.9,
                          "#4d9221"
                        ],
                        [
                          1,
                          "#276419"
                        ]
                      ],
                      "sequential": [
                        [
                          0,
                          "#0d0887"
                        ],
                        [
                          0.1111111111111111,
                          "#46039f"
                        ],
                        [
                          0.2222222222222222,
                          "#7201a8"
                        ],
                        [
                          0.3333333333333333,
                          "#9c179e"
                        ],
                        [
                          0.4444444444444444,
                          "#bd3786"
                        ],
                        [
                          0.5555555555555556,
                          "#d8576b"
                        ],
                        [
                          0.6666666666666666,
                          "#ed7953"
                        ],
                        [
                          0.7777777777777778,
                          "#fb9f3a"
                        ],
                        [
                          0.8888888888888888,
                          "#fdca26"
                        ],
                        [
                          1,
                          "#f0f921"
                        ]
                      ],
                      "sequentialminus": [
                        [
                          0,
                          "#0d0887"
                        ],
                        [
                          0.1111111111111111,
                          "#46039f"
                        ],
                        [
                          0.2222222222222222,
                          "#7201a8"
                        ],
                        [
                          0.3333333333333333,
                          "#9c179e"
                        ],
                        [
                          0.4444444444444444,
                          "#bd3786"
                        ],
                        [
                          0.5555555555555556,
                          "#d8576b"
                        ],
                        [
                          0.6666666666666666,
                          "#ed7953"
                        ],
                        [
                          0.7777777777777778,
                          "#fb9f3a"
                        ],
                        [
                          0.8888888888888888,
                          "#fdca26"
                        ],
                        [
                          1,
                          "#f0f921"
                        ]
                      ]
                    },
                    "colorway": [
                      "#636efa",
                      "#EF553B",
                      "#00cc96",
                      "#ab63fa",
                      "#FFA15A",
                      "#19d3f3",
                      "#FF6692",
                      "#B6E880",
                      "#FF97FF",
                      "#FECB52"
                    ],
                    "font": {
                      "color": "#2a3f5f"
                    },
                    "geo": {
                      "bgcolor": "white",
                      "lakecolor": "white",
                      "landcolor": "#E5ECF6",
                      "showlakes": true,
                      "showland": true,
                      "subunitcolor": "white"
                    },
                    "hoverlabel": {
                      "align": "left"
                    },
                    "hovermode": "closest",
                    "mapbox": {
                      "style": "light"
                    },
                    "paper_bgcolor": "white",
                    "plot_bgcolor": "#E5ECF6",
                    "polar": {
                      "angularaxis": {
                        "gridcolor": "white",
                        "linecolor": "white",
                        "ticks": ""
                      },
                      "bgcolor": "#E5ECF6",
                      "radialaxis": {
                        "gridcolor": "white",
                        "linecolor": "white",
                        "ticks": ""
                      }
                    },
                    "scene": {
                      "xaxis": {
                        "backgroundcolor": "#E5ECF6",
                        "gridcolor": "white",
                        "gridwidth": 2,
                        "linecolor": "white",
                        "showbackground": true,
                        "ticks": "",
                        "zerolinecolor": "white"
                      },
                      "yaxis": {
                        "backgroundcolor": "#E5ECF6",
                        "gridcolor": "white",
                        "gridwidth": 2,
                        "linecolor": "white",
                        "showbackground": true,
                        "ticks": "",
                        "zerolinecolor": "white"
                      },
                      "zaxis": {
                        "backgroundcolor": "#E5ECF6",
                        "gridcolor": "white",
                        "gridwidth": 2,
                        "linecolor": "white",
                        "showbackground": true,
                        "ticks": "",
                        "zerolinecolor": "white"
                      }
                    },
                    "shapedefaults": {
                      "line": {
                        "color": "#2a3f5f"
                      }
                    },
                    "ternary": {
                      "aaxis": {
                        "gridcolor": "white",
                        "linecolor": "white",
                        "ticks": ""
                      },
                      "baxis": {
                        "gridcolor": "white",
                        "linecolor": "white",
                        "ticks": ""
                      },
                      "bgcolor": "#E5ECF6",
                      "caxis": {
                        "gridcolor": "white",
                        "linecolor": "white",
                        "ticks": ""
                      }
                    },
                    "title": {
                      "x": 0.05
                    },
                    "xaxis": {
                      "automargin": true,
                      "gridcolor": "white",
                      "linecolor": "white",
                      "ticks": "",
                      "title": {
                        "standoff": 15
                      },
                      "zerolinecolor": "white",
                      "zerolinewidth": 2
                    },
                    "yaxis": {
                      "automargin": true,
                      "gridcolor": "white",
                      "linecolor": "white",
                      "ticks": "",
                      "title": {
                        "standoff": 15
                      },
                      "zerolinecolor": "white",
                      "zerolinewidth": 2
                    }
                  }
                }
              }
            },
            "text/html": [
              "<div>\n",
              "        \n",
              "        \n",
              "            <div id=\"204dfdab-1dba-438c-8f86-85cff9fceaed\" class=\"plotly-graph-div\" style=\"height:525px; width:100%;\"></div>\n",
              "            <script type=\"text/javascript\">\n",
              "                require([\"plotly\"], function(Plotly) {\n",
              "                    window.PLOTLYENV=window.PLOTLYENV || {};\n",
              "                    \n",
              "                if (document.getElementById(\"204dfdab-1dba-438c-8f86-85cff9fceaed\")) {\n",
              "                    Plotly.newPlot(\n",
              "                        '204dfdab-1dba-438c-8f86-85cff9fceaed',\n",
              "                        [{\"close\": [1.12804, 1.14368, 1.13677, 1.15026, 1.14907, 1.15457, 1.1515, 1.1497, 1.13877, 1.15735, 1.16596, 1.17069, 1.16746, 1.1693799999999999, 1.18266, 1.1869, 1.18288, 1.17649, 1.1883299999999999, 1.1769100000000001, 1.1747299999999998, 1.17391, 1.16645, 1.18405, 1.17001, 1.17161, 1.16759, 1.17421, 1.17638, 1.1863, 1.18356, 1.17937, 1.16883, 1.17203, 1.1604, 1.15429, 1.15171, 1.15398, 1.14181, 1.14254, 1.15116, 1.15608, 1.15396, 1.14945, 1.1489200000000002, 1.13252, 1.13151, 1.13481, 1.13891, 1.1299, 1.12779, 1.11858, 1.12068, 1.12079, 1.1274600000000001, 1.13495, 1.13315, 1.14754, 1.14695, 1.15079, 1.14909, 1.1458899999999999, 1.13426, 1.12428, 1.12541, 1.1357, 1.13893, 1.13321, 1.13732, 1.13083, 1.13582, 1.1283, 1.1322, 1.1257700000000002, 1.12663, 1.11428, 1.11392, 1.11185, 1.09226, 1.08761, 1.08735, 1.08542, 1.0886, 1.0881100000000001, 1.09847, 1.09675, 1.08079, 1.08474, 1.0943, 1.11049, 1.10649, 1.12238, 1.12076, 1.12089, 1.12913, 1.1281700000000001, 1.1174600000000001, 1.12834, 1.1255600000000001, 1.13792, 1.14602, 1.14404, 1.14949, 1.1490200000000002, 1.1460700000000001, 1.15971, 1.16547, 1.17146, 1.16926, 1.1581, 1.17079, 1.1759, 1.18092, 1.1745700000000001, 1.1795799999999999, 1.1703, 1.17234, 1.16339, 1.15873, 1.16812, 1.16336, 1.1667100000000001, 1.18011, 1.17915, 1.1779700000000002, 1.1744, 1.1670399999999999, 1.16618, 1.16225, 1.15877, 1.14554, 1.14933, 1.14378, 1.14153, 1.15295, 1.1479700000000002, 1.1520000000000001, 1.1628399999999999, 1.1732200000000002, 1.1775799999999998, 1.1747100000000001, 1.1971, 1.1875799999999999, 1.1911100000000001, 1.1915200000000001, 1.177, 1.17899, 1.194, 1.19071, 1.19928, 1.19805, 1.20811, 1.2107700000000001, 1.20855, 1.2166, 1.2218, 1.22543, 1.22145, 1.22187, 1.22756, 1.23173, 1.23302, 1.2410700000000001, 1.24231, 1.23739, 1.23956, 1.23927, 1.2446, 1.2452, 1.24272, 1.24892, 1.25492, 1.25925, 1.25454, 1.25832, 1.2675299999999998, 1.2725600000000001, 1.26322, 1.27661, 1.28149, 1.27493, 1.27714, 1.26473, 1.25766, 1.2396200000000002, 1.23478, 1.25787, 1.26425, 1.27183, 1.25797, 1.24575, 1.2643, 1.24681, 1.24072, 1.24747, 1.24237, 1.25407, 1.25327, 1.2546, 1.27026], \"high\": [1.13019, 1.1451, 1.14448, 1.1509200000000002, 1.1537600000000001, 1.16244, 1.15751, 1.15388, 1.14988, 1.1578600000000001, 1.17363, 1.17156, 1.1745299999999999, 1.17276, 1.18373, 1.18754, 1.193, 1.1845299999999999, 1.19008, 1.1915799999999999, 1.17672, 1.17783, 1.1747299999999998, 1.1886, 1.18785, 1.17859, 1.17415, 1.1782, 1.18058, 1.18774, 1.19278, 1.18662, 1.18039, 1.17387, 1.17347, 1.1603299999999999, 1.15811, 1.16215, 1.15523, 1.14675, 1.15141, 1.16079, 1.1568399999999999, 1.1544299999999998, 1.15019, 1.149, 1.1350799999999999, 1.13667, 1.13924, 1.1390799999999999, 1.1308, 1.1336899999999999, 1.12315, 1.1248799999999999, 1.13032, 1.1354600000000001, 1.13734, 1.14898, 1.15101, 1.15487, 1.15182, 1.1538, 1.1461, 1.13713, 1.12716, 1.13749, 1.13976, 1.14265, 1.1415, 1.13838, 1.13798, 1.13715, 1.1332200000000001, 1.13375, 1.12963, 1.1269, 1.11522, 1.11475, 1.11226, 1.09456, 1.09184, 1.09096, 1.0929799999999998, 1.09125, 1.09974, 1.10138, 1.09713, 1.08725, 1.09505, 1.1112600000000001, 1.11297, 1.12402, 1.12362, 1.12705, 1.13228, 1.1309799999999999, 1.1318, 1.1299700000000001, 1.13424, 1.13837, 1.15046, 1.1524299999999998, 1.15049, 1.15331, 1.14975, 1.16015, 1.17339, 1.17288, 1.17677, 1.17205, 1.1723700000000001, 1.18115, 1.1839600000000001, 1.18604, 1.1846700000000001, 1.1815, 1.1765, 1.1745, 1.1694799999999999, 1.1684299999999999, 1.17285, 1.17006, 1.18265, 1.18444, 1.18566, 1.1784299999999999, 1.17507, 1.1718, 1.1754200000000001, 1.16557, 1.16192, 1.1512200000000001, 1.1498, 1.14629, 1.15428, 1.15352, 1.15304, 1.1659899999999999, 1.1738, 1.1802, 1.18485, 1.1973799999999999, 1.1977200000000001, 1.19556, 1.19379, 1.19177, 1.18185, 1.19475, 1.19411, 1.20145, 1.20403, 1.20913, 1.21268, 1.21553, 1.21781, 1.22389, 1.22745, 1.2264899999999999, 1.2233100000000001, 1.23063, 1.2322600000000001, 1.23594, 1.2420799999999999, 1.2438200000000001, 1.24346, 1.2445899999999999, 1.2425, 1.24702, 1.2462, 1.2469299999999999, 1.25078, 1.25613, 1.2646, 1.26052, 1.26282, 1.26935, 1.28093, 1.27417, 1.27796, 1.2867600000000001, 1.2897100000000001, 1.27957, 1.27878, 1.2670700000000001, 1.26091, 1.2423, 1.25952, 1.2671, 1.27485, 1.27742, 1.2610700000000001, 1.2651700000000001, 1.2661799999999999, 1.25265, 1.24911, 1.24858, 1.25973, 1.25609, 1.2636399999999999, 1.27243], \"low\": [1.1203, 1.1273799999999998, 1.13275, 1.13026, 1.14362, 1.14946, 1.1463, 1.14681, 1.13757, 1.13691, 1.16215, 1.1601299999999999, 1.1661700000000002, 1.16192, 1.16648, 1.17972, 1.1817600000000001, 1.1704700000000001, 1.16917, 1.17439, 1.16524, 1.16875, 1.16619, 1.16287, 1.1684299999999999, 1.16564, 1.1670399999999999, 1.16581, 1.17036, 1.17354, 1.18208, 1.1768399999999999, 1.16611, 1.15836, 1.15511, 1.15081, 1.1476600000000001, 1.14913, 1.1414, 1.13994, 1.13974, 1.15025, 1.15049, 1.14326, 1.1447200000000002, 1.13132, 1.1258700000000001, 1.13047, 1.1309799999999999, 1.1275899999999999, 1.12426, 1.1156, 1.11123, 1.11562, 1.11717, 1.12411, 1.13058, 1.13139, 1.1423299999999998, 1.14439, 1.14515, 1.1451, 1.13352, 1.12237, 1.11348, 1.12581, 1.1306399999999999, 1.1325399999999999, 1.13183, 1.12866, 1.12628, 1.12758, 1.12189, 1.1224399999999999, 1.1240299999999999, 1.1123299999999998, 1.10545, 1.1079299999999999, 1.08846, 1.0836299999999999, 1.08453, 1.0793, 1.08313, 1.08097, 1.0868799999999998, 1.09517, 1.08029, 1.07616, 1.08064, 1.09159, 1.10461, 1.10524, 1.1162, 1.1154700000000002, 1.1134600000000001, 1.12411, 1.11538, 1.11382, 1.1226399999999999, 1.12382, 1.14134, 1.1435799999999998, 1.14273, 1.14578, 1.14404, 1.13941, 1.15705, 1.16424, 1.16612, 1.155, 1.1532200000000001, 1.16975, 1.17587, 1.1684, 1.17022, 1.16523, 1.15818, 1.15906, 1.15734, 1.15526, 1.16016, 1.1616799999999998, 1.16477, 1.17561, 1.17601, 1.1717600000000001, 1.1654799999999998, 1.16584, 1.1616, 1.15628, 1.14275, 1.14262, 1.1413, 1.13886, 1.13783, 1.1462700000000001, 1.14431, 1.1503, 1.16251, 1.1727100000000001, 1.17245, 1.17327, 1.18733, 1.18711, 1.18567, 1.17565, 1.17519, 1.17686, 1.18831, 1.18972, 1.19364, 1.19407, 1.2069299999999998, 1.2029, 1.2061600000000001, 1.21476, 1.21869, 1.21523, 1.21123, 1.22071, 1.21288, 1.23, 1.22948, 1.23587, 1.2343, 1.23479, 1.23823, 1.23924, 1.24342, 1.2420799999999999, 1.24221, 1.24758, 1.25132, 1.24698, 1.25214, 1.25795, 1.2666600000000001, 1.2623, 1.2559, 1.27034, 1.27342, 1.27119, 1.26296, 1.25614, 1.23504, 1.23337, 1.2342600000000001, 1.25504, 1.26346, 1.25631, 1.24567, 1.24403, 1.2462799999999998, 1.23617, 1.23506, 1.2389700000000001, 1.24139, 1.24929, 1.25177, 1.25118], \"open\": [1.12354, 1.12798, 1.14367, 1.13675, 1.15002, 1.1495799999999998, 1.1542700000000001, 1.1519, 1.14983, 1.13845, 1.16634, 1.1659, 1.17059, 1.16724, 1.16947, 1.1827, 1.1867, 1.18261, 1.1765700000000001, 1.1882700000000002, 1.17149, 1.17496, 1.17365, 1.16635, 1.1838899999999999, 1.1694, 1.17146, 1.16746, 1.17429, 1.17652, 1.1869399999999999, 1.1838600000000001, 1.1791399999999999, 1.1684, 1.172, 1.16025, 1.15444, 1.15188, 1.15449, 1.14215, 1.1430799999999999, 1.15154, 1.15619, 1.15415, 1.14935, 1.1487, 1.13247, 1.1317700000000002, 1.13479, 1.13877, 1.12934, 1.1277700000000002, 1.11845, 1.12119, 1.12045, 1.12685, 1.1346100000000001, 1.13267, 1.14835, 1.14749, 1.1508399999999999, 1.14947, 1.14572, 1.13437, 1.1242, 1.1284299999999998, 1.1361299999999999, 1.13867, 1.13315, 1.13716, 1.1289799999999999, 1.13588, 1.12837, 1.1323299999999998, 1.12635, 1.1249, 1.11485, 1.1138, 1.1119299999999999, 1.0920299999999998, 1.08566, 1.0874, 1.08544, 1.08856, 1.08843, 1.09943, 1.0966799999999999, 1.08117, 1.08495, 1.0944399999999999, 1.11043, 1.10695, 1.12239, 1.1210200000000001, 1.12094, 1.12745, 1.1284100000000001, 1.11782, 1.1284299999999998, 1.1257, 1.14343, 1.14588, 1.14445, 1.14951, 1.14896, 1.1455799999999998, 1.1601, 1.16585, 1.17193, 1.16943, 1.15655, 1.1711200000000002, 1.1764700000000001, 1.18097, 1.17467, 1.18109, 1.1706, 1.17264, 1.16378, 1.1586, 1.17098, 1.16362, 1.16654, 1.18021, 1.17903, 1.1774200000000001, 1.17441, 1.16701, 1.16602, 1.16228, 1.15778, 1.14573, 1.14921, 1.14391, 1.14165, 1.15034, 1.14798, 1.1521, 1.1632799999999999, 1.17325, 1.17764, 1.17479, 1.19696, 1.1875, 1.19127, 1.19084, 1.17718, 1.1790200000000002, 1.19392, 1.19068, 1.19717, 1.1982, 1.20793, 1.2109, 1.20821, 1.21725, 1.22173, 1.22576, 1.22151, 1.22213, 1.2141899999999999, 1.2316799999999999, 1.23291, 1.24091, 1.2422, 1.24025, 1.23948, 1.23943, 1.24448, 1.24499, 1.24258, 1.249, 1.25495, 1.25931, 1.2543600000000001, 1.25832, 1.26736, 1.27244, 1.26306, 1.27653, 1.28538, 1.27473, 1.27736, 1.2645600000000001, 1.25753, 1.23676, 1.23496, 1.25786, 1.26405, 1.2716399999999999, 1.25742, 1.24604, 1.26445, 1.24681, 1.24062, 1.24696, 1.24248, 1.25423, 1.25345, 1.25471], \"type\": \"candlestick\", \"x\": [0, 1, 2, 3, 4, 5, 6, 7, 8, 9, 10, 11, 12, 13, 14, 15, 16, 17, 18, 19, 20, 21, 22, 23, 24, 25, 26, 27, 28, 29, 30, 31, 32, 33, 34, 35, 36, 37, 38, 39, 40, 41, 42, 43, 44, 45, 46, 47, 48, 49, 50, 51, 52, 53, 54, 55, 56, 57, 58, 59, 60, 61, 62, 63, 64, 65, 66, 67, 68, 69, 70, 71, 72, 73, 74, 75, 76, 77, 78, 79, 80, 81, 82, 83, 84, 85, 86, 87, 88, 89, 90, 91, 92, 93, 94, 95, 96, 97, 98, 99, 100, 101, 102, 103, 104, 105, 106, 107, 108, 109, 110, 111, 112, 113, 114, 115, 116, 117, 118, 119, 120, 121, 122, 123, 124, 125, 126, 127, 128, 129, 130, 131, 132, 133, 134, 135, 136, 137, 138, 139, 140, 141, 142, 143, 144, 145, 146, 147, 148, 149, 150, 151, 152, 153, 154, 155, 156, 157, 158, 159, 160, 161, 162, 163, 164, 165, 166, 167, 168, 169, 170, 171, 172, 173, 174, 175, 176, 177, 178, 179, 180, 181, 182, 183, 184, 185, 186, 187, 188, 189, 190, 191, 192, 193, 194, 195, 196, 197, 198, 199]}],\n",
              "                        {\"shapes\": [{\"line\": {\"color\": \"MediumPurple\", \"width\": 3}, \"type\": \"line\", \"x0\": 0, \"x1\": 200, \"y0\": 1.11123, \"y1\": 1.11123}, {\"line\": {\"color\": \"MediumPurple\", \"width\": 3}, \"type\": \"line\", \"x0\": 0, \"x1\": 200, \"y0\": 1.13974, \"y1\": 1.13974}, {\"line\": {\"color\": \"MediumPurple\", \"width\": 3}, \"type\": \"line\", \"x0\": 0, \"x1\": 200, \"y0\": 1.17519, \"y1\": 1.17519}, {\"line\": {\"color\": \"MediumPurple\", \"width\": 3}, \"type\": \"line\", \"x0\": 0, \"x1\": 200, \"y0\": 1.23337, \"y1\": 1.23337}, {\"line\": {\"color\": \"RoyalBlue\", \"width\": 1}, \"type\": \"line\", \"x0\": 0, \"x1\": 200, \"y0\": 1.14265, \"y1\": 1.14265}, {\"line\": {\"color\": \"RoyalBlue\", \"width\": 1}, \"type\": \"line\", \"x0\": 0, \"x1\": 200, \"y0\": 1.16244, \"y1\": 1.16244}, {\"line\": {\"color\": \"RoyalBlue\", \"width\": 1}, \"type\": \"line\", \"x0\": 0, \"x1\": 200, \"y0\": 1.18566, \"y1\": 1.18566}, {\"line\": {\"color\": \"RoyalBlue\", \"width\": 1}, \"type\": \"line\", \"x0\": 0, \"x1\": 200, \"y0\": 1.19278, \"y1\": 1.19278}, {\"line\": {\"color\": \"RoyalBlue\", \"width\": 1}, \"type\": \"line\", \"x0\": 0, \"x1\": 200, \"y0\": 1.22745, \"y1\": 1.22745}, {\"line\": {\"color\": \"RoyalBlue\", \"width\": 1}, \"type\": \"line\", \"x0\": 0, \"x1\": 200, \"y0\": 1.2897100000000001, \"y1\": 1.2897100000000001}], \"template\": {\"data\": {\"bar\": [{\"error_x\": {\"color\": \"#2a3f5f\"}, \"error_y\": {\"color\": \"#2a3f5f\"}, \"marker\": {\"line\": {\"color\": \"#E5ECF6\", \"width\": 0.5}}, \"type\": \"bar\"}], \"barpolar\": [{\"marker\": {\"line\": {\"color\": \"#E5ECF6\", \"width\": 0.5}}, \"type\": \"barpolar\"}], \"carpet\": [{\"aaxis\": {\"endlinecolor\": \"#2a3f5f\", \"gridcolor\": \"white\", \"linecolor\": \"white\", \"minorgridcolor\": \"white\", \"startlinecolor\": \"#2a3f5f\"}, \"baxis\": {\"endlinecolor\": \"#2a3f5f\", \"gridcolor\": \"white\", \"linecolor\": \"white\", \"minorgridcolor\": \"white\", \"startlinecolor\": \"#2a3f5f\"}, \"type\": \"carpet\"}], \"choropleth\": [{\"colorbar\": {\"outlinewidth\": 0, \"ticks\": \"\"}, \"type\": \"choropleth\"}], \"contour\": [{\"colorbar\": {\"outlinewidth\": 0, \"ticks\": \"\"}, \"colorscale\": [[0.0, \"#0d0887\"], [0.1111111111111111, \"#46039f\"], [0.2222222222222222, \"#7201a8\"], [0.3333333333333333, \"#9c179e\"], [0.4444444444444444, \"#bd3786\"], [0.5555555555555556, \"#d8576b\"], [0.6666666666666666, \"#ed7953\"], [0.7777777777777778, \"#fb9f3a\"], [0.8888888888888888, \"#fdca26\"], [1.0, \"#f0f921\"]], \"type\": \"contour\"}], \"contourcarpet\": [{\"colorbar\": {\"outlinewidth\": 0, \"ticks\": \"\"}, \"type\": \"contourcarpet\"}], \"heatmap\": [{\"colorbar\": {\"outlinewidth\": 0, \"ticks\": \"\"}, \"colorscale\": [[0.0, \"#0d0887\"], [0.1111111111111111, \"#46039f\"], [0.2222222222222222, \"#7201a8\"], [0.3333333333333333, \"#9c179e\"], [0.4444444444444444, \"#bd3786\"], [0.5555555555555556, \"#d8576b\"], [0.6666666666666666, \"#ed7953\"], [0.7777777777777778, \"#fb9f3a\"], [0.8888888888888888, \"#fdca26\"], [1.0, \"#f0f921\"]], \"type\": \"heatmap\"}], \"heatmapgl\": [{\"colorbar\": {\"outlinewidth\": 0, \"ticks\": \"\"}, \"colorscale\": [[0.0, \"#0d0887\"], [0.1111111111111111, \"#46039f\"], [0.2222222222222222, \"#7201a8\"], [0.3333333333333333, \"#9c179e\"], [0.4444444444444444, \"#bd3786\"], [0.5555555555555556, \"#d8576b\"], [0.6666666666666666, \"#ed7953\"], [0.7777777777777778, \"#fb9f3a\"], [0.8888888888888888, \"#fdca26\"], [1.0, \"#f0f921\"]], \"type\": \"heatmapgl\"}], \"histogram\": [{\"marker\": {\"colorbar\": {\"outlinewidth\": 0, \"ticks\": \"\"}}, \"type\": \"histogram\"}], \"histogram2d\": [{\"colorbar\": {\"outlinewidth\": 0, \"ticks\": \"\"}, \"colorscale\": [[0.0, \"#0d0887\"], [0.1111111111111111, \"#46039f\"], [0.2222222222222222, \"#7201a8\"], [0.3333333333333333, \"#9c179e\"], [0.4444444444444444, \"#bd3786\"], [0.5555555555555556, \"#d8576b\"], [0.6666666666666666, \"#ed7953\"], [0.7777777777777778, \"#fb9f3a\"], [0.8888888888888888, \"#fdca26\"], [1.0, \"#f0f921\"]], \"type\": \"histogram2d\"}], \"histogram2dcontour\": [{\"colorbar\": {\"outlinewidth\": 0, \"ticks\": \"\"}, \"colorscale\": [[0.0, \"#0d0887\"], [0.1111111111111111, \"#46039f\"], [0.2222222222222222, \"#7201a8\"], [0.3333333333333333, \"#9c179e\"], [0.4444444444444444, \"#bd3786\"], [0.5555555555555556, \"#d8576b\"], [0.6666666666666666, \"#ed7953\"], [0.7777777777777778, \"#fb9f3a\"], [0.8888888888888888, \"#fdca26\"], [1.0, \"#f0f921\"]], \"type\": \"histogram2dcontour\"}], \"mesh3d\": [{\"colorbar\": {\"outlinewidth\": 0, \"ticks\": \"\"}, \"type\": \"mesh3d\"}], \"parcoords\": [{\"line\": {\"colorbar\": {\"outlinewidth\": 0, \"ticks\": \"\"}}, \"type\": \"parcoords\"}], \"pie\": [{\"automargin\": true, \"type\": \"pie\"}], \"scatter\": [{\"marker\": {\"colorbar\": {\"outlinewidth\": 0, \"ticks\": \"\"}}, \"type\": \"scatter\"}], \"scatter3d\": [{\"line\": {\"colorbar\": {\"outlinewidth\": 0, \"ticks\": \"\"}}, \"marker\": {\"colorbar\": {\"outlinewidth\": 0, \"ticks\": \"\"}}, \"type\": \"scatter3d\"}], \"scattercarpet\": [{\"marker\": {\"colorbar\": {\"outlinewidth\": 0, \"ticks\": \"\"}}, \"type\": \"scattercarpet\"}], \"scattergeo\": [{\"marker\": {\"colorbar\": {\"outlinewidth\": 0, \"ticks\": \"\"}}, \"type\": \"scattergeo\"}], \"scattergl\": [{\"marker\": {\"colorbar\": {\"outlinewidth\": 0, \"ticks\": \"\"}}, \"type\": \"scattergl\"}], \"scattermapbox\": [{\"marker\": {\"colorbar\": {\"outlinewidth\": 0, \"ticks\": \"\"}}, \"type\": \"scattermapbox\"}], \"scatterpolar\": [{\"marker\": {\"colorbar\": {\"outlinewidth\": 0, \"ticks\": \"\"}}, \"type\": \"scatterpolar\"}], \"scatterpolargl\": [{\"marker\": {\"colorbar\": {\"outlinewidth\": 0, \"ticks\": \"\"}}, \"type\": \"scatterpolargl\"}], \"scatterternary\": [{\"marker\": {\"colorbar\": {\"outlinewidth\": 0, \"ticks\": \"\"}}, \"type\": \"scatterternary\"}], \"surface\": [{\"colorbar\": {\"outlinewidth\": 0, \"ticks\": \"\"}, \"colorscale\": [[0.0, \"#0d0887\"], [0.1111111111111111, \"#46039f\"], [0.2222222222222222, \"#7201a8\"], [0.3333333333333333, \"#9c179e\"], [0.4444444444444444, \"#bd3786\"], [0.5555555555555556, \"#d8576b\"], [0.6666666666666666, \"#ed7953\"], [0.7777777777777778, \"#fb9f3a\"], [0.8888888888888888, \"#fdca26\"], [1.0, \"#f0f921\"]], \"type\": \"surface\"}], \"table\": [{\"cells\": {\"fill\": {\"color\": \"#EBF0F8\"}, \"line\": {\"color\": \"white\"}}, \"header\": {\"fill\": {\"color\": \"#C8D4E3\"}, \"line\": {\"color\": \"white\"}}, \"type\": \"table\"}]}, \"layout\": {\"annotationdefaults\": {\"arrowcolor\": \"#2a3f5f\", \"arrowhead\": 0, \"arrowwidth\": 1}, \"coloraxis\": {\"colorbar\": {\"outlinewidth\": 0, \"ticks\": \"\"}}, \"colorscale\": {\"diverging\": [[0, \"#8e0152\"], [0.1, \"#c51b7d\"], [0.2, \"#de77ae\"], [0.3, \"#f1b6da\"], [0.4, \"#fde0ef\"], [0.5, \"#f7f7f7\"], [0.6, \"#e6f5d0\"], [0.7, \"#b8e186\"], [0.8, \"#7fbc41\"], [0.9, \"#4d9221\"], [1, \"#276419\"]], \"sequential\": [[0.0, \"#0d0887\"], [0.1111111111111111, \"#46039f\"], [0.2222222222222222, \"#7201a8\"], [0.3333333333333333, \"#9c179e\"], [0.4444444444444444, \"#bd3786\"], [0.5555555555555556, \"#d8576b\"], [0.6666666666666666, \"#ed7953\"], [0.7777777777777778, \"#fb9f3a\"], [0.8888888888888888, \"#fdca26\"], [1.0, \"#f0f921\"]], \"sequentialminus\": [[0.0, \"#0d0887\"], [0.1111111111111111, \"#46039f\"], [0.2222222222222222, \"#7201a8\"], [0.3333333333333333, \"#9c179e\"], [0.4444444444444444, \"#bd3786\"], [0.5555555555555556, \"#d8576b\"], [0.6666666666666666, \"#ed7953\"], [0.7777777777777778, \"#fb9f3a\"], [0.8888888888888888, \"#fdca26\"], [1.0, \"#f0f921\"]]}, \"colorway\": [\"#636efa\", \"#EF553B\", \"#00cc96\", \"#ab63fa\", \"#FFA15A\", \"#19d3f3\", \"#FF6692\", \"#B6E880\", \"#FF97FF\", \"#FECB52\"], \"font\": {\"color\": \"#2a3f5f\"}, \"geo\": {\"bgcolor\": \"white\", \"lakecolor\": \"white\", \"landcolor\": \"#E5ECF6\", \"showlakes\": true, \"showland\": true, \"subunitcolor\": \"white\"}, \"hoverlabel\": {\"align\": \"left\"}, \"hovermode\": \"closest\", \"mapbox\": {\"style\": \"light\"}, \"paper_bgcolor\": \"white\", \"plot_bgcolor\": \"#E5ECF6\", \"polar\": {\"angularaxis\": {\"gridcolor\": \"white\", \"linecolor\": \"white\", \"ticks\": \"\"}, \"bgcolor\": \"#E5ECF6\", \"radialaxis\": {\"gridcolor\": \"white\", \"linecolor\": \"white\", \"ticks\": \"\"}}, \"scene\": {\"xaxis\": {\"backgroundcolor\": \"#E5ECF6\", \"gridcolor\": \"white\", \"gridwidth\": 2, \"linecolor\": \"white\", \"showbackground\": true, \"ticks\": \"\", \"zerolinecolor\": \"white\"}, \"yaxis\": {\"backgroundcolor\": \"#E5ECF6\", \"gridcolor\": \"white\", \"gridwidth\": 2, \"linecolor\": \"white\", \"showbackground\": true, \"ticks\": \"\", \"zerolinecolor\": \"white\"}, \"zaxis\": {\"backgroundcolor\": \"#E5ECF6\", \"gridcolor\": \"white\", \"gridwidth\": 2, \"linecolor\": \"white\", \"showbackground\": true, \"ticks\": \"\", \"zerolinecolor\": \"white\"}}, \"shapedefaults\": {\"line\": {\"color\": \"#2a3f5f\"}}, \"ternary\": {\"aaxis\": {\"gridcolor\": \"white\", \"linecolor\": \"white\", \"ticks\": \"\"}, \"baxis\": {\"gridcolor\": \"white\", \"linecolor\": \"white\", \"ticks\": \"\"}, \"bgcolor\": \"#E5ECF6\", \"caxis\": {\"gridcolor\": \"white\", \"linecolor\": \"white\", \"ticks\": \"\"}}, \"title\": {\"x\": 0.05}, \"xaxis\": {\"automargin\": true, \"gridcolor\": \"white\", \"linecolor\": \"white\", \"ticks\": \"\", \"title\": {\"standoff\": 15}, \"zerolinecolor\": \"white\", \"zerolinewidth\": 2}, \"yaxis\": {\"automargin\": true, \"gridcolor\": \"white\", \"linecolor\": \"white\", \"ticks\": \"\", \"title\": {\"standoff\": 15}, \"zerolinecolor\": \"white\", \"zerolinewidth\": 2}}}},\n",
              "                        {\"responsive\": true}\n",
              "                    ).then(function(){\n",
              "                            \n",
              "var gd = document.getElementById('204dfdab-1dba-438c-8f86-85cff9fceaed');\n",
              "var x = new MutationObserver(function (mutations, observer) {{\n",
              "        var display = window.getComputedStyle(gd).display;\n",
              "        if (!display || display === 'none') {{\n",
              "            console.log([gd, 'removed!']);\n",
              "            Plotly.purge(gd);\n",
              "            observer.disconnect();\n",
              "        }}\n",
              "}});\n",
              "\n",
              "// Listen for the removal of the full notebook cells\n",
              "var notebookContainer = gd.closest('#notebook-container');\n",
              "if (notebookContainer) {{\n",
              "    x.observe(notebookContainer, {childList: true});\n",
              "}}\n",
              "\n",
              "// Listen for the clearing of the current output cell\n",
              "var outputEl = gd.closest('.output');\n",
              "if (outputEl) {{\n",
              "    x.observe(outputEl, {childList: true});\n",
              "}}\n",
              "\n",
              "                        })\n",
              "                };\n",
              "                });\n",
              "            </script>\n",
              "        </div>"
            ]
          },
          "metadata": {},
          "output_type": "display_data"
        }
      ],
      "source": [
        "s = 0\n",
        "e = 200\n",
        "dfpl = df[s:e]\n",
        "import plotly.graph_objects as go\n",
        "from datetime import datetime\n",
        "import matplotlib.pyplot as plt\n",
        "\n",
        "fig = go.Figure(data=[go.Candlestick(x=dfpl.index,\n",
        "                open=dfpl['open'],\n",
        "                high=dfpl['high'],\n",
        "                low=dfpl['low'],\n",
        "                close=dfpl['close'])])\n",
        "\n",
        "c=0\n",
        "while (1):\n",
        "    if(c>len(plotlist1)-1 ):#or sr[c][0]>e\n",
        "        break\n",
        "    fig.add_shape(type='line', x0=s, y0=plotlist1[c],\n",
        "                  x1=e,\n",
        "                  y1=plotlist1[c],\n",
        "                  line=dict(color=\"MediumPurple\",width=3)\n",
        "                  )\n",
        "    c+=1\n",
        "\n",
        "c=0\n",
        "while (1):\n",
        "    if(c>len(plotlist2)-1 ):#or sr[c][0]>e\n",
        "        break\n",
        "    fig.add_shape(type='line', x0=s, y0=plotlist2[c],\n",
        "                  x1=e,\n",
        "                  y1=plotlist2[c],\n",
        "                  line=dict(color=\"RoyalBlue\",width=1)\n",
        "                  )\n",
        "    c+=1    \n",
        "\n",
        "fig.show()"
      ]
    },
    {
      "cell_type": "code",
      "execution_count": null,
      "metadata": {
        "id": "hc32YE9Fq4wT"
      },
      "outputs": [],
      "source": [
        "ss = []\n",
        "rr = []\n",
        "n1=2\n",
        "n2=2\n",
        "for row in range(3, 205): #len(df)-n2\n",
        "    if support(df, row, n1, n2):\n",
        "        ss.append((row,df.low[row]))\n",
        "    if resistance(df, row, n1, n2):\n",
        "        rr.append((row,df.high[row]))"
      ]
    },
    {
      "cell_type": "code",
      "execution_count": null,
      "metadata": {
        "id": "T7kvvvLAq4wV",
        "outputId": "6f480c0b-a74b-42ac-fa63-bce6f0fd1ecc"
      },
      "outputs": [
        {
          "data": {
            "application/vnd.plotly.v1+json": {
              "config": {
                "plotlyServerURL": "https://plot.ly"
              },
              "data": [
                {
                  "close": [
                    1.12804,
                    1.14368,
                    1.13677,
                    1.15026,
                    1.14907,
                    1.15457,
                    1.1515,
                    1.1497,
                    1.13877,
                    1.15735,
                    1.16596,
                    1.17069,
                    1.16746,
                    1.1693799999999999,
                    1.18266,
                    1.1869,
                    1.18288,
                    1.17649,
                    1.1883299999999999,
                    1.1769100000000001,
                    1.1747299999999998,
                    1.17391,
                    1.16645,
                    1.18405,
                    1.17001,
                    1.17161,
                    1.16759,
                    1.17421,
                    1.17638,
                    1.1863,
                    1.18356,
                    1.17937,
                    1.16883,
                    1.17203,
                    1.1604,
                    1.15429,
                    1.15171,
                    1.15398,
                    1.14181,
                    1.14254,
                    1.15116,
                    1.15608,
                    1.15396,
                    1.14945,
                    1.1489200000000002,
                    1.13252,
                    1.13151,
                    1.13481,
                    1.13891,
                    1.1299,
                    1.12779,
                    1.11858,
                    1.12068,
                    1.12079,
                    1.1274600000000001,
                    1.13495,
                    1.13315,
                    1.14754,
                    1.14695,
                    1.15079,
                    1.14909,
                    1.1458899999999999,
                    1.13426,
                    1.12428,
                    1.12541,
                    1.1357,
                    1.13893,
                    1.13321,
                    1.13732,
                    1.13083,
                    1.13582,
                    1.1283,
                    1.1322,
                    1.1257700000000002,
                    1.12663,
                    1.11428,
                    1.11392,
                    1.11185,
                    1.09226,
                    1.08761,
                    1.08735,
                    1.08542,
                    1.0886,
                    1.0881100000000001,
                    1.09847,
                    1.09675,
                    1.08079,
                    1.08474,
                    1.0943,
                    1.11049,
                    1.10649,
                    1.12238,
                    1.12076,
                    1.12089,
                    1.12913,
                    1.1281700000000001,
                    1.1174600000000001,
                    1.12834,
                    1.1255600000000001,
                    1.13792,
                    1.14602,
                    1.14404,
                    1.14949,
                    1.1490200000000002,
                    1.1460700000000001,
                    1.15971,
                    1.16547,
                    1.17146,
                    1.16926,
                    1.1581,
                    1.17079,
                    1.1759,
                    1.18092,
                    1.1745700000000001,
                    1.1795799999999999,
                    1.1703,
                    1.17234,
                    1.16339,
                    1.15873,
                    1.16812,
                    1.16336,
                    1.1667100000000001,
                    1.18011,
                    1.17915,
                    1.1779700000000002,
                    1.1744,
                    1.1670399999999999,
                    1.16618,
                    1.16225,
                    1.15877,
                    1.14554,
                    1.14933,
                    1.14378,
                    1.14153,
                    1.15295,
                    1.1479700000000002,
                    1.1520000000000001,
                    1.1628399999999999,
                    1.1732200000000002,
                    1.1775799999999998,
                    1.1747100000000001,
                    1.1971,
                    1.1875799999999999,
                    1.1911100000000001,
                    1.1915200000000001,
                    1.177,
                    1.17899,
                    1.194,
                    1.19071,
                    1.19928,
                    1.19805,
                    1.20811,
                    1.2107700000000001,
                    1.20855,
                    1.2166,
                    1.2218,
                    1.22543,
                    1.22145,
                    1.22187,
                    1.22756,
                    1.23173,
                    1.23302,
                    1.2410700000000001,
                    1.24231,
                    1.23739,
                    1.23956,
                    1.23927,
                    1.2446,
                    1.2452,
                    1.24272,
                    1.24892,
                    1.25492,
                    1.25925,
                    1.25454,
                    1.25832,
                    1.2675299999999998,
                    1.2725600000000001,
                    1.26322,
                    1.27661,
                    1.28149,
                    1.27493,
                    1.27714,
                    1.26473,
                    1.25766,
                    1.2396200000000002,
                    1.23478,
                    1.25787,
                    1.26425,
                    1.27183,
                    1.25797,
                    1.24575,
                    1.2643,
                    1.24681,
                    1.24072,
                    1.24747,
                    1.24237,
                    1.25407,
                    1.25327,
                    1.2546,
                    1.27026
                  ],
                  "high": [
                    1.13019,
                    1.1451,
                    1.14448,
                    1.1509200000000002,
                    1.1537600000000001,
                    1.16244,
                    1.15751,
                    1.15388,
                    1.14988,
                    1.1578600000000001,
                    1.17363,
                    1.17156,
                    1.1745299999999999,
                    1.17276,
                    1.18373,
                    1.18754,
                    1.193,
                    1.1845299999999999,
                    1.19008,
                    1.1915799999999999,
                    1.17672,
                    1.17783,
                    1.1747299999999998,
                    1.1886,
                    1.18785,
                    1.17859,
                    1.17415,
                    1.1782,
                    1.18058,
                    1.18774,
                    1.19278,
                    1.18662,
                    1.18039,
                    1.17387,
                    1.17347,
                    1.1603299999999999,
                    1.15811,
                    1.16215,
                    1.15523,
                    1.14675,
                    1.15141,
                    1.16079,
                    1.1568399999999999,
                    1.1544299999999998,
                    1.15019,
                    1.149,
                    1.1350799999999999,
                    1.13667,
                    1.13924,
                    1.1390799999999999,
                    1.1308,
                    1.1336899999999999,
                    1.12315,
                    1.1248799999999999,
                    1.13032,
                    1.1354600000000001,
                    1.13734,
                    1.14898,
                    1.15101,
                    1.15487,
                    1.15182,
                    1.1538,
                    1.1461,
                    1.13713,
                    1.12716,
                    1.13749,
                    1.13976,
                    1.14265,
                    1.1415,
                    1.13838,
                    1.13798,
                    1.13715,
                    1.1332200000000001,
                    1.13375,
                    1.12963,
                    1.1269,
                    1.11522,
                    1.11475,
                    1.11226,
                    1.09456,
                    1.09184,
                    1.09096,
                    1.0929799999999998,
                    1.09125,
                    1.09974,
                    1.10138,
                    1.09713,
                    1.08725,
                    1.09505,
                    1.1112600000000001,
                    1.11297,
                    1.12402,
                    1.12362,
                    1.12705,
                    1.13228,
                    1.1309799999999999,
                    1.1318,
                    1.1299700000000001,
                    1.13424,
                    1.13837,
                    1.15046,
                    1.1524299999999998,
                    1.15049,
                    1.15331,
                    1.14975,
                    1.16015,
                    1.17339,
                    1.17288,
                    1.17677,
                    1.17205,
                    1.1723700000000001,
                    1.18115,
                    1.1839600000000001,
                    1.18604,
                    1.1846700000000001,
                    1.1815,
                    1.1765,
                    1.1745,
                    1.1694799999999999,
                    1.1684299999999999,
                    1.17285,
                    1.17006,
                    1.18265,
                    1.18444,
                    1.18566,
                    1.1784299999999999,
                    1.17507,
                    1.1718,
                    1.1754200000000001,
                    1.16557,
                    1.16192,
                    1.1512200000000001,
                    1.1498,
                    1.14629,
                    1.15428,
                    1.15352,
                    1.15304,
                    1.1659899999999999,
                    1.1738,
                    1.1802,
                    1.18485,
                    1.1973799999999999,
                    1.1977200000000001,
                    1.19556,
                    1.19379,
                    1.19177,
                    1.18185,
                    1.19475,
                    1.19411,
                    1.20145,
                    1.20403,
                    1.20913,
                    1.21268,
                    1.21553,
                    1.21781,
                    1.22389,
                    1.22745,
                    1.2264899999999999,
                    1.2233100000000001,
                    1.23063,
                    1.2322600000000001,
                    1.23594,
                    1.2420799999999999,
                    1.2438200000000001,
                    1.24346,
                    1.2445899999999999,
                    1.2425,
                    1.24702,
                    1.2462,
                    1.2469299999999999,
                    1.25078,
                    1.25613,
                    1.2646,
                    1.26052,
                    1.26282,
                    1.26935,
                    1.28093,
                    1.27417,
                    1.27796,
                    1.2867600000000001,
                    1.2897100000000001,
                    1.27957,
                    1.27878,
                    1.2670700000000001,
                    1.26091,
                    1.2423,
                    1.25952,
                    1.2671,
                    1.27485,
                    1.27742,
                    1.2610700000000001,
                    1.2651700000000001,
                    1.2661799999999999,
                    1.25265,
                    1.24911,
                    1.24858,
                    1.25973,
                    1.25609,
                    1.2636399999999999,
                    1.27243
                  ],
                  "low": [
                    1.1203,
                    1.1273799999999998,
                    1.13275,
                    1.13026,
                    1.14362,
                    1.14946,
                    1.1463,
                    1.14681,
                    1.13757,
                    1.13691,
                    1.16215,
                    1.1601299999999999,
                    1.1661700000000002,
                    1.16192,
                    1.16648,
                    1.17972,
                    1.1817600000000001,
                    1.1704700000000001,
                    1.16917,
                    1.17439,
                    1.16524,
                    1.16875,
                    1.16619,
                    1.16287,
                    1.1684299999999999,
                    1.16564,
                    1.1670399999999999,
                    1.16581,
                    1.17036,
                    1.17354,
                    1.18208,
                    1.1768399999999999,
                    1.16611,
                    1.15836,
                    1.15511,
                    1.15081,
                    1.1476600000000001,
                    1.14913,
                    1.1414,
                    1.13994,
                    1.13974,
                    1.15025,
                    1.15049,
                    1.14326,
                    1.1447200000000002,
                    1.13132,
                    1.1258700000000001,
                    1.13047,
                    1.1309799999999999,
                    1.1275899999999999,
                    1.12426,
                    1.1156,
                    1.11123,
                    1.11562,
                    1.11717,
                    1.12411,
                    1.13058,
                    1.13139,
                    1.1423299999999998,
                    1.14439,
                    1.14515,
                    1.1451,
                    1.13352,
                    1.12237,
                    1.11348,
                    1.12581,
                    1.1306399999999999,
                    1.1325399999999999,
                    1.13183,
                    1.12866,
                    1.12628,
                    1.12758,
                    1.12189,
                    1.1224399999999999,
                    1.1240299999999999,
                    1.1123299999999998,
                    1.10545,
                    1.1079299999999999,
                    1.08846,
                    1.0836299999999999,
                    1.08453,
                    1.0793,
                    1.08313,
                    1.08097,
                    1.0868799999999998,
                    1.09517,
                    1.08029,
                    1.07616,
                    1.08064,
                    1.09159,
                    1.10461,
                    1.10524,
                    1.1162,
                    1.1154700000000002,
                    1.1134600000000001,
                    1.12411,
                    1.11538,
                    1.11382,
                    1.1226399999999999,
                    1.12382,
                    1.14134,
                    1.1435799999999998,
                    1.14273,
                    1.14578,
                    1.14404,
                    1.13941,
                    1.15705,
                    1.16424,
                    1.16612,
                    1.155,
                    1.1532200000000001,
                    1.16975,
                    1.17587,
                    1.1684,
                    1.17022,
                    1.16523,
                    1.15818,
                    1.15906,
                    1.15734,
                    1.15526,
                    1.16016,
                    1.1616799999999998,
                    1.16477,
                    1.17561,
                    1.17601,
                    1.1717600000000001,
                    1.1654799999999998,
                    1.16584,
                    1.1616,
                    1.15628,
                    1.14275,
                    1.14262,
                    1.1413,
                    1.13886,
                    1.13783,
                    1.1462700000000001,
                    1.14431,
                    1.1503,
                    1.16251,
                    1.1727100000000001,
                    1.17245,
                    1.17327,
                    1.18733,
                    1.18711,
                    1.18567,
                    1.17565,
                    1.17519,
                    1.17686,
                    1.18831,
                    1.18972,
                    1.19364,
                    1.19407,
                    1.2069299999999998,
                    1.2029,
                    1.2061600000000001,
                    1.21476,
                    1.21869,
                    1.21523,
                    1.21123,
                    1.22071,
                    1.21288,
                    1.23,
                    1.22948,
                    1.23587,
                    1.2343,
                    1.23479,
                    1.23823,
                    1.23924,
                    1.24342,
                    1.2420799999999999,
                    1.24221,
                    1.24758,
                    1.25132,
                    1.24698,
                    1.25214,
                    1.25795,
                    1.2666600000000001,
                    1.2623,
                    1.2559,
                    1.27034,
                    1.27342,
                    1.27119,
                    1.26296,
                    1.25614,
                    1.23504,
                    1.23337,
                    1.2342600000000001,
                    1.25504,
                    1.26346,
                    1.25631,
                    1.24567,
                    1.24403,
                    1.2462799999999998,
                    1.23617,
                    1.23506,
                    1.2389700000000001,
                    1.24139,
                    1.24929,
                    1.25177,
                    1.25118
                  ],
                  "open": [
                    1.12354,
                    1.12798,
                    1.14367,
                    1.13675,
                    1.15002,
                    1.1495799999999998,
                    1.1542700000000001,
                    1.1519,
                    1.14983,
                    1.13845,
                    1.16634,
                    1.1659,
                    1.17059,
                    1.16724,
                    1.16947,
                    1.1827,
                    1.1867,
                    1.18261,
                    1.1765700000000001,
                    1.1882700000000002,
                    1.17149,
                    1.17496,
                    1.17365,
                    1.16635,
                    1.1838899999999999,
                    1.1694,
                    1.17146,
                    1.16746,
                    1.17429,
                    1.17652,
                    1.1869399999999999,
                    1.1838600000000001,
                    1.1791399999999999,
                    1.1684,
                    1.172,
                    1.16025,
                    1.15444,
                    1.15188,
                    1.15449,
                    1.14215,
                    1.1430799999999999,
                    1.15154,
                    1.15619,
                    1.15415,
                    1.14935,
                    1.1487,
                    1.13247,
                    1.1317700000000002,
                    1.13479,
                    1.13877,
                    1.12934,
                    1.1277700000000002,
                    1.11845,
                    1.12119,
                    1.12045,
                    1.12685,
                    1.1346100000000001,
                    1.13267,
                    1.14835,
                    1.14749,
                    1.1508399999999999,
                    1.14947,
                    1.14572,
                    1.13437,
                    1.1242,
                    1.1284299999999998,
                    1.1361299999999999,
                    1.13867,
                    1.13315,
                    1.13716,
                    1.1289799999999999,
                    1.13588,
                    1.12837,
                    1.1323299999999998,
                    1.12635,
                    1.1249,
                    1.11485,
                    1.1138,
                    1.1119299999999999,
                    1.0920299999999998,
                    1.08566,
                    1.0874,
                    1.08544,
                    1.08856,
                    1.08843,
                    1.09943,
                    1.0966799999999999,
                    1.08117,
                    1.08495,
                    1.0944399999999999,
                    1.11043,
                    1.10695,
                    1.12239,
                    1.1210200000000001,
                    1.12094,
                    1.12745,
                    1.1284100000000001,
                    1.11782,
                    1.1284299999999998,
                    1.1257,
                    1.14343,
                    1.14588,
                    1.14445,
                    1.14951,
                    1.14896,
                    1.1455799999999998,
                    1.1601,
                    1.16585,
                    1.17193,
                    1.16943,
                    1.15655,
                    1.1711200000000002,
                    1.1764700000000001,
                    1.18097,
                    1.17467,
                    1.18109,
                    1.1706,
                    1.17264,
                    1.16378,
                    1.1586,
                    1.17098,
                    1.16362,
                    1.16654,
                    1.18021,
                    1.17903,
                    1.1774200000000001,
                    1.17441,
                    1.16701,
                    1.16602,
                    1.16228,
                    1.15778,
                    1.14573,
                    1.14921,
                    1.14391,
                    1.14165,
                    1.15034,
                    1.14798,
                    1.1521,
                    1.1632799999999999,
                    1.17325,
                    1.17764,
                    1.17479,
                    1.19696,
                    1.1875,
                    1.19127,
                    1.19084,
                    1.17718,
                    1.1790200000000002,
                    1.19392,
                    1.19068,
                    1.19717,
                    1.1982,
                    1.20793,
                    1.2109,
                    1.20821,
                    1.21725,
                    1.22173,
                    1.22576,
                    1.22151,
                    1.22213,
                    1.2141899999999999,
                    1.2316799999999999,
                    1.23291,
                    1.24091,
                    1.2422,
                    1.24025,
                    1.23948,
                    1.23943,
                    1.24448,
                    1.24499,
                    1.24258,
                    1.249,
                    1.25495,
                    1.25931,
                    1.2543600000000001,
                    1.25832,
                    1.26736,
                    1.27244,
                    1.26306,
                    1.27653,
                    1.28538,
                    1.27473,
                    1.27736,
                    1.2645600000000001,
                    1.25753,
                    1.23676,
                    1.23496,
                    1.25786,
                    1.26405,
                    1.2716399999999999,
                    1.25742,
                    1.24604,
                    1.26445,
                    1.24681,
                    1.24062,
                    1.24696,
                    1.24248,
                    1.25423,
                    1.25345,
                    1.25471
                  ],
                  "type": "candlestick",
                  "x": [
                    0,
                    1,
                    2,
                    3,
                    4,
                    5,
                    6,
                    7,
                    8,
                    9,
                    10,
                    11,
                    12,
                    13,
                    14,
                    15,
                    16,
                    17,
                    18,
                    19,
                    20,
                    21,
                    22,
                    23,
                    24,
                    25,
                    26,
                    27,
                    28,
                    29,
                    30,
                    31,
                    32,
                    33,
                    34,
                    35,
                    36,
                    37,
                    38,
                    39,
                    40,
                    41,
                    42,
                    43,
                    44,
                    45,
                    46,
                    47,
                    48,
                    49,
                    50,
                    51,
                    52,
                    53,
                    54,
                    55,
                    56,
                    57,
                    58,
                    59,
                    60,
                    61,
                    62,
                    63,
                    64,
                    65,
                    66,
                    67,
                    68,
                    69,
                    70,
                    71,
                    72,
                    73,
                    74,
                    75,
                    76,
                    77,
                    78,
                    79,
                    80,
                    81,
                    82,
                    83,
                    84,
                    85,
                    86,
                    87,
                    88,
                    89,
                    90,
                    91,
                    92,
                    93,
                    94,
                    95,
                    96,
                    97,
                    98,
                    99,
                    100,
                    101,
                    102,
                    103,
                    104,
                    105,
                    106,
                    107,
                    108,
                    109,
                    110,
                    111,
                    112,
                    113,
                    114,
                    115,
                    116,
                    117,
                    118,
                    119,
                    120,
                    121,
                    122,
                    123,
                    124,
                    125,
                    126,
                    127,
                    128,
                    129,
                    130,
                    131,
                    132,
                    133,
                    134,
                    135,
                    136,
                    137,
                    138,
                    139,
                    140,
                    141,
                    142,
                    143,
                    144,
                    145,
                    146,
                    147,
                    148,
                    149,
                    150,
                    151,
                    152,
                    153,
                    154,
                    155,
                    156,
                    157,
                    158,
                    159,
                    160,
                    161,
                    162,
                    163,
                    164,
                    165,
                    166,
                    167,
                    168,
                    169,
                    170,
                    171,
                    172,
                    173,
                    174,
                    175,
                    176,
                    177,
                    178,
                    179,
                    180,
                    181,
                    182,
                    183,
                    184,
                    185,
                    186,
                    187,
                    188,
                    189,
                    190,
                    191,
                    192,
                    193,
                    194,
                    195,
                    196,
                    197,
                    198,
                    199
                  ]
                }
              ],
              "layout": {
                "shapes": [
                  {
                    "line": {
                      "color": "MediumPurple",
                      "width": 3
                    },
                    "type": "line",
                    "x0": 40,
                    "x1": 200,
                    "y0": 1.13974,
                    "y1": 1.13974
                  },
                  {
                    "line": {
                      "color": "MediumPurple",
                      "width": 3
                    },
                    "type": "line",
                    "x0": 46,
                    "x1": 200,
                    "y0": 1.1258700000000001,
                    "y1": 1.1258700000000001
                  },
                  {
                    "line": {
                      "color": "MediumPurple",
                      "width": 3
                    },
                    "type": "line",
                    "x0": 52,
                    "x1": 200,
                    "y0": 1.11123,
                    "y1": 1.11123
                  },
                  {
                    "line": {
                      "color": "MediumPurple",
                      "width": 3
                    },
                    "type": "line",
                    "x0": 64,
                    "x1": 200,
                    "y0": 1.11348,
                    "y1": 1.11348
                  },
                  {
                    "line": {
                      "color": "MediumPurple",
                      "width": 3
                    },
                    "type": "line",
                    "x0": 87,
                    "x1": 200,
                    "y0": 1.07616,
                    "y1": 1.07616
                  },
                  {
                    "line": {
                      "color": "MediumPurple",
                      "width": 3
                    },
                    "type": "line",
                    "x0": 97,
                    "x1": 200,
                    "y0": 1.11382,
                    "y1": 1.11382
                  },
                  {
                    "line": {
                      "color": "MediumPurple",
                      "width": 3
                    },
                    "type": "line",
                    "x0": 105,
                    "x1": 200,
                    "y0": 1.13941,
                    "y1": 1.13941
                  },
                  {
                    "line": {
                      "color": "MediumPurple",
                      "width": 3
                    },
                    "type": "line",
                    "x0": 110,
                    "x1": 200,
                    "y0": 1.1532200000000001,
                    "y1": 1.1532200000000001
                  },
                  {
                    "line": {
                      "color": "MediumPurple",
                      "width": 3
                    },
                    "type": "line",
                    "x0": 119,
                    "x1": 200,
                    "y0": 1.15526,
                    "y1": 1.15526
                  },
                  {
                    "line": {
                      "color": "MediumPurple",
                      "width": 3
                    },
                    "type": "line",
                    "x0": 146,
                    "x1": 200,
                    "y0": 1.17519,
                    "y1": 1.17519
                  },
                  {
                    "line": {
                      "color": "MediumPurple",
                      "width": 3
                    },
                    "type": "line",
                    "x0": 178,
                    "x1": 200,
                    "y0": 1.2559,
                    "y1": 1.2559
                  },
                  {
                    "line": {
                      "color": "MediumPurple",
                      "width": 3
                    },
                    "type": "line",
                    "x0": 185,
                    "x1": 200,
                    "y0": 1.23337,
                    "y1": 1.23337
                  },
                  {
                    "line": {
                      "color": "MediumPurple",
                      "width": 3
                    },
                    "type": "line",
                    "x0": 194,
                    "x1": 200,
                    "y0": 1.23506,
                    "y1": 1.23506
                  },
                  {
                    "line": {
                      "color": "RoyalBlue",
                      "width": 1
                    },
                    "type": "line",
                    "x0": 5,
                    "x1": 200,
                    "y0": 1.16244,
                    "y1": 1.16244
                  },
                  {
                    "line": {
                      "color": "RoyalBlue",
                      "width": 1
                    },
                    "type": "line",
                    "x0": 30,
                    "x1": 200,
                    "y0": 1.19278,
                    "y1": 1.19278
                  },
                  {
                    "line": {
                      "color": "RoyalBlue",
                      "width": 1
                    },
                    "type": "line",
                    "x0": 41,
                    "x1": 200,
                    "y0": 1.16079,
                    "y1": 1.16079
                  },
                  {
                    "line": {
                      "color": "RoyalBlue",
                      "width": 1
                    },
                    "type": "line",
                    "x0": 48,
                    "x1": 200,
                    "y0": 1.13924,
                    "y1": 1.13924
                  },
                  {
                    "line": {
                      "color": "RoyalBlue",
                      "width": 1
                    },
                    "type": "line",
                    "x0": 67,
                    "x1": 200,
                    "y0": 1.14265,
                    "y1": 1.14265
                  },
                  {
                    "line": {
                      "color": "RoyalBlue",
                      "width": 1
                    },
                    "type": "line",
                    "x0": 85,
                    "x1": 200,
                    "y0": 1.10138,
                    "y1": 1.10138
                  },
                  {
                    "line": {
                      "color": "RoyalBlue",
                      "width": 1
                    },
                    "type": "line",
                    "x0": 113,
                    "x1": 200,
                    "y0": 1.18604,
                    "y1": 1.18604
                  },
                  {
                    "line": {
                      "color": "RoyalBlue",
                      "width": 1
                    },
                    "type": "line",
                    "x0": 124,
                    "x1": 200,
                    "y0": 1.18566,
                    "y1": 1.18566
                  },
                  {
                    "line": {
                      "color": "RoyalBlue",
                      "width": 1
                    },
                    "type": "line",
                    "x0": 142,
                    "x1": 200,
                    "y0": 1.1977200000000001,
                    "y1": 1.1977200000000001
                  },
                  {
                    "line": {
                      "color": "RoyalBlue",
                      "width": 1
                    },
                    "type": "line",
                    "x0": 156,
                    "x1": 200,
                    "y0": 1.22745,
                    "y1": 1.22745
                  },
                  {
                    "line": {
                      "color": "RoyalBlue",
                      "width": 1
                    },
                    "type": "line",
                    "x0": 180,
                    "x1": 200,
                    "y0": 1.2897100000000001,
                    "y1": 1.2897100000000001
                  },
                  {
                    "line": {
                      "color": "RoyalBlue",
                      "width": 1
                    },
                    "type": "line",
                    "x0": 192,
                    "x1": 200,
                    "y0": 1.2661799999999999,
                    "y1": 1.2661799999999999
                  }
                ],
                "template": {
                  "data": {
                    "bar": [
                      {
                        "error_x": {
                          "color": "#2a3f5f"
                        },
                        "error_y": {
                          "color": "#2a3f5f"
                        },
                        "marker": {
                          "line": {
                            "color": "#E5ECF6",
                            "width": 0.5
                          }
                        },
                        "type": "bar"
                      }
                    ],
                    "barpolar": [
                      {
                        "marker": {
                          "line": {
                            "color": "#E5ECF6",
                            "width": 0.5
                          }
                        },
                        "type": "barpolar"
                      }
                    ],
                    "carpet": [
                      {
                        "aaxis": {
                          "endlinecolor": "#2a3f5f",
                          "gridcolor": "white",
                          "linecolor": "white",
                          "minorgridcolor": "white",
                          "startlinecolor": "#2a3f5f"
                        },
                        "baxis": {
                          "endlinecolor": "#2a3f5f",
                          "gridcolor": "white",
                          "linecolor": "white",
                          "minorgridcolor": "white",
                          "startlinecolor": "#2a3f5f"
                        },
                        "type": "carpet"
                      }
                    ],
                    "choropleth": [
                      {
                        "colorbar": {
                          "outlinewidth": 0,
                          "ticks": ""
                        },
                        "type": "choropleth"
                      }
                    ],
                    "contour": [
                      {
                        "colorbar": {
                          "outlinewidth": 0,
                          "ticks": ""
                        },
                        "colorscale": [
                          [
                            0,
                            "#0d0887"
                          ],
                          [
                            0.1111111111111111,
                            "#46039f"
                          ],
                          [
                            0.2222222222222222,
                            "#7201a8"
                          ],
                          [
                            0.3333333333333333,
                            "#9c179e"
                          ],
                          [
                            0.4444444444444444,
                            "#bd3786"
                          ],
                          [
                            0.5555555555555556,
                            "#d8576b"
                          ],
                          [
                            0.6666666666666666,
                            "#ed7953"
                          ],
                          [
                            0.7777777777777778,
                            "#fb9f3a"
                          ],
                          [
                            0.8888888888888888,
                            "#fdca26"
                          ],
                          [
                            1,
                            "#f0f921"
                          ]
                        ],
                        "type": "contour"
                      }
                    ],
                    "contourcarpet": [
                      {
                        "colorbar": {
                          "outlinewidth": 0,
                          "ticks": ""
                        },
                        "type": "contourcarpet"
                      }
                    ],
                    "heatmap": [
                      {
                        "colorbar": {
                          "outlinewidth": 0,
                          "ticks": ""
                        },
                        "colorscale": [
                          [
                            0,
                            "#0d0887"
                          ],
                          [
                            0.1111111111111111,
                            "#46039f"
                          ],
                          [
                            0.2222222222222222,
                            "#7201a8"
                          ],
                          [
                            0.3333333333333333,
                            "#9c179e"
                          ],
                          [
                            0.4444444444444444,
                            "#bd3786"
                          ],
                          [
                            0.5555555555555556,
                            "#d8576b"
                          ],
                          [
                            0.6666666666666666,
                            "#ed7953"
                          ],
                          [
                            0.7777777777777778,
                            "#fb9f3a"
                          ],
                          [
                            0.8888888888888888,
                            "#fdca26"
                          ],
                          [
                            1,
                            "#f0f921"
                          ]
                        ],
                        "type": "heatmap"
                      }
                    ],
                    "heatmapgl": [
                      {
                        "colorbar": {
                          "outlinewidth": 0,
                          "ticks": ""
                        },
                        "colorscale": [
                          [
                            0,
                            "#0d0887"
                          ],
                          [
                            0.1111111111111111,
                            "#46039f"
                          ],
                          [
                            0.2222222222222222,
                            "#7201a8"
                          ],
                          [
                            0.3333333333333333,
                            "#9c179e"
                          ],
                          [
                            0.4444444444444444,
                            "#bd3786"
                          ],
                          [
                            0.5555555555555556,
                            "#d8576b"
                          ],
                          [
                            0.6666666666666666,
                            "#ed7953"
                          ],
                          [
                            0.7777777777777778,
                            "#fb9f3a"
                          ],
                          [
                            0.8888888888888888,
                            "#fdca26"
                          ],
                          [
                            1,
                            "#f0f921"
                          ]
                        ],
                        "type": "heatmapgl"
                      }
                    ],
                    "histogram": [
                      {
                        "marker": {
                          "colorbar": {
                            "outlinewidth": 0,
                            "ticks": ""
                          }
                        },
                        "type": "histogram"
                      }
                    ],
                    "histogram2d": [
                      {
                        "colorbar": {
                          "outlinewidth": 0,
                          "ticks": ""
                        },
                        "colorscale": [
                          [
                            0,
                            "#0d0887"
                          ],
                          [
                            0.1111111111111111,
                            "#46039f"
                          ],
                          [
                            0.2222222222222222,
                            "#7201a8"
                          ],
                          [
                            0.3333333333333333,
                            "#9c179e"
                          ],
                          [
                            0.4444444444444444,
                            "#bd3786"
                          ],
                          [
                            0.5555555555555556,
                            "#d8576b"
                          ],
                          [
                            0.6666666666666666,
                            "#ed7953"
                          ],
                          [
                            0.7777777777777778,
                            "#fb9f3a"
                          ],
                          [
                            0.8888888888888888,
                            "#fdca26"
                          ],
                          [
                            1,
                            "#f0f921"
                          ]
                        ],
                        "type": "histogram2d"
                      }
                    ],
                    "histogram2dcontour": [
                      {
                        "colorbar": {
                          "outlinewidth": 0,
                          "ticks": ""
                        },
                        "colorscale": [
                          [
                            0,
                            "#0d0887"
                          ],
                          [
                            0.1111111111111111,
                            "#46039f"
                          ],
                          [
                            0.2222222222222222,
                            "#7201a8"
                          ],
                          [
                            0.3333333333333333,
                            "#9c179e"
                          ],
                          [
                            0.4444444444444444,
                            "#bd3786"
                          ],
                          [
                            0.5555555555555556,
                            "#d8576b"
                          ],
                          [
                            0.6666666666666666,
                            "#ed7953"
                          ],
                          [
                            0.7777777777777778,
                            "#fb9f3a"
                          ],
                          [
                            0.8888888888888888,
                            "#fdca26"
                          ],
                          [
                            1,
                            "#f0f921"
                          ]
                        ],
                        "type": "histogram2dcontour"
                      }
                    ],
                    "mesh3d": [
                      {
                        "colorbar": {
                          "outlinewidth": 0,
                          "ticks": ""
                        },
                        "type": "mesh3d"
                      }
                    ],
                    "parcoords": [
                      {
                        "line": {
                          "colorbar": {
                            "outlinewidth": 0,
                            "ticks": ""
                          }
                        },
                        "type": "parcoords"
                      }
                    ],
                    "pie": [
                      {
                        "automargin": true,
                        "type": "pie"
                      }
                    ],
                    "scatter": [
                      {
                        "marker": {
                          "colorbar": {
                            "outlinewidth": 0,
                            "ticks": ""
                          }
                        },
                        "type": "scatter"
                      }
                    ],
                    "scatter3d": [
                      {
                        "line": {
                          "colorbar": {
                            "outlinewidth": 0,
                            "ticks": ""
                          }
                        },
                        "marker": {
                          "colorbar": {
                            "outlinewidth": 0,
                            "ticks": ""
                          }
                        },
                        "type": "scatter3d"
                      }
                    ],
                    "scattercarpet": [
                      {
                        "marker": {
                          "colorbar": {
                            "outlinewidth": 0,
                            "ticks": ""
                          }
                        },
                        "type": "scattercarpet"
                      }
                    ],
                    "scattergeo": [
                      {
                        "marker": {
                          "colorbar": {
                            "outlinewidth": 0,
                            "ticks": ""
                          }
                        },
                        "type": "scattergeo"
                      }
                    ],
                    "scattergl": [
                      {
                        "marker": {
                          "colorbar": {
                            "outlinewidth": 0,
                            "ticks": ""
                          }
                        },
                        "type": "scattergl"
                      }
                    ],
                    "scattermapbox": [
                      {
                        "marker": {
                          "colorbar": {
                            "outlinewidth": 0,
                            "ticks": ""
                          }
                        },
                        "type": "scattermapbox"
                      }
                    ],
                    "scatterpolar": [
                      {
                        "marker": {
                          "colorbar": {
                            "outlinewidth": 0,
                            "ticks": ""
                          }
                        },
                        "type": "scatterpolar"
                      }
                    ],
                    "scatterpolargl": [
                      {
                        "marker": {
                          "colorbar": {
                            "outlinewidth": 0,
                            "ticks": ""
                          }
                        },
                        "type": "scatterpolargl"
                      }
                    ],
                    "scatterternary": [
                      {
                        "marker": {
                          "colorbar": {
                            "outlinewidth": 0,
                            "ticks": ""
                          }
                        },
                        "type": "scatterternary"
                      }
                    ],
                    "surface": [
                      {
                        "colorbar": {
                          "outlinewidth": 0,
                          "ticks": ""
                        },
                        "colorscale": [
                          [
                            0,
                            "#0d0887"
                          ],
                          [
                            0.1111111111111111,
                            "#46039f"
                          ],
                          [
                            0.2222222222222222,
                            "#7201a8"
                          ],
                          [
                            0.3333333333333333,
                            "#9c179e"
                          ],
                          [
                            0.4444444444444444,
                            "#bd3786"
                          ],
                          [
                            0.5555555555555556,
                            "#d8576b"
                          ],
                          [
                            0.6666666666666666,
                            "#ed7953"
                          ],
                          [
                            0.7777777777777778,
                            "#fb9f3a"
                          ],
                          [
                            0.8888888888888888,
                            "#fdca26"
                          ],
                          [
                            1,
                            "#f0f921"
                          ]
                        ],
                        "type": "surface"
                      }
                    ],
                    "table": [
                      {
                        "cells": {
                          "fill": {
                            "color": "#EBF0F8"
                          },
                          "line": {
                            "color": "white"
                          }
                        },
                        "header": {
                          "fill": {
                            "color": "#C8D4E3"
                          },
                          "line": {
                            "color": "white"
                          }
                        },
                        "type": "table"
                      }
                    ]
                  },
                  "layout": {
                    "annotationdefaults": {
                      "arrowcolor": "#2a3f5f",
                      "arrowhead": 0,
                      "arrowwidth": 1
                    },
                    "coloraxis": {
                      "colorbar": {
                        "outlinewidth": 0,
                        "ticks": ""
                      }
                    },
                    "colorscale": {
                      "diverging": [
                        [
                          0,
                          "#8e0152"
                        ],
                        [
                          0.1,
                          "#c51b7d"
                        ],
                        [
                          0.2,
                          "#de77ae"
                        ],
                        [
                          0.3,
                          "#f1b6da"
                        ],
                        [
                          0.4,
                          "#fde0ef"
                        ],
                        [
                          0.5,
                          "#f7f7f7"
                        ],
                        [
                          0.6,
                          "#e6f5d0"
                        ],
                        [
                          0.7,
                          "#b8e186"
                        ],
                        [
                          0.8,
                          "#7fbc41"
                        ],
                        [
                          0.9,
                          "#4d9221"
                        ],
                        [
                          1,
                          "#276419"
                        ]
                      ],
                      "sequential": [
                        [
                          0,
                          "#0d0887"
                        ],
                        [
                          0.1111111111111111,
                          "#46039f"
                        ],
                        [
                          0.2222222222222222,
                          "#7201a8"
                        ],
                        [
                          0.3333333333333333,
                          "#9c179e"
                        ],
                        [
                          0.4444444444444444,
                          "#bd3786"
                        ],
                        [
                          0.5555555555555556,
                          "#d8576b"
                        ],
                        [
                          0.6666666666666666,
                          "#ed7953"
                        ],
                        [
                          0.7777777777777778,
                          "#fb9f3a"
                        ],
                        [
                          0.8888888888888888,
                          "#fdca26"
                        ],
                        [
                          1,
                          "#f0f921"
                        ]
                      ],
                      "sequentialminus": [
                        [
                          0,
                          "#0d0887"
                        ],
                        [
                          0.1111111111111111,
                          "#46039f"
                        ],
                        [
                          0.2222222222222222,
                          "#7201a8"
                        ],
                        [
                          0.3333333333333333,
                          "#9c179e"
                        ],
                        [
                          0.4444444444444444,
                          "#bd3786"
                        ],
                        [
                          0.5555555555555556,
                          "#d8576b"
                        ],
                        [
                          0.6666666666666666,
                          "#ed7953"
                        ],
                        [
                          0.7777777777777778,
                          "#fb9f3a"
                        ],
                        [
                          0.8888888888888888,
                          "#fdca26"
                        ],
                        [
                          1,
                          "#f0f921"
                        ]
                      ]
                    },
                    "colorway": [
                      "#636efa",
                      "#EF553B",
                      "#00cc96",
                      "#ab63fa",
                      "#FFA15A",
                      "#19d3f3",
                      "#FF6692",
                      "#B6E880",
                      "#FF97FF",
                      "#FECB52"
                    ],
                    "font": {
                      "color": "#2a3f5f"
                    },
                    "geo": {
                      "bgcolor": "white",
                      "lakecolor": "white",
                      "landcolor": "#E5ECF6",
                      "showlakes": true,
                      "showland": true,
                      "subunitcolor": "white"
                    },
                    "hoverlabel": {
                      "align": "left"
                    },
                    "hovermode": "closest",
                    "mapbox": {
                      "style": "light"
                    },
                    "paper_bgcolor": "white",
                    "plot_bgcolor": "#E5ECF6",
                    "polar": {
                      "angularaxis": {
                        "gridcolor": "white",
                        "linecolor": "white",
                        "ticks": ""
                      },
                      "bgcolor": "#E5ECF6",
                      "radialaxis": {
                        "gridcolor": "white",
                        "linecolor": "white",
                        "ticks": ""
                      }
                    },
                    "scene": {
                      "xaxis": {
                        "backgroundcolor": "#E5ECF6",
                        "gridcolor": "white",
                        "gridwidth": 2,
                        "linecolor": "white",
                        "showbackground": true,
                        "ticks": "",
                        "zerolinecolor": "white"
                      },
                      "yaxis": {
                        "backgroundcolor": "#E5ECF6",
                        "gridcolor": "white",
                        "gridwidth": 2,
                        "linecolor": "white",
                        "showbackground": true,
                        "ticks": "",
                        "zerolinecolor": "white"
                      },
                      "zaxis": {
                        "backgroundcolor": "#E5ECF6",
                        "gridcolor": "white",
                        "gridwidth": 2,
                        "linecolor": "white",
                        "showbackground": true,
                        "ticks": "",
                        "zerolinecolor": "white"
                      }
                    },
                    "shapedefaults": {
                      "line": {
                        "color": "#2a3f5f"
                      }
                    },
                    "ternary": {
                      "aaxis": {
                        "gridcolor": "white",
                        "linecolor": "white",
                        "ticks": ""
                      },
                      "baxis": {
                        "gridcolor": "white",
                        "linecolor": "white",
                        "ticks": ""
                      },
                      "bgcolor": "#E5ECF6",
                      "caxis": {
                        "gridcolor": "white",
                        "linecolor": "white",
                        "ticks": ""
                      }
                    },
                    "title": {
                      "x": 0.05
                    },
                    "xaxis": {
                      "automargin": true,
                      "gridcolor": "white",
                      "linecolor": "white",
                      "ticks": "",
                      "title": {
                        "standoff": 15
                      },
                      "zerolinecolor": "white",
                      "zerolinewidth": 2
                    },
                    "yaxis": {
                      "automargin": true,
                      "gridcolor": "white",
                      "linecolor": "white",
                      "ticks": "",
                      "title": {
                        "standoff": 15
                      },
                      "zerolinecolor": "white",
                      "zerolinewidth": 2
                    }
                  }
                }
              }
            },
            "text/html": [
              "<div>\n",
              "        \n",
              "        \n",
              "            <div id=\"6b9a3b74-976e-4452-bc4e-e53d9497889e\" class=\"plotly-graph-div\" style=\"height:525px; width:100%;\"></div>\n",
              "            <script type=\"text/javascript\">\n",
              "                require([\"plotly\"], function(Plotly) {\n",
              "                    window.PLOTLYENV=window.PLOTLYENV || {};\n",
              "                    \n",
              "                if (document.getElementById(\"6b9a3b74-976e-4452-bc4e-e53d9497889e\")) {\n",
              "                    Plotly.newPlot(\n",
              "                        '6b9a3b74-976e-4452-bc4e-e53d9497889e',\n",
              "                        [{\"close\": [1.12804, 1.14368, 1.13677, 1.15026, 1.14907, 1.15457, 1.1515, 1.1497, 1.13877, 1.15735, 1.16596, 1.17069, 1.16746, 1.1693799999999999, 1.18266, 1.1869, 1.18288, 1.17649, 1.1883299999999999, 1.1769100000000001, 1.1747299999999998, 1.17391, 1.16645, 1.18405, 1.17001, 1.17161, 1.16759, 1.17421, 1.17638, 1.1863, 1.18356, 1.17937, 1.16883, 1.17203, 1.1604, 1.15429, 1.15171, 1.15398, 1.14181, 1.14254, 1.15116, 1.15608, 1.15396, 1.14945, 1.1489200000000002, 1.13252, 1.13151, 1.13481, 1.13891, 1.1299, 1.12779, 1.11858, 1.12068, 1.12079, 1.1274600000000001, 1.13495, 1.13315, 1.14754, 1.14695, 1.15079, 1.14909, 1.1458899999999999, 1.13426, 1.12428, 1.12541, 1.1357, 1.13893, 1.13321, 1.13732, 1.13083, 1.13582, 1.1283, 1.1322, 1.1257700000000002, 1.12663, 1.11428, 1.11392, 1.11185, 1.09226, 1.08761, 1.08735, 1.08542, 1.0886, 1.0881100000000001, 1.09847, 1.09675, 1.08079, 1.08474, 1.0943, 1.11049, 1.10649, 1.12238, 1.12076, 1.12089, 1.12913, 1.1281700000000001, 1.1174600000000001, 1.12834, 1.1255600000000001, 1.13792, 1.14602, 1.14404, 1.14949, 1.1490200000000002, 1.1460700000000001, 1.15971, 1.16547, 1.17146, 1.16926, 1.1581, 1.17079, 1.1759, 1.18092, 1.1745700000000001, 1.1795799999999999, 1.1703, 1.17234, 1.16339, 1.15873, 1.16812, 1.16336, 1.1667100000000001, 1.18011, 1.17915, 1.1779700000000002, 1.1744, 1.1670399999999999, 1.16618, 1.16225, 1.15877, 1.14554, 1.14933, 1.14378, 1.14153, 1.15295, 1.1479700000000002, 1.1520000000000001, 1.1628399999999999, 1.1732200000000002, 1.1775799999999998, 1.1747100000000001, 1.1971, 1.1875799999999999, 1.1911100000000001, 1.1915200000000001, 1.177, 1.17899, 1.194, 1.19071, 1.19928, 1.19805, 1.20811, 1.2107700000000001, 1.20855, 1.2166, 1.2218, 1.22543, 1.22145, 1.22187, 1.22756, 1.23173, 1.23302, 1.2410700000000001, 1.24231, 1.23739, 1.23956, 1.23927, 1.2446, 1.2452, 1.24272, 1.24892, 1.25492, 1.25925, 1.25454, 1.25832, 1.2675299999999998, 1.2725600000000001, 1.26322, 1.27661, 1.28149, 1.27493, 1.27714, 1.26473, 1.25766, 1.2396200000000002, 1.23478, 1.25787, 1.26425, 1.27183, 1.25797, 1.24575, 1.2643, 1.24681, 1.24072, 1.24747, 1.24237, 1.25407, 1.25327, 1.2546, 1.27026], \"high\": [1.13019, 1.1451, 1.14448, 1.1509200000000002, 1.1537600000000001, 1.16244, 1.15751, 1.15388, 1.14988, 1.1578600000000001, 1.17363, 1.17156, 1.1745299999999999, 1.17276, 1.18373, 1.18754, 1.193, 1.1845299999999999, 1.19008, 1.1915799999999999, 1.17672, 1.17783, 1.1747299999999998, 1.1886, 1.18785, 1.17859, 1.17415, 1.1782, 1.18058, 1.18774, 1.19278, 1.18662, 1.18039, 1.17387, 1.17347, 1.1603299999999999, 1.15811, 1.16215, 1.15523, 1.14675, 1.15141, 1.16079, 1.1568399999999999, 1.1544299999999998, 1.15019, 1.149, 1.1350799999999999, 1.13667, 1.13924, 1.1390799999999999, 1.1308, 1.1336899999999999, 1.12315, 1.1248799999999999, 1.13032, 1.1354600000000001, 1.13734, 1.14898, 1.15101, 1.15487, 1.15182, 1.1538, 1.1461, 1.13713, 1.12716, 1.13749, 1.13976, 1.14265, 1.1415, 1.13838, 1.13798, 1.13715, 1.1332200000000001, 1.13375, 1.12963, 1.1269, 1.11522, 1.11475, 1.11226, 1.09456, 1.09184, 1.09096, 1.0929799999999998, 1.09125, 1.09974, 1.10138, 1.09713, 1.08725, 1.09505, 1.1112600000000001, 1.11297, 1.12402, 1.12362, 1.12705, 1.13228, 1.1309799999999999, 1.1318, 1.1299700000000001, 1.13424, 1.13837, 1.15046, 1.1524299999999998, 1.15049, 1.15331, 1.14975, 1.16015, 1.17339, 1.17288, 1.17677, 1.17205, 1.1723700000000001, 1.18115, 1.1839600000000001, 1.18604, 1.1846700000000001, 1.1815, 1.1765, 1.1745, 1.1694799999999999, 1.1684299999999999, 1.17285, 1.17006, 1.18265, 1.18444, 1.18566, 1.1784299999999999, 1.17507, 1.1718, 1.1754200000000001, 1.16557, 1.16192, 1.1512200000000001, 1.1498, 1.14629, 1.15428, 1.15352, 1.15304, 1.1659899999999999, 1.1738, 1.1802, 1.18485, 1.1973799999999999, 1.1977200000000001, 1.19556, 1.19379, 1.19177, 1.18185, 1.19475, 1.19411, 1.20145, 1.20403, 1.20913, 1.21268, 1.21553, 1.21781, 1.22389, 1.22745, 1.2264899999999999, 1.2233100000000001, 1.23063, 1.2322600000000001, 1.23594, 1.2420799999999999, 1.2438200000000001, 1.24346, 1.2445899999999999, 1.2425, 1.24702, 1.2462, 1.2469299999999999, 1.25078, 1.25613, 1.2646, 1.26052, 1.26282, 1.26935, 1.28093, 1.27417, 1.27796, 1.2867600000000001, 1.2897100000000001, 1.27957, 1.27878, 1.2670700000000001, 1.26091, 1.2423, 1.25952, 1.2671, 1.27485, 1.27742, 1.2610700000000001, 1.2651700000000001, 1.2661799999999999, 1.25265, 1.24911, 1.24858, 1.25973, 1.25609, 1.2636399999999999, 1.27243], \"low\": [1.1203, 1.1273799999999998, 1.13275, 1.13026, 1.14362, 1.14946, 1.1463, 1.14681, 1.13757, 1.13691, 1.16215, 1.1601299999999999, 1.1661700000000002, 1.16192, 1.16648, 1.17972, 1.1817600000000001, 1.1704700000000001, 1.16917, 1.17439, 1.16524, 1.16875, 1.16619, 1.16287, 1.1684299999999999, 1.16564, 1.1670399999999999, 1.16581, 1.17036, 1.17354, 1.18208, 1.1768399999999999, 1.16611, 1.15836, 1.15511, 1.15081, 1.1476600000000001, 1.14913, 1.1414, 1.13994, 1.13974, 1.15025, 1.15049, 1.14326, 1.1447200000000002, 1.13132, 1.1258700000000001, 1.13047, 1.1309799999999999, 1.1275899999999999, 1.12426, 1.1156, 1.11123, 1.11562, 1.11717, 1.12411, 1.13058, 1.13139, 1.1423299999999998, 1.14439, 1.14515, 1.1451, 1.13352, 1.12237, 1.11348, 1.12581, 1.1306399999999999, 1.1325399999999999, 1.13183, 1.12866, 1.12628, 1.12758, 1.12189, 1.1224399999999999, 1.1240299999999999, 1.1123299999999998, 1.10545, 1.1079299999999999, 1.08846, 1.0836299999999999, 1.08453, 1.0793, 1.08313, 1.08097, 1.0868799999999998, 1.09517, 1.08029, 1.07616, 1.08064, 1.09159, 1.10461, 1.10524, 1.1162, 1.1154700000000002, 1.1134600000000001, 1.12411, 1.11538, 1.11382, 1.1226399999999999, 1.12382, 1.14134, 1.1435799999999998, 1.14273, 1.14578, 1.14404, 1.13941, 1.15705, 1.16424, 1.16612, 1.155, 1.1532200000000001, 1.16975, 1.17587, 1.1684, 1.17022, 1.16523, 1.15818, 1.15906, 1.15734, 1.15526, 1.16016, 1.1616799999999998, 1.16477, 1.17561, 1.17601, 1.1717600000000001, 1.1654799999999998, 1.16584, 1.1616, 1.15628, 1.14275, 1.14262, 1.1413, 1.13886, 1.13783, 1.1462700000000001, 1.14431, 1.1503, 1.16251, 1.1727100000000001, 1.17245, 1.17327, 1.18733, 1.18711, 1.18567, 1.17565, 1.17519, 1.17686, 1.18831, 1.18972, 1.19364, 1.19407, 1.2069299999999998, 1.2029, 1.2061600000000001, 1.21476, 1.21869, 1.21523, 1.21123, 1.22071, 1.21288, 1.23, 1.22948, 1.23587, 1.2343, 1.23479, 1.23823, 1.23924, 1.24342, 1.2420799999999999, 1.24221, 1.24758, 1.25132, 1.24698, 1.25214, 1.25795, 1.2666600000000001, 1.2623, 1.2559, 1.27034, 1.27342, 1.27119, 1.26296, 1.25614, 1.23504, 1.23337, 1.2342600000000001, 1.25504, 1.26346, 1.25631, 1.24567, 1.24403, 1.2462799999999998, 1.23617, 1.23506, 1.2389700000000001, 1.24139, 1.24929, 1.25177, 1.25118], \"open\": [1.12354, 1.12798, 1.14367, 1.13675, 1.15002, 1.1495799999999998, 1.1542700000000001, 1.1519, 1.14983, 1.13845, 1.16634, 1.1659, 1.17059, 1.16724, 1.16947, 1.1827, 1.1867, 1.18261, 1.1765700000000001, 1.1882700000000002, 1.17149, 1.17496, 1.17365, 1.16635, 1.1838899999999999, 1.1694, 1.17146, 1.16746, 1.17429, 1.17652, 1.1869399999999999, 1.1838600000000001, 1.1791399999999999, 1.1684, 1.172, 1.16025, 1.15444, 1.15188, 1.15449, 1.14215, 1.1430799999999999, 1.15154, 1.15619, 1.15415, 1.14935, 1.1487, 1.13247, 1.1317700000000002, 1.13479, 1.13877, 1.12934, 1.1277700000000002, 1.11845, 1.12119, 1.12045, 1.12685, 1.1346100000000001, 1.13267, 1.14835, 1.14749, 1.1508399999999999, 1.14947, 1.14572, 1.13437, 1.1242, 1.1284299999999998, 1.1361299999999999, 1.13867, 1.13315, 1.13716, 1.1289799999999999, 1.13588, 1.12837, 1.1323299999999998, 1.12635, 1.1249, 1.11485, 1.1138, 1.1119299999999999, 1.0920299999999998, 1.08566, 1.0874, 1.08544, 1.08856, 1.08843, 1.09943, 1.0966799999999999, 1.08117, 1.08495, 1.0944399999999999, 1.11043, 1.10695, 1.12239, 1.1210200000000001, 1.12094, 1.12745, 1.1284100000000001, 1.11782, 1.1284299999999998, 1.1257, 1.14343, 1.14588, 1.14445, 1.14951, 1.14896, 1.1455799999999998, 1.1601, 1.16585, 1.17193, 1.16943, 1.15655, 1.1711200000000002, 1.1764700000000001, 1.18097, 1.17467, 1.18109, 1.1706, 1.17264, 1.16378, 1.1586, 1.17098, 1.16362, 1.16654, 1.18021, 1.17903, 1.1774200000000001, 1.17441, 1.16701, 1.16602, 1.16228, 1.15778, 1.14573, 1.14921, 1.14391, 1.14165, 1.15034, 1.14798, 1.1521, 1.1632799999999999, 1.17325, 1.17764, 1.17479, 1.19696, 1.1875, 1.19127, 1.19084, 1.17718, 1.1790200000000002, 1.19392, 1.19068, 1.19717, 1.1982, 1.20793, 1.2109, 1.20821, 1.21725, 1.22173, 1.22576, 1.22151, 1.22213, 1.2141899999999999, 1.2316799999999999, 1.23291, 1.24091, 1.2422, 1.24025, 1.23948, 1.23943, 1.24448, 1.24499, 1.24258, 1.249, 1.25495, 1.25931, 1.2543600000000001, 1.25832, 1.26736, 1.27244, 1.26306, 1.27653, 1.28538, 1.27473, 1.27736, 1.2645600000000001, 1.25753, 1.23676, 1.23496, 1.25786, 1.26405, 1.2716399999999999, 1.25742, 1.24604, 1.26445, 1.24681, 1.24062, 1.24696, 1.24248, 1.25423, 1.25345, 1.25471], \"type\": \"candlestick\", \"x\": [0, 1, 2, 3, 4, 5, 6, 7, 8, 9, 10, 11, 12, 13, 14, 15, 16, 17, 18, 19, 20, 21, 22, 23, 24, 25, 26, 27, 28, 29, 30, 31, 32, 33, 34, 35, 36, 37, 38, 39, 40, 41, 42, 43, 44, 45, 46, 47, 48, 49, 50, 51, 52, 53, 54, 55, 56, 57, 58, 59, 60, 61, 62, 63, 64, 65, 66, 67, 68, 69, 70, 71, 72, 73, 74, 75, 76, 77, 78, 79, 80, 81, 82, 83, 84, 85, 86, 87, 88, 89, 90, 91, 92, 93, 94, 95, 96, 97, 98, 99, 100, 101, 102, 103, 104, 105, 106, 107, 108, 109, 110, 111, 112, 113, 114, 115, 116, 117, 118, 119, 120, 121, 122, 123, 124, 125, 126, 127, 128, 129, 130, 131, 132, 133, 134, 135, 136, 137, 138, 139, 140, 141, 142, 143, 144, 145, 146, 147, 148, 149, 150, 151, 152, 153, 154, 155, 156, 157, 158, 159, 160, 161, 162, 163, 164, 165, 166, 167, 168, 169, 170, 171, 172, 173, 174, 175, 176, 177, 178, 179, 180, 181, 182, 183, 184, 185, 186, 187, 188, 189, 190, 191, 192, 193, 194, 195, 196, 197, 198, 199]}],\n",
              "                        {\"shapes\": [{\"line\": {\"color\": \"MediumPurple\", \"width\": 3}, \"type\": \"line\", \"x0\": 40, \"x1\": 200, \"y0\": 1.13974, \"y1\": 1.13974}, {\"line\": {\"color\": \"MediumPurple\", \"width\": 3}, \"type\": \"line\", \"x0\": 46, \"x1\": 200, \"y0\": 1.1258700000000001, \"y1\": 1.1258700000000001}, {\"line\": {\"color\": \"MediumPurple\", \"width\": 3}, \"type\": \"line\", \"x0\": 52, \"x1\": 200, \"y0\": 1.11123, \"y1\": 1.11123}, {\"line\": {\"color\": \"MediumPurple\", \"width\": 3}, \"type\": \"line\", \"x0\": 64, \"x1\": 200, \"y0\": 1.11348, \"y1\": 1.11348}, {\"line\": {\"color\": \"MediumPurple\", \"width\": 3}, \"type\": \"line\", \"x0\": 87, \"x1\": 200, \"y0\": 1.07616, \"y1\": 1.07616}, {\"line\": {\"color\": \"MediumPurple\", \"width\": 3}, \"type\": \"line\", \"x0\": 97, \"x1\": 200, \"y0\": 1.11382, \"y1\": 1.11382}, {\"line\": {\"color\": \"MediumPurple\", \"width\": 3}, \"type\": \"line\", \"x0\": 105, \"x1\": 200, \"y0\": 1.13941, \"y1\": 1.13941}, {\"line\": {\"color\": \"MediumPurple\", \"width\": 3}, \"type\": \"line\", \"x0\": 110, \"x1\": 200, \"y0\": 1.1532200000000001, \"y1\": 1.1532200000000001}, {\"line\": {\"color\": \"MediumPurple\", \"width\": 3}, \"type\": \"line\", \"x0\": 119, \"x1\": 200, \"y0\": 1.15526, \"y1\": 1.15526}, {\"line\": {\"color\": \"MediumPurple\", \"width\": 3}, \"type\": \"line\", \"x0\": 146, \"x1\": 200, \"y0\": 1.17519, \"y1\": 1.17519}, {\"line\": {\"color\": \"MediumPurple\", \"width\": 3}, \"type\": \"line\", \"x0\": 178, \"x1\": 200, \"y0\": 1.2559, \"y1\": 1.2559}, {\"line\": {\"color\": \"MediumPurple\", \"width\": 3}, \"type\": \"line\", \"x0\": 185, \"x1\": 200, \"y0\": 1.23337, \"y1\": 1.23337}, {\"line\": {\"color\": \"MediumPurple\", \"width\": 3}, \"type\": \"line\", \"x0\": 194, \"x1\": 200, \"y0\": 1.23506, \"y1\": 1.23506}, {\"line\": {\"color\": \"RoyalBlue\", \"width\": 1}, \"type\": \"line\", \"x0\": 5, \"x1\": 200, \"y0\": 1.16244, \"y1\": 1.16244}, {\"line\": {\"color\": \"RoyalBlue\", \"width\": 1}, \"type\": \"line\", \"x0\": 30, \"x1\": 200, \"y0\": 1.19278, \"y1\": 1.19278}, {\"line\": {\"color\": \"RoyalBlue\", \"width\": 1}, \"type\": \"line\", \"x0\": 41, \"x1\": 200, \"y0\": 1.16079, \"y1\": 1.16079}, {\"line\": {\"color\": \"RoyalBlue\", \"width\": 1}, \"type\": \"line\", \"x0\": 48, \"x1\": 200, \"y0\": 1.13924, \"y1\": 1.13924}, {\"line\": {\"color\": \"RoyalBlue\", \"width\": 1}, \"type\": \"line\", \"x0\": 67, \"x1\": 200, \"y0\": 1.14265, \"y1\": 1.14265}, {\"line\": {\"color\": \"RoyalBlue\", \"width\": 1}, \"type\": \"line\", \"x0\": 85, \"x1\": 200, \"y0\": 1.10138, \"y1\": 1.10138}, {\"line\": {\"color\": \"RoyalBlue\", \"width\": 1}, \"type\": \"line\", \"x0\": 113, \"x1\": 200, \"y0\": 1.18604, \"y1\": 1.18604}, {\"line\": {\"color\": \"RoyalBlue\", \"width\": 1}, \"type\": \"line\", \"x0\": 124, \"x1\": 200, \"y0\": 1.18566, \"y1\": 1.18566}, {\"line\": {\"color\": \"RoyalBlue\", \"width\": 1}, \"type\": \"line\", \"x0\": 142, \"x1\": 200, \"y0\": 1.1977200000000001, \"y1\": 1.1977200000000001}, {\"line\": {\"color\": \"RoyalBlue\", \"width\": 1}, \"type\": \"line\", \"x0\": 156, \"x1\": 200, \"y0\": 1.22745, \"y1\": 1.22745}, {\"line\": {\"color\": \"RoyalBlue\", \"width\": 1}, \"type\": \"line\", \"x0\": 180, \"x1\": 200, \"y0\": 1.2897100000000001, \"y1\": 1.2897100000000001}, {\"line\": {\"color\": \"RoyalBlue\", \"width\": 1}, \"type\": \"line\", \"x0\": 192, \"x1\": 200, \"y0\": 1.2661799999999999, \"y1\": 1.2661799999999999}], \"template\": {\"data\": {\"bar\": [{\"error_x\": {\"color\": \"#2a3f5f\"}, \"error_y\": {\"color\": \"#2a3f5f\"}, \"marker\": {\"line\": {\"color\": \"#E5ECF6\", \"width\": 0.5}}, \"type\": \"bar\"}], \"barpolar\": [{\"marker\": {\"line\": {\"color\": \"#E5ECF6\", \"width\": 0.5}}, \"type\": \"barpolar\"}], \"carpet\": [{\"aaxis\": {\"endlinecolor\": \"#2a3f5f\", \"gridcolor\": \"white\", \"linecolor\": \"white\", \"minorgridcolor\": \"white\", \"startlinecolor\": \"#2a3f5f\"}, \"baxis\": {\"endlinecolor\": \"#2a3f5f\", \"gridcolor\": \"white\", \"linecolor\": \"white\", \"minorgridcolor\": \"white\", \"startlinecolor\": \"#2a3f5f\"}, \"type\": \"carpet\"}], \"choropleth\": [{\"colorbar\": {\"outlinewidth\": 0, \"ticks\": \"\"}, \"type\": \"choropleth\"}], \"contour\": [{\"colorbar\": {\"outlinewidth\": 0, \"ticks\": \"\"}, \"colorscale\": [[0.0, \"#0d0887\"], [0.1111111111111111, \"#46039f\"], [0.2222222222222222, \"#7201a8\"], [0.3333333333333333, \"#9c179e\"], [0.4444444444444444, \"#bd3786\"], [0.5555555555555556, \"#d8576b\"], [0.6666666666666666, \"#ed7953\"], [0.7777777777777778, \"#fb9f3a\"], [0.8888888888888888, \"#fdca26\"], [1.0, \"#f0f921\"]], \"type\": \"contour\"}], \"contourcarpet\": [{\"colorbar\": {\"outlinewidth\": 0, \"ticks\": \"\"}, \"type\": \"contourcarpet\"}], \"heatmap\": [{\"colorbar\": {\"outlinewidth\": 0, \"ticks\": \"\"}, \"colorscale\": [[0.0, \"#0d0887\"], [0.1111111111111111, \"#46039f\"], [0.2222222222222222, \"#7201a8\"], [0.3333333333333333, \"#9c179e\"], [0.4444444444444444, \"#bd3786\"], [0.5555555555555556, \"#d8576b\"], [0.6666666666666666, \"#ed7953\"], [0.7777777777777778, \"#fb9f3a\"], [0.8888888888888888, \"#fdca26\"], [1.0, \"#f0f921\"]], \"type\": \"heatmap\"}], \"heatmapgl\": [{\"colorbar\": {\"outlinewidth\": 0, \"ticks\": \"\"}, \"colorscale\": [[0.0, \"#0d0887\"], [0.1111111111111111, \"#46039f\"], [0.2222222222222222, \"#7201a8\"], [0.3333333333333333, \"#9c179e\"], [0.4444444444444444, \"#bd3786\"], [0.5555555555555556, \"#d8576b\"], [0.6666666666666666, \"#ed7953\"], [0.7777777777777778, \"#fb9f3a\"], [0.8888888888888888, \"#fdca26\"], [1.0, \"#f0f921\"]], \"type\": \"heatmapgl\"}], \"histogram\": [{\"marker\": {\"colorbar\": {\"outlinewidth\": 0, \"ticks\": \"\"}}, \"type\": \"histogram\"}], \"histogram2d\": [{\"colorbar\": {\"outlinewidth\": 0, \"ticks\": \"\"}, \"colorscale\": [[0.0, \"#0d0887\"], [0.1111111111111111, \"#46039f\"], [0.2222222222222222, \"#7201a8\"], [0.3333333333333333, \"#9c179e\"], [0.4444444444444444, \"#bd3786\"], [0.5555555555555556, \"#d8576b\"], [0.6666666666666666, \"#ed7953\"], [0.7777777777777778, \"#fb9f3a\"], [0.8888888888888888, \"#fdca26\"], [1.0, \"#f0f921\"]], \"type\": \"histogram2d\"}], \"histogram2dcontour\": [{\"colorbar\": {\"outlinewidth\": 0, \"ticks\": \"\"}, \"colorscale\": [[0.0, \"#0d0887\"], [0.1111111111111111, \"#46039f\"], [0.2222222222222222, \"#7201a8\"], [0.3333333333333333, \"#9c179e\"], [0.4444444444444444, \"#bd3786\"], [0.5555555555555556, \"#d8576b\"], [0.6666666666666666, \"#ed7953\"], [0.7777777777777778, \"#fb9f3a\"], [0.8888888888888888, \"#fdca26\"], [1.0, \"#f0f921\"]], \"type\": \"histogram2dcontour\"}], \"mesh3d\": [{\"colorbar\": {\"outlinewidth\": 0, \"ticks\": \"\"}, \"type\": \"mesh3d\"}], \"parcoords\": [{\"line\": {\"colorbar\": {\"outlinewidth\": 0, \"ticks\": \"\"}}, \"type\": \"parcoords\"}], \"pie\": [{\"automargin\": true, \"type\": \"pie\"}], \"scatter\": [{\"marker\": {\"colorbar\": {\"outlinewidth\": 0, \"ticks\": \"\"}}, \"type\": \"scatter\"}], \"scatter3d\": [{\"line\": {\"colorbar\": {\"outlinewidth\": 0, \"ticks\": \"\"}}, \"marker\": {\"colorbar\": {\"outlinewidth\": 0, \"ticks\": \"\"}}, \"type\": \"scatter3d\"}], \"scattercarpet\": [{\"marker\": {\"colorbar\": {\"outlinewidth\": 0, \"ticks\": \"\"}}, \"type\": \"scattercarpet\"}], \"scattergeo\": [{\"marker\": {\"colorbar\": {\"outlinewidth\": 0, \"ticks\": \"\"}}, \"type\": \"scattergeo\"}], \"scattergl\": [{\"marker\": {\"colorbar\": {\"outlinewidth\": 0, \"ticks\": \"\"}}, \"type\": \"scattergl\"}], \"scattermapbox\": [{\"marker\": {\"colorbar\": {\"outlinewidth\": 0, \"ticks\": \"\"}}, \"type\": \"scattermapbox\"}], \"scatterpolar\": [{\"marker\": {\"colorbar\": {\"outlinewidth\": 0, \"ticks\": \"\"}}, \"type\": \"scatterpolar\"}], \"scatterpolargl\": [{\"marker\": {\"colorbar\": {\"outlinewidth\": 0, \"ticks\": \"\"}}, \"type\": \"scatterpolargl\"}], \"scatterternary\": [{\"marker\": {\"colorbar\": {\"outlinewidth\": 0, \"ticks\": \"\"}}, \"type\": \"scatterternary\"}], \"surface\": [{\"colorbar\": {\"outlinewidth\": 0, \"ticks\": \"\"}, \"colorscale\": [[0.0, \"#0d0887\"], [0.1111111111111111, \"#46039f\"], [0.2222222222222222, \"#7201a8\"], [0.3333333333333333, \"#9c179e\"], [0.4444444444444444, \"#bd3786\"], [0.5555555555555556, \"#d8576b\"], [0.6666666666666666, \"#ed7953\"], [0.7777777777777778, \"#fb9f3a\"], [0.8888888888888888, \"#fdca26\"], [1.0, \"#f0f921\"]], \"type\": \"surface\"}], \"table\": [{\"cells\": {\"fill\": {\"color\": \"#EBF0F8\"}, \"line\": {\"color\": \"white\"}}, \"header\": {\"fill\": {\"color\": \"#C8D4E3\"}, \"line\": {\"color\": \"white\"}}, \"type\": \"table\"}]}, \"layout\": {\"annotationdefaults\": {\"arrowcolor\": \"#2a3f5f\", \"arrowhead\": 0, \"arrowwidth\": 1}, \"coloraxis\": {\"colorbar\": {\"outlinewidth\": 0, \"ticks\": \"\"}}, \"colorscale\": {\"diverging\": [[0, \"#8e0152\"], [0.1, \"#c51b7d\"], [0.2, \"#de77ae\"], [0.3, \"#f1b6da\"], [0.4, \"#fde0ef\"], [0.5, \"#f7f7f7\"], [0.6, \"#e6f5d0\"], [0.7, \"#b8e186\"], [0.8, \"#7fbc41\"], [0.9, \"#4d9221\"], [1, \"#276419\"]], \"sequential\": [[0.0, \"#0d0887\"], [0.1111111111111111, \"#46039f\"], [0.2222222222222222, \"#7201a8\"], [0.3333333333333333, \"#9c179e\"], [0.4444444444444444, \"#bd3786\"], [0.5555555555555556, \"#d8576b\"], [0.6666666666666666, \"#ed7953\"], [0.7777777777777778, \"#fb9f3a\"], [0.8888888888888888, \"#fdca26\"], [1.0, \"#f0f921\"]], \"sequentialminus\": [[0.0, \"#0d0887\"], [0.1111111111111111, \"#46039f\"], [0.2222222222222222, \"#7201a8\"], [0.3333333333333333, \"#9c179e\"], [0.4444444444444444, \"#bd3786\"], [0.5555555555555556, \"#d8576b\"], [0.6666666666666666, \"#ed7953\"], [0.7777777777777778, \"#fb9f3a\"], [0.8888888888888888, \"#fdca26\"], [1.0, \"#f0f921\"]]}, \"colorway\": [\"#636efa\", \"#EF553B\", \"#00cc96\", \"#ab63fa\", \"#FFA15A\", \"#19d3f3\", \"#FF6692\", \"#B6E880\", \"#FF97FF\", \"#FECB52\"], \"font\": {\"color\": \"#2a3f5f\"}, \"geo\": {\"bgcolor\": \"white\", \"lakecolor\": \"white\", \"landcolor\": \"#E5ECF6\", \"showlakes\": true, \"showland\": true, \"subunitcolor\": \"white\"}, \"hoverlabel\": {\"align\": \"left\"}, \"hovermode\": \"closest\", \"mapbox\": {\"style\": \"light\"}, \"paper_bgcolor\": \"white\", \"plot_bgcolor\": \"#E5ECF6\", \"polar\": {\"angularaxis\": {\"gridcolor\": \"white\", \"linecolor\": \"white\", \"ticks\": \"\"}, \"bgcolor\": \"#E5ECF6\", \"radialaxis\": {\"gridcolor\": \"white\", \"linecolor\": \"white\", \"ticks\": \"\"}}, \"scene\": {\"xaxis\": {\"backgroundcolor\": \"#E5ECF6\", \"gridcolor\": \"white\", \"gridwidth\": 2, \"linecolor\": \"white\", \"showbackground\": true, \"ticks\": \"\", \"zerolinecolor\": \"white\"}, \"yaxis\": {\"backgroundcolor\": \"#E5ECF6\", \"gridcolor\": \"white\", \"gridwidth\": 2, \"linecolor\": \"white\", \"showbackground\": true, \"ticks\": \"\", \"zerolinecolor\": \"white\"}, \"zaxis\": {\"backgroundcolor\": \"#E5ECF6\", \"gridcolor\": \"white\", \"gridwidth\": 2, \"linecolor\": \"white\", \"showbackground\": true, \"ticks\": \"\", \"zerolinecolor\": \"white\"}}, \"shapedefaults\": {\"line\": {\"color\": \"#2a3f5f\"}}, \"ternary\": {\"aaxis\": {\"gridcolor\": \"white\", \"linecolor\": \"white\", \"ticks\": \"\"}, \"baxis\": {\"gridcolor\": \"white\", \"linecolor\": \"white\", \"ticks\": \"\"}, \"bgcolor\": \"#E5ECF6\", \"caxis\": {\"gridcolor\": \"white\", \"linecolor\": \"white\", \"ticks\": \"\"}}, \"title\": {\"x\": 0.05}, \"xaxis\": {\"automargin\": true, \"gridcolor\": \"white\", \"linecolor\": \"white\", \"ticks\": \"\", \"title\": {\"standoff\": 15}, \"zerolinecolor\": \"white\", \"zerolinewidth\": 2}, \"yaxis\": {\"automargin\": true, \"gridcolor\": \"white\", \"linecolor\": \"white\", \"ticks\": \"\", \"title\": {\"standoff\": 15}, \"zerolinecolor\": \"white\", \"zerolinewidth\": 2}}}},\n",
              "                        {\"responsive\": true}\n",
              "                    ).then(function(){\n",
              "                            \n",
              "var gd = document.getElementById('6b9a3b74-976e-4452-bc4e-e53d9497889e');\n",
              "var x = new MutationObserver(function (mutations, observer) {{\n",
              "        var display = window.getComputedStyle(gd).display;\n",
              "        if (!display || display === 'none') {{\n",
              "            console.log([gd, 'removed!']);\n",
              "            Plotly.purge(gd);\n",
              "            observer.disconnect();\n",
              "        }}\n",
              "}});\n",
              "\n",
              "// Listen for the removal of the full notebook cells\n",
              "var notebookContainer = gd.closest('#notebook-container');\n",
              "if (notebookContainer) {{\n",
              "    x.observe(notebookContainer, {childList: true});\n",
              "}}\n",
              "\n",
              "// Listen for the clearing of the current output cell\n",
              "var outputEl = gd.closest('.output');\n",
              "if (outputEl) {{\n",
              "    x.observe(outputEl, {childList: true});\n",
              "}}\n",
              "\n",
              "                        })\n",
              "                };\n",
              "                });\n",
              "            </script>\n",
              "        </div>"
            ]
          },
          "metadata": {},
          "output_type": "display_data"
        }
      ],
      "source": [
        "s = 0\n",
        "e = 200\n",
        "dfpl = df[s:e]\n",
        "import plotly.graph_objects as go\n",
        "from datetime import datetime\n",
        "import matplotlib.pyplot as plt\n",
        "\n",
        "fig = go.Figure(data=[go.Candlestick(x=dfpl.index,\n",
        "                open=dfpl['open'],\n",
        "                high=dfpl['high'],\n",
        "                low=dfpl['low'],\n",
        "                close=dfpl['close'])])\n",
        "\n",
        "c=0\n",
        "while (1):\n",
        "    if(c>len(ss)-1 ):\n",
        "        break\n",
        "    fig.add_shape(type='line', x0=ss[c][0], y0=ss[c][1],\n",
        "                  x1=e,\n",
        "                  y1=ss[c][1],\n",
        "                  line=dict(color=\"MediumPurple\",width=3)\n",
        "                  )\n",
        "    c+=1\n",
        "\n",
        "c=0\n",
        "while (1):\n",
        "    if(c>len(rr)-1 ):\n",
        "        break\n",
        "    fig.add_shape(type='line', x0=rr[c][0], y0=rr[c][1],\n",
        "                  x1=e,\n",
        "                  y1=rr[c][1],\n",
        "                  line=dict(color=\"RoyalBlue\",width=1)\n",
        "                  )\n",
        "    c+=1    \n",
        "\n",
        "fig.show()"
      ]
    },
    {
      "cell_type": "code",
      "execution_count": null,
      "metadata": {
        "id": "uKpuGlYFq4wY"
      },
      "outputs": [],
      "source": []
    },
    {
      "cell_type": "code",
      "execution_count": null,
      "metadata": {
        "id": "vKND901gq4wZ"
      },
      "outputs": [],
      "source": []
    }
  ],
  "metadata": {
    "kernelspec": {
      "display_name": "Python 3",
      "language": "python",
      "name": "python3"
    },
    "language_info": {
      "codemirror_mode": {
        "name": "ipython",
        "version": 3
      },
      "file_extension": ".py",
      "mimetype": "text/x-python",
      "name": "python",
      "nbconvert_exporter": "python",
      "pygments_lexer": "ipython3",
      "version": "3.7.3"
    },
    "colab": {
      "provenance": [],
      "include_colab_link": true
    }
  },
  "nbformat": 4,
  "nbformat_minor": 0
}